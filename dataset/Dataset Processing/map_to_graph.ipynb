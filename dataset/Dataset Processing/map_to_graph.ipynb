{
 "cells": [
  {
   "cell_type": "code",
   "execution_count": 1,
   "metadata": {
    "id": "D8fwd6eFVZz4"
   },
   "outputs": [],
   "source": [
    "import osmnx as ox\n",
    "import networkx as nx\n",
    "import plotly.graph_objects as go\n",
    "import numpy as np\n",
    "import matplotlib.pyplot as plt\n",
    "import random as rd"
   ]
  },
  {
   "cell_type": "code",
   "execution_count": 2,
   "metadata": {
    "colab": {
     "base_uri": "https://localhost:8080/",
     "height": 843
    },
    "id": "FK1JELL63JS1",
    "outputId": "acc4f092-0064-4809-9999-6650f1fecb06"
   },
   "outputs": [
    {
     "name": "stdout",
     "output_type": "stream",
     "text": [
      "Montana US\n"
     ]
    },
    {
     "data": {
      "image/png": "[encoded data removed]",
      "text/plain": [
       "<Figure size 576x576 with 1 Axes>"
      ]
     },
     "metadata": {},
     "output_type": "display_data"
    },
    {
     "name": "stdout",
     "output_type": "stream",
     "text": [
      "Lewistowm, Montana State roadnetwok represented as Undirected graph\n",
      "49\n",
      "83\n",
      "MultiDiGraph with 49 nodes and 83 edges\n"
     ]
    },
    {
     "data": {
      "image/png": "[encoded data removed]",
      "text/plain": [
       "<Figure size 576x576 with 1 Axes>"
      ]
     },
     "metadata": {},
     "output_type": "display_data"
    },
    {
     "data": {
      "text/plain": [
       "(<Figure size 576x576 with 1 Axes>, <AxesSubplot:>)"
      ]
     },
     "execution_count": 2,
     "metadata": {},
     "output_type": "execute_result"
    }
   ],
   "source": [
    "print('Montana US')\n",
    "state = ox.geocode_to_gdf('Montana, US') \n",
    "ox.plot_footprints(ox.project_gdf(state))\n",
    "\n",
    "\n",
    "print(\"Lewistowm, Montana State roadnetwok represented as Undirected graph\")\n",
    "north, east, south, west = 45.785, -110.953, 45.558, -111.255 \n",
    "# Downloading the map as a graph object \n",
    "G = ox.graph_from_bbox(north, south, east, west, retain_all=False, custom_filter='[\"highway\"~\"secondary\"]')\n",
    "print(len(list(G.nodes(data=True))))\n",
    "print(len(list(G.edges(data=True)))) \n",
    "print(G)\n",
    "# Plotting the map graph \n",
    "ox.plot_graph(G)"
   ]
  },
  {
   "cell_type": "code",
   "execution_count": 3,
   "metadata": {
    "id": "woyTxq_0Hm2X"
   },
   "outputs": [],
   "source": [
    "def createGraph(depotNodes ,requiredEdges, pos, numNodes, s, t, weights, show=True):\n",
    "    G = nx.Graph()\n",
    "    edges = []\n",
    "#     pos = {}\n",
    "#     reqPos = {}\n",
    "#     s = [1, 1, 2, 2, 3, 3, 4, 4, 4, 5, 6, 7]\n",
    "#     t = [2, 3, 4, 6, 4, 5, 5, 7, 6, 8, 7, 8]\n",
    "#     weights = [2.3, 2, 3, 1.5, 3.2, 2.2, 3.8, 2.6, 2.2, 2.8, 1.8, 0.8]\n",
    "#     xData = [-2, -0.5, -1,   0, 1,  1.5, 2,   2.5];\n",
    "#     yData = [ 0, -2,    2.5, 0, 3, -2,   0.3, 1.5];\n",
    "    \n",
    "    for i in range(len(s)):\n",
    "        edges.append((s[i], t[i], weights[i]))\n",
    "    \n",
    "    for i in range(1, numNodes+1):\n",
    "        G.add_node(i)\n",
    "#         pos[i] =(xData[i-1], yData[i-1])\n",
    "    # pos = nx.spring_layout(G)\n",
    "    print(pos)\n",
    "    node_color = ['y']*int(G.number_of_nodes())\n",
    "    depot_node_color = node_color\n",
    "    for i in range(1, len(node_color)+1):\n",
    "        if i in depotNodes:\n",
    "            depot_node_color[i-1] = 'g'\n",
    "            \n",
    "    G.add_weighted_edges_from(edges)\n",
    "    labels = nx.get_edge_attributes(G,'weight')\n",
    "    nx.draw_networkx(G,pos, node_color = node_color)\n",
    "    nx.draw_networkx(G,pos, node_color = depot_node_color)\n",
    "    nx.draw_networkx_edges(G, pos, edgelist=requiredEdges, width=3, alpha=0.5,\n",
    "                                        edge_color=\"r\")\n",
    "    # nx.draw_networkx_edge_labels(G, pos, edge_labels=labels)\n",
    "    if show:\n",
    "        plt.figure(1)\n",
    "#         plt.show()\n",
    "    return G,pos, depot_node_color"
   ]
  },
  {
   "cell_type": "code",
   "execution_count": 9,
   "metadata": {
    "colab": {
     "base_uri": "https://localhost:8080/",
     "height": 1000
    },
    "id": "HnqBLq4WHmuD",
    "outputId": "a1b1385e-8727-4c9d-88ad-a80b1ce5fa42"
   },
   "outputs": [
    {
     "name": "stdout",
     "output_type": "stream",
     "text": [
      "{1: array([-111.046309,   45.698085]), 2: array([-111.0460967,   45.6980773]), 3: array([-111.0730642,   45.7201505]), 4: array([-111.066621 ,   45.7206188]), 5: array([-111.066884,   45.718751]), 6: array([-111.0626269,   45.6784485]), 7: array([-111.1848846,   45.7802117]), 8: array([-111.089727,   45.730517]), 9: array([-111.0654327,   45.7115391]), 10: array([-111.185046 ,   45.7292643]), 11: array([-111.046179,   45.704777]), 12: array([-111.0909946,   45.7290555]), 13: array([-111.1848855,   45.7794703]), 14: array([-111.065274 ,   45.7115028]), 15: array([-111.0654085,   45.7116884]), 16: array([-111.1623847,   45.7733421]), 17: array([-111.1621936,   45.7735925]), 18: array([-111.1624162,   45.7737008]), 19: array([-111.1623132,   45.7744283]), 20: array([-111.1614883,   45.7749471]), 21: array([-111.1620124,   45.7751293]), 22: array([-111.1624313,   45.7612954]), 23: array([-111.1627588,   45.7657636]), 24: array([-111.1612564,   45.7680336]), 25: array([-111.0652413,   45.7116407]), 26: array([-111.0666063,   45.7204986]), 27: array([-111.1842873,   45.7799023]), 28: array([-111.161792 ,   45.7743218]), 29: array([-111.1621971,   45.7734459]), 30: array([-111.1625028,   45.7736942]), 31: array([-111.1628965,   45.773838 ]), 32: array([-111.1615426,   45.7728972]), 33: array([-111.1626906,   45.7735098]), 34: array([-111.1631762,   45.7658475]), 35: array([-111.1631441,   45.7649023]), 36: array([-111.1626024,   45.7659579]), 37: array([-111.1623748,   45.7668031]), 38: array([-111.1629401,   45.7661619]), 39: array([-111.1621039,   45.7611923]), 40: array([-111.1626018,   45.7626318]), 41: array([-111.104121 ,   45.6712499]), 42: array([-111.1042115,   45.6641318]), 43: array([-111.104299 ,   45.6712491]), 44: array([-111.1041627,   45.6579457]), 45: array([-111.104183 ,   45.6549153]), 46: array([-111.1040535,   45.656657 ]), 47: array([-111.1040343,   45.6564387]), 48: array([-111.1037754,   45.6564214]), 49: array([-111.1037149,   45.6566508])}\n"
     ]
    },
    {
     "data": {
      "text/plain": [
       "(<networkx.classes.graph.Graph at 0x1d3127deb20>,\n",
       " {1: array([-111.046309,   45.698085]),\n",
       "  2: array([-111.0460967,   45.6980773]),\n",
       "  3: array([-111.0730642,   45.7201505]),\n",
       "  4: array([-111.066621 ,   45.7206188]),\n",
       "  5: array([-111.066884,   45.718751]),\n",
       "  6: array([-111.0626269,   45.6784485]),\n",
       "  7: array([-111.1848846,   45.7802117]),\n",
       "  8: array([-111.089727,   45.730517]),\n",
       "  9: array([-111.0654327,   45.7115391]),\n",
       "  10: array([-111.185046 ,   45.7292643]),\n",
       "  11: array([-111.046179,   45.704777]),\n",
       "  12: array([-111.0909946,   45.7290555]),\n",
       "  13: array([-111.1848855,   45.7794703]),\n",
       "  14: array([-111.065274 ,   45.7115028]),\n",
       "  15: array([-111.0654085,   45.7116884]),\n",
       "  16: array([-111.1623847,   45.7733421]),\n",
       "  17: array([-111.1621936,   45.7735925]),\n",
       "  18: array([-111.1624162,   45.7737008]),\n",
       "  19: array([-111.1623132,   45.7744283]),\n",
       "  20: array([-111.1614883,   45.7749471]),\n",
       "  21: array([-111.1620124,   45.7751293]),\n",
       "  22: array([-111.1624313,   45.7612954]),\n",
       "  23: array([-111.1627588,   45.7657636]),\n",
       "  24: array([-111.1612564,   45.7680336]),\n",
       "  25: array([-111.0652413,   45.7116407]),\n",
       "  26: array([-111.0666063,   45.7204986]),\n",
       "  27: array([-111.1842873,   45.7799023]),\n",
       "  28: array([-111.161792 ,   45.7743218]),\n",
       "  29: array([-111.1621971,   45.7734459]),\n",
       "  30: array([-111.1625028,   45.7736942]),\n",
       "  31: array([-111.1628965,   45.773838 ]),\n",
       "  32: array([-111.1615426,   45.7728972]),\n",
       "  33: array([-111.1626906,   45.7735098]),\n",
       "  34: array([-111.1631762,   45.7658475]),\n",
       "  35: array([-111.1631441,   45.7649023]),\n",
       "  36: array([-111.1626024,   45.7659579]),\n",
       "  37: array([-111.1623748,   45.7668031]),\n",
       "  38: array([-111.1629401,   45.7661619]),\n",
       "  39: array([-111.1621039,   45.7611923]),\n",
       "  40: array([-111.1626018,   45.7626318]),\n",
       "  41: array([-111.104121 ,   45.6712499]),\n",
       "  42: array([-111.1042115,   45.6641318]),\n",
       "  43: array([-111.104299 ,   45.6712491]),\n",
       "  44: array([-111.1041627,   45.6579457]),\n",
       "  45: array([-111.104183 ,   45.6549153]),\n",
       "  46: array([-111.1040535,   45.656657 ]),\n",
       "  47: array([-111.1040343,   45.6564387]),\n",
       "  48: array([-111.1037754,   45.6564214]),\n",
       "  49: array([-111.1037149,   45.6566508])},\n",
       " ['g',\n",
       "  'y',\n",
       "  'y',\n",
       "  'y',\n",
       "  'y',\n",
       "  'y',\n",
       "  'y',\n",
       "  'y',\n",
       "  'y',\n",
       "  'y',\n",
       "  'y',\n",
       "  'y',\n",
       "  'y',\n",
       "  'g',\n",
       "  'g',\n",
       "  'y',\n",
       "  'g',\n",
       "  'y',\n",
       "  'g',\n",
       "  'y',\n",
       "  'y',\n",
       "  'g',\n",
       "  'y',\n",
       "  'g',\n",
       "  'g',\n",
       "  'y',\n",
       "  'g',\n",
       "  'y',\n",
       "  'y',\n",
       "  'y',\n",
       "  'y',\n",
       "  'y',\n",
       "  'y',\n",
       "  'y',\n",
       "  'g',\n",
       "  'y',\n",
       "  'y',\n",
       "  'y',\n",
       "  'y',\n",
       "  'y',\n",
       "  'y',\n",
       "  'y',\n",
       "  'y',\n",
       "  'y',\n",
       "  'y',\n",
       "  'y',\n",
       "  'y',\n",
       "  'y',\n",
       "  'y'])"
      ]
     },
     "execution_count": 9,
     "metadata": {},
     "output_type": "execute_result"
    },
    {
     "data": {
      "image/png": "[encoded data removed]",
      "text/plain": [
       "<Figure size 432x288 with 1 Axes>"
      ]
     },
     "metadata": {},
     "output_type": "display_data"
    }
   ],
   "source": [
    "dic = {}\n",
    "startNode = []\n",
    "endNode = []\n",
    "edgeWeight = []\n",
    "depotNodes = []\n",
    "requiredEdges = []\n",
    "pos = {}\n",
    "\n",
    "for i in range(len(list(G.nodes(data=True)))):\n",
    "  dic[list(G.nodes(data=True))[i][0]] = i+1\n",
    "  pos[i+1] = np.array([list(G.nodes(data=True))[i][1]['x'], list(G.nodes(data=True))[i][1]['y']])\n",
    "\n",
    "\n",
    "for i in range(len(list(G.edges(data=True)))):\n",
    "  startNode.append(dic[list(G.edges(data=True))[i][0]])\n",
    "  endNode.append(dic[list(G.edges(data=True))[i][1]])\n",
    "  edgeWeight.append(list(G.edges(data=True))[i][2]['length'])\n",
    "\n",
    "newDepotNodes = []\n",
    "requiredEdgeIndexes = []\n",
    "newRequiredEdges = []\n",
    "newNonRequiredEdges = []\n",
    "depotNodesLat = []\n",
    "depotNodesLong = []\n",
    "normalNodesLat = []\n",
    "normalNodesLong = []\n",
    "requiredEdges = []\n",
    "nonrequiredEdges = []\n",
    "\n",
    "count = 0\n",
    "while count <= (len(list(G.nodes(data=True)))//5):\n",
    "    node = rd.randint(1, len(list(G.nodes(data=True))))\n",
    "    if node not in newDepotNodes:\n",
    "        newDepotNodes.append(node)\n",
    "        count += 1\n",
    "count = 0\n",
    "while count <= (len(list(G.edges(data=True)))//3):\n",
    "    edge = rd.randint(0, len(list(G.edges(data=True)))-1)\n",
    "    if edge not in requiredEdgeIndexes:\n",
    "        requiredEdgeIndexes.append(edge)\n",
    "        count += 1\n",
    "\n",
    "for i in range(len(list(G.edges(data=True)))):\n",
    "    if i in requiredEdgeIndexes:\n",
    "        newRequiredEdges.append([startNode[i], endNode[i]])\n",
    "    else:\n",
    "        newNonRequiredEdges.append([startNode[i], endNode[i]])\n",
    "\n",
    "for i in range(len(newDepotNodes)):\n",
    "    for node in list(G.nodes(data=True)):\n",
    "        if node[0] == list(dic.keys())[list(dic.values()).index(newDepotNodes[i])]:\n",
    "            depotNodesLat.append(node[1]['y'])\n",
    "            depotNodesLong.append(node[1]['x'])\n",
    "\n",
    "for key, val in dic.items():\n",
    "    if val not in newDepotNodes:\n",
    "        for node in list(G.nodes(data=True)):\n",
    "            if node[0] == key:\n",
    "                normalNodesLat.append(node[1]['y'])\n",
    "                normalNodesLong.append(node[1]['x'])\n",
    "\n",
    "for u, v in newRequiredEdges:\n",
    "    requiredEdges.append([list(dic.keys())[list(dic.values()).index(u)], list(dic.keys())[list(dic.values()).index(v)]])\n",
    "\n",
    "    \n",
    "for u, v in newNonRequiredEdges:\n",
    "    nonrequiredEdges.append([list(dic.keys())[list(dic.values()).index(u)], list(dic.keys())[list(dic.values()).index(v)]])\n",
    "\n",
    "\n",
    "createGraph(newDepotNodes , newRequiredEdges, pos, G.number_of_nodes(), startNode, endNode, edgeWeight)"
   ]
  },
  {
   "cell_type": "code",
   "execution_count": 45,
   "metadata": {},
   "outputs": [],
   "source": [
    "for edge in newRequiredEdges:\n",
    "    if edge in newNonRequiredEdges:\n",
    "        print('Eashwar')"
   ]
  },
  {
   "cell_type": "code",
   "execution_count": 10,
   "metadata": {},
   "outputs": [
    {
     "name": "stdout",
     "output_type": "stream",
     "text": [
      "2\n"
     ]
    }
   ],
   "source": [
    "print(rd.randint(0,2))"
   ]
  },
  {
   "cell_type": "markdown",
   "metadata": {
    "id": "wjigTR4aRs7W"
   },
   "source": [
    "# New Section"
   ]
  },
  {
   "cell_type": "code",
   "execution_count": 11,
   "metadata": {
    "colab": {
     "base_uri": "https://localhost:8080/"
    },
    "id": "OKoANZP73Vjd",
    "outputId": "dfd4c1fd-ee89-481a-f3f3-ae9f342df69e"
   },
   "outputs": [
    {
     "name": "stdout",
     "output_type": "stream",
     "text": [
      "(40711085, {'y': 45.698085, 'x': -111.046309, 'highway': 'traffic_signals', 'street_count': 1})\n",
      "(40711088, 40948650, {'osmid': 143012024, 'oneway': True, 'name': 'North 7th Avenue', 'highway': 'secondary', 'length': 745.209, 'geometry': <shapely.geometry.linestring.LineString object at 0x000001D30A45E6A0>})\n"
     ]
    }
   ],
   "source": [
    "print(list(G.nodes(data=True))[0])\n",
    "print(list(G.edges(data=True))[0])"
   ]
  },
  {
   "cell_type": "code",
   "execution_count": 12,
   "metadata": {
    "colab": {
     "base_uri": "https://localhost:8080/"
    },
    "id": "EtNjuKnd30br",
    "outputId": "62f4e1e4-e768-4c23-f6ed-804b2076f848"
   },
   "outputs": [
    {
     "name": "stdout",
     "output_type": "stream",
     "text": [
      "(40711088, 40948650, {'osmid': 143012024, 'oneway': True, 'name': 'North 7th Avenue', 'highway': 'secondary', 'length': 745.209, 'geometry': <shapely.geometry.linestring.LineString object at 0x000001D30A45E6A0>})\n"
     ]
    }
   ],
   "source": [
    "print(list(G.edges(data=True))[0])"
   ]
  },
  {
   "cell_type": "code",
   "execution_count": 13,
   "metadata": {
    "colab": {
     "base_uri": "https://localhost:8080/",
     "height": 121
    },
    "id": "0pv8hZ-i4B0V",
    "outputId": "f985f845-30f5-4b3f-ea7e-a8b68f037682"
   },
   "outputs": [
    {
     "data": {
      "image/svg+xml": [
       "<svg xmlns=\"http://www.w3.org/2000/svg\" xmlns:xlink=\"http://www.w3.org/1999/xlink\" width=\"100.0\" height=\"100.0\" viewBox=\"-111.0677122 45.7039488 0.022361400000008302 0.015630399999999156\" preserveAspectRatio=\"xMinYMin meet\"><g transform=\"matrix(1,0,0,-1,0,91.423528)\"><polyline fill=\"none\" stroke=\"#66cc99\" stroke-width=\"0.000447228000000166\" points=\"-111.066884,45.718751 -111.065304,45.717921 -111.0624795,45.7164713 -111.0598,45.715052 -111.0552492,45.7126827 -111.051431,45.7106846 -111.049777,45.709819 -111.049308,45.709571 -111.048924,45.709348 -111.048642,45.709174 -111.048361,45.708974 -111.047805,45.708514 -111.047434,45.708129 -111.047132,45.70776 -111.0469159,45.7074609 -111.046772,45.70722 -111.046565,45.706799 -111.0464332,45.7064939 -111.046387,45.706331 -111.046375,45.70629 -111.046337,45.70616 -111.046316,45.706066 -111.046291,45.705955 -111.046257,45.705803 -111.046216,45.705506 -111.046207,45.7054136 -111.046196,45.7053 -111.046179,45.704777\" opacity=\"0.8\" /></g></svg>"
      ],
      "text/plain": [
       "<shapely.geometry.linestring.LineString at 0x1d30a45e1c0>"
      ]
     },
     "execution_count": 13,
     "metadata": {},
     "output_type": "execute_result"
    }
   ],
   "source": [
    "# Displaying the shape of edge using the geometry\n",
    "list(G.edges(data=True))[5][2]['geometry']"
   ]
  },
  {
   "cell_type": "code",
   "execution_count": 14,
   "metadata": {
    "id": "Kt5G1BCU546p"
   },
   "outputs": [],
   "source": [
    "def getLatLongofRoutes(G, routes):\n",
    "    latLong = []\n",
    "    for node_list in routes:\n",
    "        edge_nodes = list(zip(node_list[:-1], node_list[1:]))\n",
    "        lines = []\n",
    "        for u, v in edge_nodes:\n",
    "            # if there are parallel edges, select the shortest in length\n",
    "            data = min(G.get_edge_data(u, v).values(), \n",
    "                       key=lambda x: x['length'])\n",
    "            # if it has a geometry attribute\n",
    "            if 'geometry' in data:\n",
    "                # add them to the list of lines to plot\n",
    "                xs, ys = data['geometry'].xy\n",
    "                lines.append(list(zip(xs, ys)))\n",
    "            else:\n",
    "                # if it doesn't have a geometry attribute,\n",
    "                # then the edge is a straight line from node to node\n",
    "                x1 = G.nodes[u]['x']\n",
    "                y1 = G.nodes[u]['y']\n",
    "                x2 = G.nodes[v]['x']\n",
    "                y2 = G.nodes[v]['y']\n",
    "                line = [(x1, y1), (x2, y2)]\n",
    "                lines.append(line)\n",
    "\n",
    "        long2 = []\n",
    "        lat2 = []\n",
    "        for i in range(len(lines)):\n",
    "            z = list(lines[i])\n",
    "            l1 = list(list(zip(*z))[0])\n",
    "            l2 = list(list(zip(*z))[1])\n",
    "            for j in range(len(l1)):\n",
    "                long2.append(l1[j])\n",
    "                lat2.append(l2[j])\n",
    "    \n",
    "        latLong.append([lat2, long2])\n",
    "    return latLong\n"
   ]
  },
  {
   "cell_type": "code",
   "execution_count": 68,
   "metadata": {},
   "outputs": [],
   "source": [
    "def latLongofEdges(G, requiredEdges):\n",
    "    lines = []\n",
    "    for u, v in requiredEdges:\n",
    "        # if there are parallel edges, select the shortest in length\n",
    "        data = min(G.get_edge_data(u, v).values(), \n",
    "                   key=lambda x: x['length'])\n",
    "        # if it has a geometry attribute\n",
    "        if 'geometry' in data:\n",
    "            # add them to the list of lines to plot\n",
    "            xs, ys = data['geometry'].xy\n",
    "            lines.append(list(zip(xs, ys)))\n",
    "        else:\n",
    "            # if it doesn't have a geometry attribute,\n",
    "            # then the edge is a straight line from node to node\n",
    "            x1 = G.nodes[u]['x']\n",
    "            y1 = G.nodes[u]['y']\n",
    "            x2 = G.nodes[v]['x']\n",
    "            y2 = G.nodes[v]['y']\n",
    "            line = [(x1, y1), (x2, y2)]\n",
    "            lines.append(line)\n",
    "        \n",
    "    longi = []\n",
    "    lati = []\n",
    "    for i in range(len(lines)):\n",
    "        long2 = []\n",
    "        lat2 = []\n",
    "        z = list(lines[i])\n",
    "        l1 = list(list(zip(*z))[0])\n",
    "        l2 = list(list(zip(*z))[1])\n",
    "        for j in range(len(l1)):\n",
    "            long2.append(l1[j])\n",
    "            lat2.append(l2[j])\n",
    "        longi.append(long2)\n",
    "        lati.append(lat2)\n",
    "    \n",
    "    return longi, lati\n",
    "\n",
    "        "
   ]
  },
  {
   "cell_type": "code",
   "execution_count": 69,
   "metadata": {
    "id": "AXMmZMPI5Smo"
   },
   "outputs": [],
   "source": [
    "# getting coordinates of the nodes\n",
    "# we will store the longitudes and latitudes in following list \n",
    "# long = [] \n",
    "# lat = []  \n",
    "# for i in route:\n",
    "#      point = G.nodes[i]\n",
    "#      long.append(point['x'])\n",
    "#      lat.append(point['y'])\n",
    "# print([lat[0], lat[1]])\n",
    "# print(long)"
   ]
  },
  {
   "cell_type": "code",
   "execution_count": 136,
   "metadata": {},
   "outputs": [],
   "source": [
    "def plot_graph(lat, long, latLongNonreqEdges, depotNodesLat, depotNodesLong, normalNodesLat, normalNodesLong, routeLatLong=None): \n",
    "    longi = []\n",
    "    lati = []\n",
    "    colors = ['red', 'pink']\n",
    "    fig = go.Figure(go.Scattermapbox(\n",
    "        name = \"depots\",\n",
    "        mode = \"markers\",\n",
    "        lon = depotNodesLong,\n",
    "        lat = depotNodesLat,\n",
    "        marker = {'size': 10, 'color':\"green\"}))\n",
    "    \n",
    "    fig.add_trace(go.Scattermapbox(\n",
    "        name = \"Normal Nodes\",\n",
    "        mode = \"markers\",\n",
    "        lon = normalNodesLong,\n",
    "        lat = normalNodesLat,\n",
    "        marker = {'size': 8, 'color':\"yellowgreen\"}))\n",
    "    \n",
    "#     if routeLatLong is not None:\n",
    "#         for latit, longit in routeLatLong:\n",
    "#             fig.add_trace(go.Scattermapbox(\n",
    "#             name = \"Paths\",\n",
    "#             mode = \"lines\",\n",
    "#             lon = longit,\n",
    "#             lat = latit,\n",
    "#             marker = {'size': 10},\n",
    "#             line = dict(width = 4, color = 'blue')))\n",
    "    \n",
    "    for i in range(len(lat)): \n",
    "        longi += long[i]\n",
    "        lati += lat[i]\n",
    "        fig.add_trace(go.Scattermapbox(\n",
    "            name = \"Desired Edge\",\n",
    "            mode = \"lines\",\n",
    "            lon = long[i],\n",
    "            lat = lat[i],\n",
    "            marker = {'size': 10},\n",
    "            line = dict(width = 3, color = 'red')))\n",
    "    \n",
    "    nlat, nlong = latLongNonreqEdges[0], latLongNonreqEdges[1]\n",
    "    \n",
    "    for i in range(len(nlat)): \n",
    "#         longi += nlong[i]\n",
    "#         lati += nlat[i]\n",
    "        fig.add_trace(go.Scattermapbox(\n",
    "            name = \"Undesired Edge\",\n",
    "            mode = \"lines\",\n",
    "            lon = nlong[i],\n",
    "            lat = nlat[i],\n",
    "            marker = {'size': 10},\n",
    "            line = dict(width = 1, color = 'black')))\n",
    "    \n",
    "   \n",
    "    if routeLatLong is not None:\n",
    "        for latit, longit in routeLatLong:\n",
    "            fig.add_trace(go.Scattermapbox(\n",
    "            name = \"Paths\",\n",
    "            mode = \"lines\",\n",
    "            lon = longit,\n",
    "            lat = latit,\n",
    "            marker = {'size': 10},\n",
    "            line = dict(width = 4, color = 'blue')))\n",
    "#     fig = go.Figure(go.Scattermapbox(\n",
    "#         name = \"Desired Edge 1\",\n",
    "#         mode = \"lines\",\n",
    "#         lon = long[1],\n",
    "#         lat = lat[1],\n",
    "#         marker = {'size': 10},\n",
    "#         line = dict(width = 4.5, color = 'blue')))\n",
    "    \n",
    "#     fig = go.Figure(go.Scattermapbox(\n",
    "#         name = \"Path1\",\n",
    "#         mode = \"lines\",\n",
    "#         lon = [long[3], long[4]],\n",
    "#         lat = [lat[3], lat[4]],\n",
    "#         marker = {'size': 10},\n",
    "#         line = dict(width = 4.5, color = 'blue')))\n",
    "\n",
    "#     fig.add_annotation(\n",
    "#               x=lat[1],  # arrows' head\n",
    "#               y=long[1],  # arrows' head\n",
    "#               ax=lat[0],\n",
    "#               ay=long[0],\n",
    "#               xref='x',\n",
    "#               yref='y',\n",
    "#               axref='x',\n",
    "#               ayref='y',\n",
    "#               text='',  # if you want only the arrow\n",
    "#               showarrow=True,\n",
    "#               arrowhead=3,\n",
    "#               arrowsize=1,\n",
    "#               arrowwidth=1,\n",
    "#               arrowcolor='black'\n",
    "#             )\n",
    "\n",
    "    \n",
    "   \n",
    "     \n",
    "#     adding destination marker\n",
    "#     fig.add_trace(go.Scattermapbox(\n",
    "#         name = \"Destination\",\n",
    "#         mode = \"markers\",\n",
    "#         lon = [destination_point[1]],\n",
    "#         lat = [destination_point[0]],\n",
    "#         marker = {'size': 12, 'color':'green'}))\n",
    "    \n",
    "    # getting center for plots:\n",
    "    lat_center = np.mean(lati)\n",
    "    long_center = np.mean(longi)\n",
    "    # defining the layout using mapbox_style\n",
    "    fig.update_layout(mapbox_style=\"open-street-map\",\n",
    "        mapbox_center_lat = 30, mapbox_center_lon=-80)\n",
    "    fig.update_layout(margin={\"r\":0,\"t\":0,\"l\":0,\"b\":0},\n",
    "                      mapbox = {\n",
    "                          'center': {'lat': lat_center, \n",
    "                          'lon': long_center},\n",
    "                          'zoom': 13})\n",
    "    fig.show()"
   ]
  },
  {
   "cell_type": "code",
   "execution_count": 141,
   "metadata": {
    "colab": {
     "base_uri": "https://localhost:8080/"
    },
    "id": "qDFaw5p84HdQ",
    "outputId": "c114efa8-317e-4dca-bc5e-f5b432c8d47c"
   },
   "outputs": [],
   "source": [
    "# define origin and desination locations  \n",
    "origin_point = (depotNodesLat[0], depotNodesLong[0]) \n",
    "destination_point = (depotNodesLat[2], depotNodesLong[2])\n",
    "\n",
    "# origin_point1 = (list(G.nodes(data=True))[5][1]['y'], list(G.nodes(data=True))[5][1]['x']) \n",
    "# destination_point1 = (list(G.nodes(data=True))[10][1]['y'], list(G.nodes(data=True))[10][1]['x'])\n",
    "\n",
    "origin_point1 = (depotNodesLat[5], depotNodesLong[5]) \n",
    "destination_point1 = (depotNodesLat[7], depotNodesLong[7])\n",
    "\n",
    "\n",
    "# get the nearest nodes to the locations \n",
    "# origin_node = ox.get_nearest_node(G, origin_point) \n",
    "# destination_node = ox.get_nearest_node(G, destination_point)\n",
    "origin_node = ox.distance.nearest_nodes(G, origin_point[1], origin_point[0]) \n",
    "destination_node = ox.distance.nearest_nodes(G, destination_point[1], destination_point[0])\n",
    "# printing the closest node id to origin and destination points \n",
    "\n",
    "origin_node1 = ox.distance.nearest_nodes(G, origin_point1[1], origin_point1[0]) \n",
    "destination_node1 = ox.distance.nearest_nodes(G, destination_point1[1], destination_point1[0])\n"
   ]
  },
  {
   "cell_type": "code",
   "execution_count": 142,
   "metadata": {
    "colab": {
     "base_uri": "https://localhost:8080/"
    },
    "id": "PA90LRiA5HUh",
    "outputId": "85b83602-a3d1-44ae-b7a7-9a5027bea0b2"
   },
   "outputs": [],
   "source": [
    "# Finding the optimal path \n",
    "route1 = nx.shortest_path(G, origin_node, destination_node, weight = 'length')\n",
    "\n",
    "route2 = nx.shortest_path(G, origin_node1, destination_node1, weight = 'length')\n",
    "\n",
    "route = [route1, route2]"
   ]
  },
  {
   "cell_type": "code",
   "execution_count": 143,
   "metadata": {},
   "outputs": [],
   "source": [
    "reqlongi, reqlati = latLongofEdges(G, requiredEdges)\n",
    "nreqlongi, nreqlati = latLongofEdges(G, nonrequiredEdges)\n",
    "routeLatLong = getLatLongofRoutes(G, route)"
   ]
  },
  {
   "cell_type": "code",
   "execution_count": 144,
   "metadata": {
    "colab": {
     "base_uri": "https://localhost:8080/",
     "height": 542
    },
    "id": "T5d1oU595cAn",
    "outputId": "0c8f2500-0ab1-47a3-d615-a87351f6f6ae"
   },
   "outputs": [
    {
     "data": {
      "application/vnd.plotly.v1+json": {
       "config": {
        "plotlyServerURL": "https://plot.ly"
       },
       "data": [
        {
         "lat": [
          45.7649023,
          45.7799023,
          45.7744283,
          45.7680336,
          45.7612954,
          45.7116884,
          45.7116407,
          45.698085,
          45.7735925,
          45.7115028
         ],
         "lon": [
          -111.1631441,
          -111.1842873,
          -111.1623132,
          -111.1612564,
          -111.1624313,
          -111.0654085,
          -111.0652413,
          -111.046309,
          -111.1621936,
          -111.065274
         ],
         "marker": {
          "color": "green",
          "size": 10
         },
         "mode": "markers",
         "name": "depots",
         "type": "scattermapbox"
        },
        {
         "lat": [
          45.6980773,
          45.7201505,
          45.7206188,
          45.718751,
          45.6784485,
          45.7802117,
          45.730517,
          45.7115391,
          45.7292643,
          45.704777,
          45.7290555,
          45.7794703,
          45.7733421,
          45.7737008,
          45.7749471,
          45.7751293,
          45.7657636,
          45.7204986,
          45.7743218,
          45.7734459,
          45.7736942,
          45.773838,
          45.7728972,
          45.7735098,
          45.7658475,
          45.7659579,
          45.7668031,
          45.7661619,
          45.7611923,
          45.7626318,
          45.6712499,
          45.6641318,
          45.6712491,
          45.6579457,
          45.6549153,
          45.656657,
          45.6564387,
          45.6564214,
          45.6566508
         ],
         "lon": [
          -111.0460967,
          -111.0730642,
          -111.066621,
          -111.066884,
          -111.0626269,
          -111.1848846,
          -111.089727,
          -111.0654327,
          -111.185046,
          -111.046179,
          -111.0909946,
          -111.1848855,
          -111.1623847,
          -111.1624162,
          -111.1614883,
          -111.1620124,
          -111.1627588,
          -111.0666063,
          -111.161792,
          -111.1621971,
          -111.1625028,
          -111.1628965,
          -111.1615426,
          -111.1626906,
          -111.1631762,
          -111.1626024,
          -111.1623748,
          -111.1629401,
          -111.1621039,
          -111.1626018,
          -111.104121,
          -111.1042115,
          -111.104299,
          -111.1041627,
          -111.104183,
          -111.1040535,
          -111.1040343,
          -111.1037754,
          -111.1037149
         ],
         "marker": {
          "color": "yellowgreen",
          "size": 8
         },
         "mode": "markers",
         "name": "Normal Nodes",
         "type": "scattermapbox"
        },
        {
         "lat": [
          45.7201505,
          45.719787,
          45.7194711,
          45.7191377,
          45.7188441,
          45.7185864,
          45.7182748,
          45.7179751,
          45.7175616,
          45.717238,
          45.7171039,
          45.7170416,
          45.7168425,
          45.716399,
          45.7159496,
          45.7154462,
          45.7148928,
          45.7144813,
          45.7141577,
          45.7138401,
          45.7134805,
          45.7132623,
          45.7131449,
          45.7128441,
          45.7125338,
          45.7123837,
          45.7122159,
          45.7120541,
          45.7119163,
          45.7117724,
          45.7116645,
          45.7115806,
          45.7115391
         ],
         "line": {
          "color": "red",
          "width": 3
         },
         "lon": [
          -111.0730642,
          -111.0725064,
          -111.0719029,
          -111.0713162,
          -111.0708784,
          -111.0705437,
          -111.0702089,
          -111.0699343,
          -111.0695995,
          -111.069385,
          -111.0692997,
          -111.0692608,
          -111.0691618,
          -111.0690073,
          -111.0688786,
          -111.0687927,
          -111.0686525,
          -111.0685524,
          -111.0684666,
          -111.0683464,
          -111.0681318,
          -111.0679811,
          -111.0679001,
          -111.0676576,
          -111.0673575,
          -111.0671448,
          -111.0669045,
          -111.0666899,
          -111.0664667,
          -111.0662178,
          -111.0659432,
          -111.0656685,
          -111.0654327
         ],
         "marker": {
          "size": 10
         },
         "mode": "lines",
         "name": "Desired Edge",
         "type": "scattermapbox"
        },
        {
         "lat": [
          45.6784485,
          45.677942,
          45.677278,
          45.6758286,
          45.675297,
          45.673303,
          45.6725827,
          45.6720816,
          45.6716733,
          45.671339,
          45.671106,
          45.6709208,
          45.670436,
          45.669767,
          45.669056,
          45.6675701,
          45.6655614,
          45.6642268,
          45.663923,
          45.6636196,
          45.6634781,
          45.6621922,
          45.660191,
          45.6591546,
          45.6565764,
          45.654793,
          45.6529288,
          45.649364,
          45.6485202,
          45.6468854,
          45.6437967,
          45.6420261,
          45.6405503,
          45.6377238,
          45.634597,
          45.628657,
          45.627914,
          45.627479,
          45.627123,
          45.625836,
          45.625103,
          45.624319,
          45.6232604,
          45.621293,
          45.619328,
          45.618425,
          45.617482,
          45.615667,
          45.614301,
          45.613836,
          45.612967,
          45.612744,
          45.612199,
          45.610836,
          45.610146,
          45.609439,
          45.607207,
          45.606445,
          45.605631,
          45.604642,
          45.6038256,
          45.5998206,
          45.598332,
          45.593744,
          45.59353,
          45.593107,
          45.592826,
          45.592663,
          45.592559,
          45.592388,
          45.592236,
          45.592117,
          45.591965,
          45.591794,
          45.591559,
          45.591265,
          45.591064,
          45.590969,
          45.590941,
          45.590941,
          45.590941,
          45.590934,
          45.590916,
          45.590865,
          45.590854,
          45.590851,
          45.590847,
          45.590847,
          45.590847,
          45.590846,
          45.590842,
          45.5906496,
          45.5906408,
          45.590615,
          45.590612,
          45.590601,
          45.590604,
          45.590617,
          45.590653,
          45.590717,
          45.590882,
          45.590928,
          45.59101,
          45.591012,
          45.591007,
          45.591109,
          45.596178,
          45.596834,
          45.598376,
          45.602806,
          45.604934,
          45.606641,
          45.607223,
          45.607343,
          45.6084737,
          45.6095032,
          45.6103839,
          45.6121914,
          45.6129115,
          45.615799,
          45.6165881,
          45.619896,
          45.620072,
          45.621175,
          45.623699,
          45.624618,
          45.627422,
          45.627539,
          45.627651,
          45.6343828,
          45.6350078,
          45.637573,
          45.639519,
          45.641979,
          45.6428254,
          45.6439063,
          45.6456366,
          45.648508,
          45.649696,
          45.651048,
          45.652816,
          45.6539159,
          45.6545727,
          45.6549153
         ],
         "line": {
          "color": "red",
          "width": 3
         },
         "lon": [
          -111.0626269,
          -111.0626261,
          -111.0626217,
          -111.0626498,
          -111.0626431,
          -111.0626672,
          -111.0626702,
          -111.0626687,
          -111.0626752,
          -111.0626918,
          -111.062711,
          -111.0627149,
          -111.062744,
          -111.062752,
          -111.062763,
          -111.0627651,
          -111.0627862,
          -111.0627877,
          -111.062788,
          -111.0627965,
          -111.0628004,
          -111.062837,
          -111.062859,
          -111.0628705,
          -111.062899,
          -111.0628767,
          -111.062853,
          -111.0628091,
          -111.0627983,
          -111.0627577,
          -111.062681,
          -111.0626435,
          -111.0626123,
          -111.0626209,
          -111.0625952,
          -111.062662,
          -111.06267,
          -111.062668,
          -111.062661,
          -111.062664,
          -111.062674,
          -111.062672,
          -111.0626758,
          -111.062683,
          -111.062692,
          -111.062702,
          -111.062699,
          -111.062709,
          -111.06272,
          -111.062715,
          -111.062714,
          -111.062713,
          -111.062715,
          -111.062705,
          -111.062708,
          -111.062697,
          -111.06268,
          -111.062669,
          -111.062665,
          -111.062649,
          -111.0626416,
          -111.0626054,
          -111.062592,
          -111.062533,
          -111.062529,
          -111.062551,
          -111.0626,
          -111.06264,
          -111.062678,
          -111.062764,
          -111.062861,
          -111.062947,
          -111.063073,
          -111.063281,
          -111.063566,
          -111.064128,
          -111.064786,
          -111.065553,
          -111.069649,
          -111.070417,
          -111.073253,
          -111.074027,
          -111.07593,
          -111.079852,
          -111.080688,
          -111.082087,
          -111.083684,
          -111.08388,
          -111.083915,
          -111.084268,
          -111.085734,
          -111.0880511,
          -111.0881632,
          -111.088474,
          -111.088562,
          -111.088896,
          -111.089071,
          -111.089262,
          -111.089551,
          -111.089957,
          -111.090779,
          -111.090979,
          -111.091993,
          -111.092326,
          -111.092354,
          -111.104443,
          -111.1043589,
          -111.104348,
          -111.10434,
          -111.104291,
          -111.104292,
          -111.104404,
          -111.104405,
          -111.104391,
          -111.1043306,
          -111.1042773,
          -111.1042513,
          -111.1042377,
          -111.1042449,
          -111.104206,
          -111.1042085,
          -111.104219,
          -111.104219,
          -111.104221,
          -111.104226,
          -111.104228,
          -111.104231,
          -111.104232,
          -111.104232,
          -111.1042408,
          -111.1042416,
          -111.104245,
          -111.104248,
          -111.1042214,
          -111.1042254,
          -111.1042323,
          -111.10426,
          -111.104244,
          -111.104232,
          -111.104229,
          -111.1042054,
          -111.1042024,
          -111.1041922,
          -111.104183
         ],
         "marker": {
          "size": 10
         },
         "mode": "lines",
         "name": "Desired Edge",
         "type": "scattermapbox"
        },
        {
         "lat": [
          45.730517,
          45.7302925,
          45.7295173,
          45.7293746,
          45.7291931,
          45.7290555
         ],
         "line": {
          "color": "red",
          "width": 3
         },
         "lon": [
          -111.089727,
          -111.0899468,
          -111.0907668,
          -111.0908814,
          -111.0909579,
          -111.0909946
         ],
         "marker": {
          "size": 10
         },
         "mode": "lines",
         "name": "Desired Edge",
         "type": "scattermapbox"
        },
        {
         "lat": [
          45.7115391,
          45.7108696,
          45.710168,
          45.7089335,
          45.7087797,
          45.7085613,
          45.7075594,
          45.7057248,
          45.7053559,
          45.7043099,
          45.7041573,
          45.7015764,
          45.7012533,
          45.7008954,
          45.7002763,
          45.6993335,
          45.6986317,
          45.6983554,
          45.6981514,
          45.6978154,
          45.6974784,
          45.6969964,
          45.6966716,
          45.696012,
          45.6956052,
          45.6951889,
          45.6950984,
          45.6948855,
          45.6948044,
          45.694667,
          45.6933377,
          45.6933026,
          45.6931376,
          45.6923237,
          45.689961,
          45.6898091,
          45.6882984,
          45.6871898,
          45.6869205,
          45.6864061,
          45.6861073,
          45.6857989,
          45.682184,
          45.6816269,
          45.6808167,
          45.6800822,
          45.6793885,
          45.6792626,
          45.6784485
         ],
         "line": {
          "color": "red",
          "width": 3
         },
         "lon": [
          -111.0654327,
          -111.0655544,
          -111.0655867,
          -111.0655957,
          -111.0655968,
          -111.0655984,
          -111.0656058,
          -111.0656418,
          -111.0656491,
          -111.0656444,
          -111.0656452,
          -111.0656617,
          -111.0656293,
          -111.0655444,
          -111.065364,
          -111.0648276,
          -111.064196,
          -111.0639362,
          -111.0637362,
          -111.0634165,
          -111.0631522,
          -111.0628462,
          -111.0626924,
          -111.0624999,
          -111.0624544,
          -111.0624509,
          -111.0624542,
          -111.0624643,
          -111.0624725,
          -111.0624795,
          -111.0625522,
          -111.0625509,
          -111.062545,
          -111.0625146,
          -111.0624263,
          -111.0624238,
          -111.0623492,
          -111.0622797,
          -111.0622323,
          -111.0620835,
          -111.0620499,
          -111.0620573,
          -111.062255,
          -111.0622931,
          -111.0623486,
          -111.0623989,
          -111.0625728,
          -111.0625814,
          -111.0626269
         ],
         "marker": {
          "size": 10
         },
         "mode": "lines",
         "name": "Desired Edge",
         "type": "scattermapbox"
        },
        {
         "lat": [
          45.7115028,
          45.7116407
         ],
         "line": {
          "color": "red",
          "width": 3
         },
         "lon": [
          -111.065274,
          -111.0652413
         ],
         "marker": {
          "size": 10
         },
         "mode": "lines",
         "name": "Desired Edge",
         "type": "scattermapbox"
        },
        {
         "lat": [
          45.7116884,
          45.7115391
         ],
         "line": {
          "color": "red",
          "width": 3
         },
         "lon": [
          -111.0654085,
          -111.0654327
         ],
         "marker": {
          "size": 10
         },
         "mode": "lines",
         "name": "Desired Edge",
         "type": "scattermapbox"
        },
        {
         "lat": [
          45.7733421,
          45.7733631,
          45.7734022,
          45.7734459
         ],
         "line": {
          "color": "red",
          "width": 3
         },
         "lon": [
          -111.1623847,
          -111.1623022,
          -111.1622345,
          -111.1621971
         ],
         "marker": {
          "size": 10
         },
         "mode": "lines",
         "name": "Desired Edge",
         "type": "scattermapbox"
        },
        {
         "lat": [
          45.7733421,
          45.7733082,
          45.7732434,
          45.7731786,
          45.7728972
         ],
         "line": {
          "color": "red",
          "width": 3
         },
         "lon": [
          -111.1623847,
          -111.1622734,
          -111.1621388,
          -111.1620281,
          -111.1615426
         ],
         "marker": {
          "size": 10
         },
         "mode": "lines",
         "name": "Desired Edge",
         "type": "scattermapbox"
        },
        {
         "lat": [
          45.7735925,
          45.7736348,
          45.7736686,
          45.7736911,
          45.7737008
         ],
         "line": {
          "color": "red",
          "width": 3
         },
         "lon": [
          -111.1621936,
          -111.1622307,
          -111.1622829,
          -111.1623464,
          -111.1624162
         ],
         "marker": {
          "size": 10
         },
         "mode": "lines",
         "name": "Desired Edge",
         "type": "scattermapbox"
        },
        {
         "lat": [
          45.7744283,
          45.7742768,
          45.7742054,
          45.7741361,
          45.774023,
          45.7739314,
          45.7738399,
          45.7737615,
          45.7737008
         ],
         "line": {
          "color": "red",
          "width": 3
         },
         "lon": [
          -111.1623132,
          -111.162353,
          -111.1623528,
          -111.1623434,
          -111.1622998,
          -111.1622768,
          -111.162286,
          -111.1623292,
          -111.1624162
         ],
         "marker": {
          "size": 10
         },
         "mode": "lines",
         "name": "Desired Edge",
         "type": "scattermapbox"
        },
        {
         "lat": [
          45.7657636,
          45.7658505,
          45.7659026,
          45.7659579
         ],
         "line": {
          "color": "red",
          "width": 3
         },
         "lon": [
          -111.1627588,
          -111.1626373,
          -111.1626098,
          -111.1626024
         ],
         "marker": {
          "size": 10
         },
         "mode": "lines",
         "name": "Desired Edge",
         "type": "scattermapbox"
        },
        {
         "lat": [
          45.7680336,
          45.76889,
          45.769154,
          45.7694076,
          45.769516,
          45.7695437,
          45.7697064,
          45.769912,
          45.770293,
          45.771248,
          45.7715848,
          45.772247,
          45.7723467,
          45.772543,
          45.77269,
          45.772794,
          45.7729388,
          45.7730485,
          45.7733753,
          45.7736089,
          45.7737469,
          45.773896,
          45.7739991,
          45.7741039,
          45.77413,
          45.7741892,
          45.7742957,
          45.7745288,
          45.7747605,
          45.7747916,
          45.7749298,
          45.7750073,
          45.775616,
          45.7762073,
          45.776709,
          45.7768205,
          45.7770976,
          45.7773371,
          45.7774244,
          45.7774637,
          45.7776662,
          45.7778908,
          45.7781445,
          45.7785114,
          45.7787471,
          45.7788936,
          45.7791519,
          45.7792074,
          45.7794766,
          45.7794894,
          45.7796607,
          45.7797461,
          45.7799023
         ],
         "line": {
          "color": "red",
          "width": 3
         },
         "lon": [
          -111.1612564,
          -111.162899,
          -111.163417,
          -111.1639085,
          -111.164124,
          -111.1641781,
          -111.1644952,
          -111.164896,
          -111.16563,
          -111.167473,
          -111.1681329,
          -111.169409,
          -111.1696014,
          -111.16998,
          -111.170258,
          -111.170433,
          -111.1706823,
          -111.1708485,
          -111.1713088,
          -111.1716236,
          -111.1718146,
          -111.172087,
          -111.1722908,
          -111.1725623,
          -111.172621,
          -111.1727853,
          -111.1730793,
          -111.1737255,
          -111.17427,
          -111.1743438,
          -111.1746432,
          -111.1748082,
          -111.175981,
          -111.1771302,
          -111.1780957,
          -111.1783102,
          -111.1788586,
          -111.1793327,
          -111.1795055,
          -111.1795832,
          -111.1799699,
          -111.1803985,
          -111.1808829,
          -111.1815975,
          -111.1820522,
          -111.1823342,
          -111.1828315,
          -111.1829385,
          -111.1834405,
          -111.1834658,
          -111.1838034,
          -111.1839718,
          -111.1842873
         ],
         "marker": {
          "size": 10
         },
         "mode": "lines",
         "name": "Desired Edge",
         "type": "scattermapbox"
        },
        {
         "lat": [
          45.7204986,
          45.7206188
         ],
         "line": {
          "color": "red",
          "width": 3
         },
         "lon": [
          -111.0666063,
          -111.066621
         ],
         "marker": {
          "size": 10
         },
         "mode": "lines",
         "name": "Desired Edge",
         "type": "scattermapbox"
        },
        {
         "lat": [
          45.7799023,
          45.780117,
          45.7802117
         ],
         "line": {
          "color": "red",
          "width": 3
         },
         "lon": [
          -111.1842873,
          -111.1847018,
          -111.1848846
         ],
         "marker": {
          "size": 10
         },
         "mode": "lines",
         "name": "Desired Edge",
         "type": "scattermapbox"
        },
        {
         "lat": [
          45.7799023,
          45.7797461,
          45.7796607,
          45.7794894,
          45.7794766,
          45.7792074,
          45.7791519,
          45.7788936,
          45.7787471,
          45.7785114,
          45.7781445,
          45.7778908,
          45.7776662,
          45.7774637,
          45.7774244,
          45.7773371,
          45.7770976,
          45.7768205,
          45.776709,
          45.7762073,
          45.775616,
          45.7750073,
          45.7749298,
          45.7747916,
          45.7747605,
          45.7745288,
          45.7742957,
          45.7741892,
          45.77413,
          45.7741039,
          45.7739991,
          45.773896,
          45.7737469,
          45.7736089,
          45.7733753,
          45.7730485,
          45.7729388,
          45.772794,
          45.77269,
          45.772543,
          45.7723467,
          45.772247,
          45.7715848,
          45.771248,
          45.770293,
          45.769912,
          45.7697064,
          45.7695437,
          45.769516,
          45.7694076,
          45.769154,
          45.76889,
          45.7680336
         ],
         "line": {
          "color": "red",
          "width": 3
         },
         "lon": [
          -111.1842873,
          -111.1839718,
          -111.1838034,
          -111.1834658,
          -111.1834405,
          -111.1829385,
          -111.1828315,
          -111.1823342,
          -111.1820522,
          -111.1815975,
          -111.1808829,
          -111.1803985,
          -111.1799699,
          -111.1795832,
          -111.1795055,
          -111.1793327,
          -111.1788586,
          -111.1783102,
          -111.1780957,
          -111.1771302,
          -111.175981,
          -111.1748082,
          -111.1746432,
          -111.1743438,
          -111.17427,
          -111.1737255,
          -111.1730793,
          -111.1727853,
          -111.172621,
          -111.1725623,
          -111.1722908,
          -111.172087,
          -111.1718146,
          -111.1716236,
          -111.1713088,
          -111.1708485,
          -111.1706823,
          -111.170433,
          -111.170258,
          -111.16998,
          -111.1696014,
          -111.169409,
          -111.1681329,
          -111.167473,
          -111.16563,
          -111.164896,
          -111.1644952,
          -111.1641781,
          -111.164124,
          -111.1639085,
          -111.163417,
          -111.162899,
          -111.1612564
         ],
         "marker": {
          "size": 10
         },
         "mode": "lines",
         "name": "Desired Edge",
         "type": "scattermapbox"
        },
        {
         "lat": [
          45.7743218,
          45.7747986,
          45.7749471
         ],
         "line": {
          "color": "red",
          "width": 3
         },
         "lon": [
          -111.161792,
          -111.1615604,
          -111.1614883
         ],
         "marker": {
          "size": 10
         },
         "mode": "lines",
         "name": "Desired Edge",
         "type": "scattermapbox"
        },
        {
         "lat": [
          45.7736942,
          45.7737135,
          45.7737784,
          45.773838
         ],
         "line": {
          "color": "red",
          "width": 3
         },
         "lon": [
          -111.1625028,
          -111.1626149,
          -111.1627696,
          -111.1628965
         ],
         "marker": {
          "size": 10
         },
         "mode": "lines",
         "name": "Desired Edge",
         "type": "scattermapbox"
        },
        {
         "lat": [
          45.7728972,
          45.7720479,
          45.7717158,
          45.7713684,
          45.7713146,
          45.7710304,
          45.7706244,
          45.770136,
          45.7696673,
          45.7691215,
          45.7680336
         ],
         "line": {
          "color": "red",
          "width": 3
         },
         "lon": [
          -111.1615426,
          -111.1603894,
          -111.1600697,
          -111.1598442,
          -111.1598184,
          -111.1596833,
          -111.1596002,
          -111.1596112,
          -111.1597747,
          -111.1601673,
          -111.1612564
         ],
         "marker": {
          "size": 10
         },
         "mode": "lines",
         "name": "Desired Edge",
         "type": "scattermapbox"
        },
        {
         "lat": [
          45.7649023,
          45.7644813,
          45.7640456,
          45.7635938,
          45.7630822,
          45.7627526,
          45.7626318
         ],
         "line": {
          "color": "red",
          "width": 3
         },
         "lon": [
          -111.1631441,
          -111.163169,
          -111.1631351,
          -111.1630342,
          -111.1628372,
          -111.1626643,
          -111.1626018
         ],
         "marker": {
          "size": 10
         },
         "mode": "lines",
         "name": "Desired Edge",
         "type": "scattermapbox"
        },
        {
         "lat": [
          45.7659579,
          45.7661415,
          45.7663089,
          45.7665568,
          45.7668031
         ],
         "line": {
          "color": "red",
          "width": 3
         },
         "lon": [
          -111.1626024,
          -111.1625949,
          -111.162557,
          -111.1624758,
          -111.1623748
         ],
         "marker": {
          "size": 10
         },
         "mode": "lines",
         "name": "Desired Edge",
         "type": "scattermapbox"
        },
        {
         "lat": [
          45.7668031,
          45.7671223,
          45.7680336
         ],
         "line": {
          "color": "red",
          "width": 3
         },
         "lon": [
          -111.1623748,
          -111.1621191,
          -111.1612564
         ],
         "marker": {
          "size": 10
         },
         "mode": "lines",
         "name": "Desired Edge",
         "type": "scattermapbox"
        },
        {
         "lat": [
          45.7661619,
          45.7661531,
          45.7661362,
          45.7660919,
          45.7660317,
          45.7659625,
          45.7659032,
          45.7658475
         ],
         "line": {
          "color": "red",
          "width": 3
         },
         "lon": [
          -111.1629401,
          -111.1630001,
          -111.1630564,
          -111.1631359,
          -111.1631902,
          -111.1632131,
          -111.1632062,
          -111.1631762
         ],
         "marker": {
          "size": 10
         },
         "mode": "lines",
         "name": "Desired Edge",
         "type": "scattermapbox"
        },
        {
         "lat": [
          45.7626318,
          45.762426,
          45.7620559,
          45.7616274,
          45.7615058,
          45.7614115,
          45.7612954
         ],
         "line": {
          "color": "red",
          "width": 3
         },
         "lon": [
          -111.1626018,
          -111.162569,
          -111.1624245,
          -111.1623015,
          -111.1622969,
          -111.1623167,
          -111.1624313
         ],
         "marker": {
          "size": 10
         },
         "mode": "lines",
         "name": "Desired Edge",
         "type": "scattermapbox"
        },
        {
         "lat": [
          45.6641318,
          45.6645177,
          45.66511,
          45.6652343,
          45.6658844,
          45.6672195,
          45.6679791,
          45.6690109,
          45.6692069,
          45.6697089,
          45.670025,
          45.6712499
         ],
         "line": {
          "color": "red",
          "width": 3
         },
         "lon": [
          -111.1042115,
          -111.1041264,
          -111.1041264,
          -111.1041264,
          -111.1041264,
          -111.1041295,
          -111.1041312,
          -111.1041312,
          -111.1041312,
          -111.1041312,
          -111.1041292,
          -111.104121
         ],
         "marker": {
          "size": 10
         },
         "mode": "lines",
         "name": "Desired Edge",
         "type": "scattermapbox"
        },
        {
         "lat": [
          45.656657,
          45.6566162,
          45.6565693,
          45.656521,
          45.656476,
          45.6564387
         ],
         "line": {
          "color": "red",
          "width": 3
         },
         "lon": [
          -111.1040535,
          -111.1040906,
          -111.104108,
          -111.1041037,
          -111.1040783,
          -111.1040343
         ],
         "marker": {
          "size": 10
         },
         "mode": "lines",
         "name": "Desired Edge",
         "type": "scattermapbox"
        },
        {
         "lat": [
          45.6564387,
          45.6564127,
          45.6564007,
          45.6564037,
          45.6564214
         ],
         "line": {
          "color": "red",
          "width": 3
         },
         "lon": [
          -111.1040343,
          -111.1039759,
          -111.1039089,
          -111.1038398,
          -111.1037754
         ],
         "marker": {
          "size": 10
         },
         "mode": "lines",
         "name": "Desired Edge",
         "type": "scattermapbox"
        },
        {
         "lat": [
          45.6566508,
          45.6566863,
          45.656706,
          45.6567074,
          45.6566904,
          45.656657
         ],
         "line": {
          "color": "red",
          "width": 3
         },
         "lon": [
          -111.1037149,
          -111.1037724,
          -111.1038438,
          -111.1039206,
          -111.1039934,
          -111.1040535
         ],
         "marker": {
          "size": 10
         },
         "mode": "lines",
         "name": "Desired Edge",
         "type": "scattermapbox"
        },
        {
         "lat": [
          45.6566508,
          45.6567801,
          45.6569199,
          45.6570399,
          45.6572133,
          45.6574233,
          45.6576265,
          45.6577816,
          45.6579457
         ],
         "line": {
          "color": "red",
          "width": 3
         },
         "lon": [
          -111.1037149,
          -111.1037715,
          -111.1038108,
          -111.1038644,
          -111.103943,
          -111.1040228,
          -111.1040742,
          -111.1041037,
          -111.1041627
         ],
         "marker": {
          "size": 10
         },
         "mode": "lines",
         "name": "Desired Edge",
         "type": "scattermapbox"
        },
        {
         "lat": [
          45.6980773,
          45.6989106,
          45.6994135,
          45.6994758,
          45.6995502,
          45.7000025,
          45.7008521,
          45.7010228,
          45.7016747,
          45.7018202,
          45.7018647,
          45.7028106,
          45.7033533,
          45.703981,
          45.704443,
          45.7046258,
          45.704777
         ],
         "line": {
          "color": "black",
          "width": 1
         },
         "lon": [
          -111.0460967,
          -111.0461224,
          -111.0461327,
          -111.0461345,
          -111.0461356,
          -111.0461457,
          -111.0461489,
          -111.0461484,
          -111.0461497,
          -111.0461508,
          -111.0461497,
          -111.046142,
          -111.046138,
          -111.0461334,
          -111.04613,
          -111.0461568,
          -111.046179
         ],
         "marker": {
          "size": 10
         },
         "mode": "lines",
         "name": "Undesired Edge",
         "type": "scattermapbox"
        },
        {
         "lat": [
          45.7201505,
          45.7222417,
          45.7249003,
          45.725024,
          45.725893,
          45.726307,
          45.728144,
          45.728454,
          45.728684,
          45.728866,
          45.729005,
          45.7290555
         ],
         "line": {
          "color": "black",
          "width": 1
         },
         "lon": [
          -111.0730642,
          -111.0769981,
          -111.0821304,
          -111.082359,
          -111.084042,
          -111.0848019,
          -111.08836,
          -111.089006,
          -111.089605,
          -111.09019,
          -111.090747,
          -111.0909946
         ],
         "marker": {
          "size": 10
         },
         "mode": "lines",
         "name": "Undesired Edge",
         "type": "scattermapbox"
        },
        {
         "lat": [
          45.7206188,
          45.7204986
         ],
         "line": {
          "color": "black",
          "width": 1
         },
         "lon": [
          -111.066621,
          -111.0666063
         ],
         "marker": {
          "size": 10
         },
         "mode": "lines",
         "name": "Undesired Edge",
         "type": "scattermapbox"
        },
        {
         "lat": [
          45.718751,
          45.719049,
          45.719315,
          45.7194137,
          45.7195515,
          45.7196893,
          45.7203016,
          45.7204986
         ],
         "line": {
          "color": "black",
          "width": 1
         },
         "lon": [
          -111.066884,
          -111.066694,
          -111.066568,
          -111.0665393,
          -111.0665221,
          -111.0665135,
          -111.0665927,
          -111.0666063
         ],
         "marker": {
          "size": 10
         },
         "mode": "lines",
         "name": "Undesired Edge",
         "type": "scattermapbox"
        },
        {
         "lat": [
          45.718751,
          45.717921,
          45.7164713,
          45.715052,
          45.7126827,
          45.7106846,
          45.709819,
          45.709571,
          45.709348,
          45.709174,
          45.708974,
          45.708514,
          45.708129,
          45.70776,
          45.7074609,
          45.70722,
          45.706799,
          45.7064939,
          45.706331,
          45.70629,
          45.70616,
          45.706066,
          45.705955,
          45.705803,
          45.705506,
          45.7054136,
          45.7053,
          45.704777
         ],
         "line": {
          "color": "black",
          "width": 1
         },
         "lon": [
          -111.066884,
          -111.065304,
          -111.0624795,
          -111.0598,
          -111.0552492,
          -111.051431,
          -111.049777,
          -111.049308,
          -111.048924,
          -111.048642,
          -111.048361,
          -111.047805,
          -111.047434,
          -111.047132,
          -111.0469159,
          -111.046772,
          -111.046565,
          -111.0464332,
          -111.046387,
          -111.046375,
          -111.046337,
          -111.046316,
          -111.046291,
          -111.046257,
          -111.046216,
          -111.046207,
          -111.046196,
          -111.046179
         ],
         "marker": {
          "size": 10
         },
         "mode": "lines",
         "name": "Undesired Edge",
         "type": "scattermapbox"
        },
        {
         "lat": [
          45.718751,
          45.7200417,
          45.7221102,
          45.7269615,
          45.729096,
          45.730517
         ],
         "line": {
          "color": "black",
          "width": 1
         },
         "lon": [
          -111.066884,
          -111.0694335,
          -111.0734487,
          -111.0827636,
          -111.086905,
          -111.089727
         ],
         "marker": {
          "size": 10
         },
         "mode": "lines",
         "name": "Undesired Edge",
         "type": "scattermapbox"
        },
        {
         "lat": [
          45.6784485,
          45.6792566,
          45.6793885,
          45.6798018,
          45.6800583,
          45.6808092,
          45.6810859,
          45.6816264,
          45.682179,
          45.685796,
          45.6861566,
          45.6864799,
          45.6869299,
          45.6871984,
          45.6876029,
          45.6883024,
          45.688763,
          45.6899582,
          45.6930588,
          45.693145,
          45.6933107,
          45.693347,
          45.6947667,
          45.6948533,
          45.6950593,
          45.6952248,
          45.6956751,
          45.696012,
          45.6966695,
          45.6970244,
          45.6975215,
          45.697878,
          45.6984103,
          45.6993763,
          45.700276,
          45.7008104,
          45.7009171,
          45.7013097,
          45.7015807,
          45.7043078,
          45.7045047,
          45.7075581,
          45.7087775,
          45.7090294,
          45.7101675,
          45.7108461,
          45.7115028
         ],
         "line": {
          "color": "black",
          "width": 1
         },
         "lon": [
          -111.0626269,
          -111.062384,
          -111.0623668,
          -111.0622857,
          -111.0622353,
          -111.0622017,
          -111.0621819,
          -111.0621434,
          -111.062104,
          -111.0618736,
          -111.061884,
          -111.0619691,
          -111.0620875,
          -111.0621314,
          -111.0621563,
          -111.0622003,
          -111.0622205,
          -111.062272,
          -111.0623874,
          -111.0623906,
          -111.0624022,
          -111.0624047,
          -111.0623411,
          -111.0623337,
          -111.0623214,
          -111.0623148,
          -111.0623268,
          -111.0623846,
          -111.0625417,
          -111.0627082,
          -111.0630197,
          -111.0633103,
          -111.063813,
          -111.0647136,
          -111.0652044,
          -111.0653849,
          -111.0654211,
          -111.0655006,
          -111.0655351,
          -111.0655047,
          -111.0655026,
          -111.0654706,
          -111.0654318,
          -111.0654238,
          -111.0653876,
          -111.0653708,
          -111.065274
         ],
         "marker": {
          "size": 10
         },
         "mode": "lines",
         "name": "Undesired Edge",
         "type": "scattermapbox"
        },
        {
         "lat": [
          45.7802117,
          45.780117,
          45.7799023
         ],
         "line": {
          "color": "black",
          "width": 1
         },
         "lon": [
          -111.1848846,
          -111.1847018,
          -111.1842873
         ],
         "marker": {
          "size": 10
         },
         "mode": "lines",
         "name": "Undesired Edge",
         "type": "scattermapbox"
        },
        {
         "lat": [
          45.730517,
          45.7315483,
          45.7327189,
          45.7370132,
          45.7380661,
          45.7390847,
          45.7393302,
          45.7403334,
          45.7407551,
          45.7410626,
          45.7446752,
          45.7473,
          45.750096,
          45.7514629,
          45.7525884,
          45.752816,
          45.7533941,
          45.7541572,
          45.754279,
          45.754798,
          45.755395,
          45.7566716,
          45.757231,
          45.757971,
          45.759344,
          45.7614606,
          45.7624765,
          45.763232,
          45.765279,
          45.765792,
          45.766319,
          45.767382,
          45.768012,
          45.7680336
         ],
         "line": {
          "color": "black",
          "width": 1
         },
         "lon": [
          -111.089727,
          -111.0916773,
          -111.0939216,
          -111.1022027,
          -111.1042041,
          -111.1062048,
          -111.1066689,
          -111.1086096,
          -111.1094289,
          -111.1099948,
          -111.1169837,
          -111.122046,
          -111.127428,
          -111.1300801,
          -111.1322584,
          -111.1326966,
          -111.1337374,
          -111.1349029,
          -111.13511,
          -111.135891,
          -111.136871,
          -111.1392998,
          -111.140364,
          -111.141801,
          -111.144468,
          -111.148562,
          -111.1505272,
          -111.152001,
          -111.155933,
          -111.156938,
          -111.157957,
          -111.159991,
          -111.161215,
          -111.1612564
         ],
         "marker": {
          "size": 10
         },
         "mode": "lines",
         "name": "Undesired Edge",
         "type": "scattermapbox"
        },
        {
         "lat": [
          45.730517,
          45.729096,
          45.7269615,
          45.7221102,
          45.7200417,
          45.718751
         ],
         "line": {
          "color": "black",
          "width": 1
         },
         "lon": [
          -111.089727,
          -111.086905,
          -111.0827636,
          -111.0734487,
          -111.0694335,
          -111.066884
         ],
         "marker": {
          "size": 10
         },
         "mode": "lines",
         "name": "Undesired Edge",
         "type": "scattermapbox"
        },
        {
         "lat": [
          45.7115391,
          45.7115028
         ],
         "line": {
          "color": "black",
          "width": 1
         },
         "lon": [
          -111.0654327,
          -111.065274
         ],
         "marker": {
          "size": 10
         },
         "mode": "lines",
         "name": "Undesired Edge",
         "type": "scattermapbox"
        },
        {
         "lat": [
          45.7292643,
          45.7292556,
          45.7292505,
          45.729243,
          45.729193,
          45.729193,
          45.7292,
          45.729201,
          45.729209,
          45.7292153,
          45.7292156,
          45.729224,
          45.729236,
          45.729255,
          45.729266,
          45.729285,
          45.72929,
          45.7293,
          45.729326,
          45.7293389,
          45.729344,
          45.7293448,
          45.729345,
          45.729351,
          45.729351,
          45.72935,
          45.729352,
          45.729353,
          45.7293592,
          45.7293558,
          45.729322,
          45.729292,
          45.729286,
          45.729277,
          45.729268,
          45.729233,
          45.729215,
          45.729144,
          45.729127,
          45.729119,
          45.729119,
          45.72912,
          45.729124,
          45.729129,
          45.729143,
          45.729154,
          45.729166,
          45.72917,
          45.729217,
          45.729223,
          45.7292225,
          45.729222,
          45.729221,
          45.729178,
          45.729098,
          45.7290555
         ],
         "line": {
          "color": "black",
          "width": 1
         },
         "lon": [
          -111.185046,
          -111.1815151,
          -111.1794735,
          -111.178205,
          -111.169723,
          -111.16948,
          -111.164812,
          -111.16439,
          -111.159404,
          -111.1549155,
          -111.1547314,
          -111.150129,
          -111.148613,
          -111.146045,
          -111.144666,
          -111.141943,
          -111.141166,
          -111.139657,
          -111.136504,
          -111.135236,
          -111.134737,
          -111.1342407,
          -111.134147,
          -111.131867,
          -111.130394,
          -111.12829,
          -111.127495,
          -111.1273118,
          -111.1251725,
          -111.1238516,
          -111.121458,
          -111.119626,
          -111.118578,
          -111.117883,
          -111.117474,
          -111.115085,
          -111.1135017,
          -111.107259,
          -111.106013,
          -111.1039,
          -111.103649,
          -111.103091,
          -111.102756,
          -111.101971,
          -111.1007944,
          -111.098893,
          -111.098158,
          -111.097904,
          -111.094006,
          -111.093398,
          -111.093227,
          -111.093055,
          -111.092616,
          -111.091882,
          -111.09125,
          -111.0909946
         ],
         "marker": {
          "size": 10
         },
         "mode": "lines",
         "name": "Undesired Edge",
         "type": "scattermapbox"
        },
        {
         "lat": [
          45.704777,
          45.7053,
          45.7054136,
          45.705506,
          45.705803,
          45.705955,
          45.706066,
          45.70616,
          45.70629,
          45.706331,
          45.7064939,
          45.706799,
          45.70722,
          45.7074609,
          45.70776,
          45.708129,
          45.708514,
          45.708974,
          45.709174,
          45.709348,
          45.709571,
          45.709819,
          45.7106846,
          45.7126827,
          45.715052,
          45.7164713,
          45.717921,
          45.718751
         ],
         "line": {
          "color": "black",
          "width": 1
         },
         "lon": [
          -111.046179,
          -111.046196,
          -111.046207,
          -111.046216,
          -111.046257,
          -111.046291,
          -111.046316,
          -111.046337,
          -111.046375,
          -111.046387,
          -111.0464332,
          -111.046565,
          -111.046772,
          -111.0469159,
          -111.047132,
          -111.047434,
          -111.047805,
          -111.048361,
          -111.048642,
          -111.048924,
          -111.049308,
          -111.049777,
          -111.051431,
          -111.0552492,
          -111.0598,
          -111.0624795,
          -111.065304,
          -111.066884
         ],
         "marker": {
          "size": 10
         },
         "mode": "lines",
         "name": "Undesired Edge",
         "type": "scattermapbox"
        },
        {
         "lat": [
          45.704777,
          45.704343,
          45.704267,
          45.7041392,
          45.7030848,
          45.7022571,
          45.7018182,
          45.7018056,
          45.700837,
          45.7000019,
          45.6994772,
          45.699037,
          45.69891,
          45.698085
         ],
         "line": {
          "color": "black",
          "width": 1
         },
         "lon": [
          -111.046179,
          -111.046219,
          -111.0462208,
          -111.0462238,
          -111.0462484,
          -111.0462677,
          -111.0462788,
          -111.046278,
          -111.046278,
          -111.0462887,
          -111.0462985,
          -111.0463065,
          -111.046309,
          -111.046309
         ],
         "marker": {
          "size": 10
         },
         "mode": "lines",
         "name": "Undesired Edge",
         "type": "scattermapbox"
        },
        {
         "lat": [
          45.7290555,
          45.729098,
          45.729178,
          45.729221,
          45.729222,
          45.7292225,
          45.729223,
          45.729217,
          45.72917,
          45.729166,
          45.729154,
          45.729143,
          45.729129,
          45.729124,
          45.72912,
          45.729119,
          45.729119,
          45.729127,
          45.729144,
          45.729215,
          45.729233,
          45.729268,
          45.729277,
          45.729286,
          45.729292,
          45.729322,
          45.7293558,
          45.7293592,
          45.729353,
          45.729352,
          45.72935,
          45.729351,
          45.729351,
          45.729345,
          45.7293448,
          45.729344,
          45.7293389,
          45.729326,
          45.7293,
          45.72929,
          45.729285,
          45.729266,
          45.729255,
          45.729236,
          45.729224,
          45.7292156,
          45.7292153,
          45.729209,
          45.729201,
          45.7292,
          45.729193,
          45.729193,
          45.729243,
          45.7292505,
          45.7292556,
          45.7292643
         ],
         "line": {
          "color": "black",
          "width": 1
         },
         "lon": [
          -111.0909946,
          -111.09125,
          -111.091882,
          -111.092616,
          -111.093055,
          -111.093227,
          -111.093398,
          -111.094006,
          -111.097904,
          -111.098158,
          -111.098893,
          -111.1007944,
          -111.101971,
          -111.102756,
          -111.103091,
          -111.103649,
          -111.1039,
          -111.106013,
          -111.107259,
          -111.1135017,
          -111.115085,
          -111.117474,
          -111.117883,
          -111.118578,
          -111.119626,
          -111.121458,
          -111.1238516,
          -111.1251725,
          -111.1273118,
          -111.127495,
          -111.12829,
          -111.130394,
          -111.131867,
          -111.134147,
          -111.1342407,
          -111.134737,
          -111.135236,
          -111.136504,
          -111.139657,
          -111.141166,
          -111.141943,
          -111.144666,
          -111.146045,
          -111.148613,
          -111.150129,
          -111.1547314,
          -111.1549155,
          -111.159404,
          -111.16439,
          -111.164812,
          -111.16948,
          -111.169723,
          -111.178205,
          -111.1794735,
          -111.1815151,
          -111.185046
         ],
         "marker": {
          "size": 10
         },
         "mode": "lines",
         "name": "Undesired Edge",
         "type": "scattermapbox"
        },
        {
         "lat": [
          45.7290555,
          45.7291931,
          45.7293746,
          45.7295173,
          45.7302925,
          45.730517
         ],
         "line": {
          "color": "black",
          "width": 1
         },
         "lon": [
          -111.0909946,
          -111.0909579,
          -111.0908814,
          -111.0907668,
          -111.0899468,
          -111.089727
         ],
         "marker": {
          "size": 10
         },
         "mode": "lines",
         "name": "Undesired Edge",
         "type": "scattermapbox"
        },
        {
         "lat": [
          45.7290555,
          45.729005,
          45.728866,
          45.728684,
          45.728454,
          45.728144,
          45.726307,
          45.725893,
          45.725024,
          45.7249003,
          45.7222417,
          45.7201505
         ],
         "line": {
          "color": "black",
          "width": 1
         },
         "lon": [
          -111.0909946,
          -111.090747,
          -111.09019,
          -111.089605,
          -111.089006,
          -111.08836,
          -111.0848019,
          -111.084042,
          -111.082359,
          -111.0821304,
          -111.0769981,
          -111.0730642
         ],
         "marker": {
          "size": 10
         },
         "mode": "lines",
         "name": "Undesired Edge",
         "type": "scattermapbox"
        },
        {
         "lat": [
          45.7794703,
          45.7797613,
          45.7798548,
          45.7798874,
          45.7799023
         ],
         "line": {
          "color": "black",
          "width": 1
         },
         "lon": [
          -111.1848855,
          -111.1847213,
          -111.1845966,
          -111.1844845,
          -111.1842873
         ],
         "marker": {
          "size": 10
         },
         "mode": "lines",
         "name": "Undesired Edge",
         "type": "scattermapbox"
        },
        {
         "lat": [
          45.7116884,
          45.7117485,
          45.7118382,
          45.7119388,
          45.712054,
          45.7121907,
          45.7123703,
          45.7124686,
          45.7126209,
          45.7129185,
          45.7131227,
          45.7133098,
          45.7135295,
          45.7136923,
          45.7138742,
          45.7141828,
          45.7145036,
          45.7148945,
          45.7154823,
          45.7159738,
          45.716422,
          45.7168783,
          45.7170865,
          45.7172873,
          45.7176101,
          45.7180298,
          45.7183352,
          45.718654,
          45.718918,
          45.7192192,
          45.7195297,
          45.719806,
          45.7201505
         ],
         "line": {
          "color": "black",
          "width": 1
         },
         "lon": [
          -111.0654085,
          -111.0656269,
          -111.0658702,
          -111.0661315,
          -111.0663679,
          -111.0666125,
          -111.0668746,
          -111.067008,
          -111.0671855,
          -111.0674728,
          -111.0676525,
          -111.0678145,
          -111.067961,
          -111.0680504,
          -111.0681432,
          -111.0682593,
          -111.0683412,
          -111.0684346,
          -111.0685432,
          -111.0686587,
          -111.0687919,
          -111.0689684,
          -111.0690729,
          -111.0692158,
          -111.0694643,
          -111.0698041,
          -111.070084,
          -111.0704264,
          -111.0707694,
          -111.0712184,
          -111.0718288,
          -111.0723966,
          -111.0730642
         ],
         "marker": {
          "size": 10
         },
         "mode": "lines",
         "name": "Undesired Edge",
         "type": "scattermapbox"
        },
        {
         "lat": [
          45.7735925,
          45.7743218
         ],
         "line": {
          "color": "black",
          "width": 1
         },
         "lon": [
          -111.1621936,
          -111.161792
         ],
         "marker": {
          "size": 10
         },
         "mode": "lines",
         "name": "Undesired Edge",
         "type": "scattermapbox"
        },
        {
         "lat": [
          45.7737008,
          45.7736942
         ],
         "line": {
          "color": "black",
          "width": 1
         },
         "lon": [
          -111.1624162,
          -111.1625028
         ],
         "marker": {
          "size": 10
         },
         "mode": "lines",
         "name": "Undesired Edge",
         "type": "scattermapbox"
        },
        {
         "lat": [
          45.7744283,
          45.7743506,
          45.7742851,
          45.7742424,
          45.7742292,
          45.7742393,
          45.7742714,
          45.7743218
         ],
         "line": {
          "color": "black",
          "width": 1
         },
         "lon": [
          -111.1623132,
          -111.1622918,
          -111.1622283,
          -111.1621329,
          -111.1620378,
          -111.161942,
          -111.1618567,
          -111.161792
         ],
         "marker": {
          "size": 10
         },
         "mode": "lines",
         "name": "Undesired Edge",
         "type": "scattermapbox"
        },
        {
         "lat": [
          45.7749471,
          45.7750937,
          45.7751599,
          45.7752071,
          45.7752284,
          45.7752223,
          45.7751895,
          45.7751293
         ],
         "line": {
          "color": "black",
          "width": 1
         },
         "lon": [
          -111.1614883,
          -111.161485,
          -111.1615396,
          -111.1616256,
          -111.1617281,
          -111.1618347,
          -111.1619308,
          -111.1620124
         ],
         "marker": {
          "size": 10
         },
         "mode": "lines",
         "name": "Undesired Edge",
         "type": "scattermapbox"
        },
        {
         "lat": [
          45.7749471,
          45.7750937,
          45.7751599,
          45.7752071,
          45.7752284,
          45.7752223,
          45.7751895,
          45.7751293
         ],
         "line": {
          "color": "black",
          "width": 1
         },
         "lon": [
          -111.1614883,
          -111.161485,
          -111.1615396,
          -111.1616256,
          -111.1617281,
          -111.1618347,
          -111.1619308,
          -111.1620124
         ],
         "marker": {
          "size": 10
         },
         "mode": "lines",
         "name": "Undesired Edge",
         "type": "scattermapbox"
        },
        {
         "lat": [
          45.7751293,
          45.775065,
          45.7745055,
          45.7744283
         ],
         "line": {
          "color": "black",
          "width": 1
         },
         "lon": [
          -111.1620124,
          -111.1620419,
          -111.162289,
          -111.1623132
         ],
         "marker": {
          "size": 10
         },
         "mode": "lines",
         "name": "Undesired Edge",
         "type": "scattermapbox"
        },
        {
         "lat": [
          45.7612954,
          45.7612577,
          45.7612006,
          45.7611353,
          45.7609399,
          45.7607423,
          45.7601867,
          45.7600541,
          45.7599794,
          45.7599184,
          45.7598461,
          45.7597896,
          45.7597293,
          45.7596729,
          45.7596279,
          45.759599,
          45.7595937,
          45.7596128,
          45.7596534,
          45.7597097,
          45.7598131,
          45.759983,
          45.7601674,
          45.7607085,
          45.760811,
          45.7608893,
          45.760964,
          45.7610557,
          45.7611232,
          45.7611923
         ],
         "line": {
          "color": "black",
          "width": 1
         },
         "lon": [
          -111.1624313,
          -111.1625142,
          -111.1625696,
          -111.1625889,
          -111.1626153,
          -111.1626671,
          -111.1630178,
          -111.1631957,
          -111.1633546,
          -111.1634699,
          -111.1635527,
          -111.163583,
          -111.1635826,
          -111.1635516,
          -111.163494,
          -111.163412,
          -111.1633205,
          -111.1632328,
          -111.1631617,
          -111.1631178,
          -111.1630765,
          -111.1630351,
          -111.162947,
          -111.1625566,
          -111.1624478,
          -111.1623303,
          -111.1622042,
          -111.1621153,
          -111.1620895,
          -111.1621039
         ],
         "marker": {
          "size": 10
         },
         "mode": "lines",
         "name": "Undesired Edge",
         "type": "scattermapbox"
        },
        {
         "lat": [
          45.7680336,
          45.768012,
          45.767382,
          45.766319,
          45.765792,
          45.765279,
          45.763232,
          45.7624765,
          45.7614606,
          45.759344,
          45.757971,
          45.757231,
          45.7566716,
          45.755395,
          45.754798,
          45.754279,
          45.7541572,
          45.7533941,
          45.752816,
          45.7525884,
          45.7514629,
          45.750096,
          45.7473,
          45.7446752,
          45.7410626,
          45.7407551,
          45.7403334,
          45.7393302,
          45.7390847,
          45.7380661,
          45.7370132,
          45.7327189,
          45.7315483,
          45.730517
         ],
         "line": {
          "color": "black",
          "width": 1
         },
         "lon": [
          -111.1612564,
          -111.161215,
          -111.159991,
          -111.157957,
          -111.156938,
          -111.155933,
          -111.152001,
          -111.1505272,
          -111.148562,
          -111.144468,
          -111.141801,
          -111.140364,
          -111.1392998,
          -111.136871,
          -111.135891,
          -111.13511,
          -111.1349029,
          -111.1337374,
          -111.1326966,
          -111.1322584,
          -111.1300801,
          -111.127428,
          -111.122046,
          -111.1169837,
          -111.1099948,
          -111.1094289,
          -111.1086096,
          -111.1066689,
          -111.1062048,
          -111.1042041,
          -111.1022027,
          -111.0939216,
          -111.0916773,
          -111.089727
         ],
         "marker": {
          "size": 10
         },
         "mode": "lines",
         "name": "Undesired Edge",
         "type": "scattermapbox"
        },
        {
         "lat": [
          45.7680336,
          45.7691215,
          45.7696673,
          45.770136,
          45.7706244,
          45.7710304,
          45.7713146,
          45.7713684,
          45.7717158,
          45.7720479,
          45.7728972
         ],
         "line": {
          "color": "black",
          "width": 1
         },
         "lon": [
          -111.1612564,
          -111.1601673,
          -111.1597747,
          -111.1596112,
          -111.1596002,
          -111.1596833,
          -111.1598184,
          -111.1598442,
          -111.1600697,
          -111.1603894,
          -111.1615426
         ],
         "marker": {
          "size": 10
         },
         "mode": "lines",
         "name": "Undesired Edge",
         "type": "scattermapbox"
        },
        {
         "lat": [
          45.7680336,
          45.7671223,
          45.7668031
         ],
         "line": {
          "color": "black",
          "width": 1
         },
         "lon": [
          -111.1612564,
          -111.1621191,
          -111.1623748
         ],
         "marker": {
          "size": 10
         },
         "mode": "lines",
         "name": "Undesired Edge",
         "type": "scattermapbox"
        },
        {
         "lat": [
          45.7116407,
          45.7116884
         ],
         "line": {
          "color": "black",
          "width": 1
         },
         "lon": [
          -111.0652413,
          -111.0654085
         ],
         "marker": {
          "size": 10
         },
         "mode": "lines",
         "name": "Undesired Edge",
         "type": "scattermapbox"
        },
        {
         "lat": [
          45.7116407,
          45.7122039,
          45.7127549,
          45.7132527,
          45.7146055,
          45.7154705,
          45.7159217,
          45.7162873,
          45.7171336,
          45.7177506,
          45.717987,
          45.7182248,
          45.7184664,
          45.7187064,
          45.7189549,
          45.7192269,
          45.7196277,
          45.7198821,
          45.7201111,
          45.7201697,
          45.7202598,
          45.7203581,
          45.7206041,
          45.7206172,
          45.7206188
         ],
         "line": {
          "color": "black",
          "width": 1
         },
         "lon": [
          -111.0652413,
          -111.065085,
          -111.0648862,
          -111.0646956,
          -111.0641123,
          -111.0637516,
          -111.0635842,
          -111.0634616,
          -111.0631771,
          -111.0630542,
          -111.0630481,
          -111.0630713,
          -111.0631299,
          -111.0632198,
          -111.0633509,
          -111.0635429,
          -111.0639366,
          -111.0642822,
          -111.0646981,
          -111.0648315,
          -111.0650728,
          -111.0653593,
          -111.0663767,
          -111.066549,
          -111.066621
         ],
         "marker": {
          "size": 10
         },
         "mode": "lines",
         "name": "Undesired Edge",
         "type": "scattermapbox"
        },
        {
         "lat": [
          45.7204986,
          45.7203016,
          45.7196893,
          45.7195515,
          45.7194137,
          45.719315,
          45.719049,
          45.718751
         ],
         "line": {
          "color": "black",
          "width": 1
         },
         "lon": [
          -111.0666063,
          -111.0665927,
          -111.0665135,
          -111.0665221,
          -111.0665393,
          -111.066568,
          -111.066694,
          -111.066884
         ],
         "marker": {
          "size": 10
         },
         "mode": "lines",
         "name": "Undesired Edge",
         "type": "scattermapbox"
        },
        {
         "lat": [
          45.7204986,
          45.7205043,
          45.7205014,
          45.7203896,
          45.720263,
          45.7201149,
          45.7198833,
          45.7196505,
          45.7192484,
          45.7188207,
          45.7184369,
          45.7181032,
          45.7177779,
          45.7171899,
          45.7163341,
          45.7159808,
          45.7155968,
          45.7146991,
          45.714274,
          45.7132966,
          45.7128002,
          45.7122443,
          45.7116884
         ],
         "line": {
          "color": "black",
          "width": 1
         },
         "lon": [
          -111.0666063,
          -111.066509,
          -111.0662914,
          -111.0657547,
          -111.0653286,
          -111.0649189,
          -111.0644551,
          -111.0641131,
          -111.063687,
          -111.0633848,
          -111.0632262,
          -111.0631646,
          -111.0631539,
          -111.0632768,
          -111.0635651,
          -111.0637002,
          -111.0638514,
          -111.0642031,
          -111.064388,
          -111.0648174,
          -111.0650332,
          -111.0652501,
          -111.0654085
         ],
         "marker": {
          "size": 10
         },
         "mode": "lines",
         "name": "Undesired Edge",
         "type": "scattermapbox"
        },
        {
         "lat": [
          45.7734459,
          45.7734548,
          45.7735149,
          45.7735545,
          45.7735925
         ],
         "line": {
          "color": "black",
          "width": 1
         },
         "lon": [
          -111.1621971,
          -111.1621894,
          -111.1621721,
          -111.1621767,
          -111.1621936
         ],
         "marker": {
          "size": 10
         },
         "mode": "lines",
         "name": "Undesired Edge",
         "type": "scattermapbox"
        },
        {
         "lat": [
          45.7736942,
          45.7736679,
          45.773625,
          45.7735702,
          45.7735098
         ],
         "line": {
          "color": "black",
          "width": 1
         },
         "lon": [
          -111.1625028,
          -111.1625814,
          -111.1626431,
          -111.1626809,
          -111.1626906
         ],
         "marker": {
          "size": 10
         },
         "mode": "lines",
         "name": "Undesired Edge",
         "type": "scattermapbox"
        },
        {
         "lat": [
          45.773838,
          45.7736609,
          45.7735995,
          45.7735098
         ],
         "line": {
          "color": "black",
          "width": 1
         },
         "lon": [
          -111.1628965,
          -111.1627404,
          -111.1627094,
          -111.1626906
         ],
         "marker": {
          "size": 10
         },
         "mode": "lines",
         "name": "Undesired Edge",
         "type": "scattermapbox"
        },
        {
         "lat": [
          45.7728972,
          45.7732688,
          45.7733373,
          45.7734055,
          45.7734965,
          45.773561,
          45.7736298,
          45.7737652,
          45.7740416,
          45.7743218
         ],
         "line": {
          "color": "black",
          "width": 1
         },
         "lon": [
          -111.1615426,
          -111.1619153,
          -111.161967,
          -111.1620073,
          -111.1620337,
          -111.162039,
          -111.162029,
          -111.1619812,
          -111.1618853,
          -111.161792
         ],
         "marker": {
          "size": 10
         },
         "mode": "lines",
         "name": "Undesired Edge",
         "type": "scattermapbox"
        },
        {
         "lat": [
          45.7728972,
          45.7732034,
          45.7733211,
          45.7733614,
          45.7734,
          45.7734459
         ],
         "line": {
          "color": "black",
          "width": 1
         },
         "lon": [
          -111.1615426,
          -111.1619633,
          -111.1621066,
          -111.1621468,
          -111.1621771,
          -111.1621971
         ],
         "marker": {
          "size": 10
         },
         "mode": "lines",
         "name": "Undesired Edge",
         "type": "scattermapbox"
        },
        {
         "lat": [
          45.7735098,
          45.7734506,
          45.7733992,
          45.7733612,
          45.7733414,
          45.7733421
         ],
         "line": {
          "color": "black",
          "width": 1
         },
         "lon": [
          -111.1626906,
          -111.1626711,
          -111.1626246,
          -111.1625557,
          -111.1624726,
          -111.1623847
         ],
         "marker": {
          "size": 10
         },
         "mode": "lines",
         "name": "Undesired Edge",
         "type": "scattermapbox"
        },
        {
         "lat": [
          45.7658475,
          45.7657944,
          45.7657567,
          45.7657381,
          45.7657405,
          45.7657636
         ],
         "line": {
          "color": "black",
          "width": 1
         },
         "lon": [
          -111.1631762,
          -111.1631173,
          -111.1630377,
          -111.1629453,
          -111.1628491,
          -111.1627588
         ],
         "marker": {
          "size": 10
         },
         "mode": "lines",
         "name": "Undesired Edge",
         "type": "scattermapbox"
        },
        {
         "lat": [
          45.7658475,
          45.7656173,
          45.7653985,
          45.7649023
         ],
         "line": {
          "color": "black",
          "width": 1
         },
         "lon": [
          -111.1631762,
          -111.1631229,
          -111.1631184,
          -111.1631441
         ],
         "marker": {
          "size": 10
         },
         "mode": "lines",
         "name": "Undesired Edge",
         "type": "scattermapbox"
        },
        {
         "lat": [
          45.7649023,
          45.765494,
          45.7656257,
          45.7657119,
          45.7657636
         ],
         "line": {
          "color": "black",
          "width": 1
         },
         "lon": [
          -111.1631441,
          -111.162959,
          -111.162884,
          -111.1628003,
          -111.1627588
         ],
         "marker": {
          "size": 10
         },
         "mode": "lines",
         "name": "Undesired Edge",
         "type": "scattermapbox"
        },
        {
         "lat": [
          45.7659579,
          45.7660261,
          45.7660861,
          45.7661316,
          45.7661578,
          45.7661619
         ],
         "line": {
          "color": "black",
          "width": 1
         },
         "lon": [
          -111.1626024,
          -111.1626224,
          -111.1626728,
          -111.1627482,
          -111.1628406,
          -111.1629401
         ],
         "marker": {
          "size": 10
         },
         "mode": "lines",
         "name": "Undesired Edge",
         "type": "scattermapbox"
        },
        {
         "lat": [
          45.7668031,
          45.7663792,
          45.7662577,
          45.7661619
         ],
         "line": {
          "color": "black",
          "width": 1
         },
         "lon": [
          -111.1623748,
          -111.1626844,
          -111.1627924,
          -111.1629401
         ],
         "marker": {
          "size": 10
         },
         "mode": "lines",
         "name": "Undesired Edge",
         "type": "scattermapbox"
        },
        {
         "lat": [
          45.7611923,
          45.7613648,
          45.7616715,
          45.7619782,
          45.7622076,
          45.762467,
          45.7626318
         ],
         "line": {
          "color": "black",
          "width": 1
         },
         "lon": [
          -111.1621039,
          -111.1621365,
          -111.1621619,
          -111.1622219,
          -111.1622987,
          -111.1624253,
          -111.1626018
         ],
         "marker": {
          "size": 10
         },
         "mode": "lines",
         "name": "Undesired Edge",
         "type": "scattermapbox"
        },
        {
         "lat": [
          45.7611923,
          45.761252,
          45.7612926,
          45.7612998,
          45.7613076,
          45.7612954
         ],
         "line": {
          "color": "black",
          "width": 1
         },
         "lon": [
          -111.1621039,
          -111.1621559,
          -111.1622374,
          -111.1622837,
          -111.1623339,
          -111.1624313
         ],
         "marker": {
          "size": 10
         },
         "mode": "lines",
         "name": "Undesired Edge",
         "type": "scattermapbox"
        },
        {
         "lat": [
          45.7626318,
          45.7627526,
          45.7630822,
          45.7635938,
          45.7640456,
          45.7644813,
          45.7649023
         ],
         "line": {
          "color": "black",
          "width": 1
         },
         "lon": [
          -111.1626018,
          -111.1626643,
          -111.1628372,
          -111.1630342,
          -111.1631351,
          -111.163169,
          -111.1631441
         ],
         "marker": {
          "size": 10
         },
         "mode": "lines",
         "name": "Undesired Edge",
         "type": "scattermapbox"
        },
        {
         "lat": [
          45.6641318,
          45.663806,
          45.66032,
          45.6588042,
          45.6583551,
          45.6579457
         ],
         "line": {
          "color": "black",
          "width": 1
         },
         "lon": [
          -111.1042115,
          -111.1042141,
          -111.1042163,
          -111.1042167,
          -111.1042054,
          -111.1041627
         ],
         "marker": {
          "size": 10
         },
         "mode": "lines",
         "name": "Undesired Edge",
         "type": "scattermapbox"
        },
        {
         "lat": [
          45.6712491,
          45.6701193,
          45.6692068,
          45.6690109,
          45.668808,
          45.6681006,
          45.6672195,
          45.6652353,
          45.6651105,
          45.6647929,
          45.6645615,
          45.6641318
         ],
         "line": {
          "color": "black",
          "width": 1
         },
         "lon": [
          -111.104299,
          -111.1042958,
          -111.1043023,
          -111.1043037,
          -111.1043051,
          -111.1043069,
          -111.104306,
          -111.104304,
          -111.1043039,
          -111.1043036,
          -111.104297,
          -111.1042115
         ],
         "marker": {
          "size": 10
         },
         "mode": "lines",
         "name": "Undesired Edge",
         "type": "scattermapbox"
        },
        {
         "lat": [
          45.6579457,
          45.6583551,
          45.6588042,
          45.66032,
          45.663806,
          45.6641318
         ],
         "line": {
          "color": "black",
          "width": 1
         },
         "lon": [
          -111.1041627,
          -111.1042054,
          -111.1042167,
          -111.1042163,
          -111.1042141,
          -111.1042115
         ],
         "marker": {
          "size": 10
         },
         "mode": "lines",
         "name": "Undesired Edge",
         "type": "scattermapbox"
        },
        {
         "lat": [
          45.6579457,
          45.6577867,
          45.6576887,
          45.6575009,
          45.6573721,
          45.6572191,
          45.6571098,
          45.6570094,
          45.6569122,
          45.6568514,
          45.656781,
          45.6567276,
          45.656657
         ],
         "line": {
          "color": "black",
          "width": 1
         },
         "lon": [
          -111.1041627,
          -111.104198,
          -111.1041934,
          -111.1041656,
          -111.1041285,
          -111.1040648,
          -111.1040046,
          -111.1039455,
          -111.1039188,
          -111.1039188,
          -111.1039432,
          -111.1039744,
          -111.1040535
         ],
         "marker": {
          "size": 10
         },
         "mode": "lines",
         "name": "Undesired Edge",
         "type": "scattermapbox"
        },
        {
         "lat": [
          45.6549153,
          45.6545727,
          45.6539159,
          45.652816,
          45.651048,
          45.649696,
          45.648508,
          45.6456366,
          45.6439063,
          45.6428254,
          45.641979,
          45.639519,
          45.637573,
          45.6350078,
          45.6343828,
          45.627651,
          45.627539,
          45.627422,
          45.624618,
          45.623699,
          45.621175,
          45.620072,
          45.619896,
          45.6165881,
          45.615799,
          45.6129115,
          45.6121914,
          45.6103839,
          45.6095032,
          45.6084737,
          45.607343,
          45.607223,
          45.606641,
          45.604934,
          45.602806,
          45.598376,
          45.596834,
          45.596178,
          45.591109,
          45.591007,
          45.591012,
          45.59101,
          45.590928,
          45.590882,
          45.590717,
          45.590653,
          45.590617,
          45.590604,
          45.590601,
          45.590612,
          45.590615,
          45.5906408,
          45.5906496,
          45.590842,
          45.590846,
          45.590847,
          45.590847,
          45.590847,
          45.590851,
          45.590854,
          45.590865,
          45.590916,
          45.590934,
          45.590941,
          45.590941,
          45.590941,
          45.590969,
          45.591064,
          45.591265,
          45.591559,
          45.591794,
          45.591965,
          45.592117,
          45.592236,
          45.592388,
          45.592559,
          45.592663,
          45.592826,
          45.593107,
          45.59353,
          45.593744,
          45.598332,
          45.5998206,
          45.6038256,
          45.604642,
          45.605631,
          45.606445,
          45.607207,
          45.609439,
          45.610146,
          45.610836,
          45.612199,
          45.612744,
          45.612967,
          45.613836,
          45.614301,
          45.615667,
          45.617482,
          45.618425,
          45.619328,
          45.621293,
          45.6232604,
          45.624319,
          45.625103,
          45.625836,
          45.627123,
          45.627479,
          45.627914,
          45.628657,
          45.634597,
          45.6377238,
          45.6405503,
          45.6420261,
          45.6437967,
          45.6468854,
          45.6485202,
          45.649364,
          45.6529288,
          45.654793,
          45.6565764,
          45.6591546,
          45.660191,
          45.6621922,
          45.6634781,
          45.6636196,
          45.663923,
          45.6642268,
          45.6655614,
          45.6675701,
          45.669056,
          45.669767,
          45.670436,
          45.6709208,
          45.671106,
          45.671339,
          45.6716733,
          45.6720816,
          45.6725827,
          45.673303,
          45.675297,
          45.6758286,
          45.677278,
          45.677942,
          45.6784485
         ],
         "line": {
          "color": "black",
          "width": 1
         },
         "lon": [
          -111.104183,
          -111.1041922,
          -111.1042024,
          -111.1042054,
          -111.104229,
          -111.104232,
          -111.104244,
          -111.10426,
          -111.1042323,
          -111.1042254,
          -111.1042214,
          -111.104248,
          -111.104245,
          -111.1042416,
          -111.1042408,
          -111.104232,
          -111.104232,
          -111.104231,
          -111.104228,
          -111.104226,
          -111.104221,
          -111.104219,
          -111.104219,
          -111.1042085,
          -111.104206,
          -111.1042449,
          -111.1042377,
          -111.1042513,
          -111.1042773,
          -111.1043306,
          -111.104391,
          -111.104405,
          -111.104404,
          -111.104292,
          -111.104291,
          -111.10434,
          -111.104348,
          -111.1043589,
          -111.104443,
          -111.092354,
          -111.092326,
          -111.091993,
          -111.090979,
          -111.090779,
          -111.089957,
          -111.089551,
          -111.089262,
          -111.089071,
          -111.088896,
          -111.088562,
          -111.088474,
          -111.0881632,
          -111.0880511,
          -111.085734,
          -111.084268,
          -111.083915,
          -111.08388,
          -111.083684,
          -111.082087,
          -111.080688,
          -111.079852,
          -111.07593,
          -111.074027,
          -111.073253,
          -111.070417,
          -111.069649,
          -111.065553,
          -111.064786,
          -111.064128,
          -111.063566,
          -111.063281,
          -111.063073,
          -111.062947,
          -111.062861,
          -111.062764,
          -111.062678,
          -111.06264,
          -111.0626,
          -111.062551,
          -111.062529,
          -111.062533,
          -111.062592,
          -111.0626054,
          -111.0626416,
          -111.062649,
          -111.062665,
          -111.062669,
          -111.06268,
          -111.062697,
          -111.062708,
          -111.062705,
          -111.062715,
          -111.062713,
          -111.062714,
          -111.062715,
          -111.06272,
          -111.062709,
          -111.062699,
          -111.062702,
          -111.062692,
          -111.062683,
          -111.0626758,
          -111.062672,
          -111.062674,
          -111.062664,
          -111.062661,
          -111.062668,
          -111.06267,
          -111.062662,
          -111.0625952,
          -111.0626209,
          -111.0626123,
          -111.0626435,
          -111.062681,
          -111.0627577,
          -111.0627983,
          -111.0628091,
          -111.062853,
          -111.0628767,
          -111.062899,
          -111.0628705,
          -111.062859,
          -111.062837,
          -111.0628004,
          -111.0627965,
          -111.062788,
          -111.0627877,
          -111.0627862,
          -111.0627651,
          -111.062763,
          -111.062752,
          -111.062744,
          -111.0627149,
          -111.062711,
          -111.0626918,
          -111.0626752,
          -111.0626687,
          -111.0626702,
          -111.0626672,
          -111.0626431,
          -111.0626498,
          -111.0626217,
          -111.0626261,
          -111.0626269
         ],
         "marker": {
          "size": 10
         },
         "mode": "lines",
         "name": "Undesired Edge",
         "type": "scattermapbox"
        },
        {
         "lat": [
          45.6549153,
          45.6551966,
          45.6553832,
          45.6555017,
          45.6555397,
          45.6556638,
          45.6557801,
          45.6559042,
          45.6560581,
          45.6561369,
          45.6562417,
          45.6563257,
          45.6563683,
          45.6564214
         ],
         "line": {
          "color": "black",
          "width": 1
         },
         "lon": [
          -111.104183,
          -111.1041119,
          -111.1040782,
          -111.1040435,
          -111.1040323,
          -111.1039879,
          -111.1039343,
          -111.1038955,
          -111.1038733,
          -111.1038714,
          -111.1038677,
          -111.1038455,
          -111.1038178,
          -111.1037754
         ],
         "marker": {
          "size": 10
         },
         "mode": "lines",
         "name": "Undesired Edge",
         "type": "scattermapbox"
        },
        {
         "lat": [
          45.6564387,
          45.6563429,
          45.6562304,
          45.6561361,
          45.6560378,
          45.655946,
          45.6558142,
          45.6557004,
          45.6555272,
          45.6553953,
          45.6552518,
          45.6551161,
          45.6549153
         ],
         "line": {
          "color": "black",
          "width": 1
         },
         "lon": [
          -111.1040343,
          -111.1039896,
          -111.1039692,
          -111.1039581,
          -111.1039711,
          -111.1039859,
          -111.104021,
          -111.1040672,
          -111.1041283,
          -111.1041653,
          -111.1041949,
          -111.1042023,
          -111.104183
         ],
         "marker": {
          "size": 10
         },
         "mode": "lines",
         "name": "Undesired Edge",
         "type": "scattermapbox"
        },
        {
         "lat": [
          45.6564214,
          45.6564522,
          45.656498,
          45.6565506,
          45.6566037,
          45.6566508
         ],
         "line": {
          "color": "black",
          "width": 1
         },
         "lon": [
          -111.1037754,
          -111.1037221,
          -111.103682,
          -111.1036668,
          -111.1036782,
          -111.1037149
         ],
         "marker": {
          "size": 10
         },
         "mode": "lines",
         "name": "Undesired Edge",
         "type": "scattermapbox"
        },
        {
         "lat": [
          45.7649023,
          45.765494,
          45.7656257,
          45.7657119,
          45.7657636,
          45.7657636,
          45.7658505,
          45.7659026,
          45.7659579,
          45.7659579,
          45.7661415,
          45.7663089,
          45.7665568,
          45.7668031,
          45.7668031,
          45.7671223,
          45.7680336,
          45.7680336,
          45.7691215,
          45.7696673,
          45.770136,
          45.7706244,
          45.7710304,
          45.7713146,
          45.7713684,
          45.7717158,
          45.7720479,
          45.7728972,
          45.7728972,
          45.7732688,
          45.7733373,
          45.7734055,
          45.7734965,
          45.773561,
          45.7736298,
          45.7737652,
          45.7740416,
          45.7743218,
          45.7743218,
          45.7747986,
          45.7749471,
          45.7749471,
          45.7750937,
          45.7751599,
          45.7752071,
          45.7752284,
          45.7752223,
          45.7751895,
          45.7751293,
          45.7751293,
          45.775065,
          45.7745055,
          45.7744283
         ],
         "line": {
          "color": "blue",
          "width": 4
         },
         "lon": [
          -111.1631441,
          -111.162959,
          -111.162884,
          -111.1628003,
          -111.1627588,
          -111.1627588,
          -111.1626373,
          -111.1626098,
          -111.1626024,
          -111.1626024,
          -111.1625949,
          -111.162557,
          -111.1624758,
          -111.1623748,
          -111.1623748,
          -111.1621191,
          -111.1612564,
          -111.1612564,
          -111.1601673,
          -111.1597747,
          -111.1596112,
          -111.1596002,
          -111.1596833,
          -111.1598184,
          -111.1598442,
          -111.1600697,
          -111.1603894,
          -111.1615426,
          -111.1615426,
          -111.1619153,
          -111.161967,
          -111.1620073,
          -111.1620337,
          -111.162039,
          -111.162029,
          -111.1619812,
          -111.1618853,
          -111.161792,
          -111.161792,
          -111.1615604,
          -111.1614883,
          -111.1614883,
          -111.161485,
          -111.1615396,
          -111.1616256,
          -111.1617281,
          -111.1618347,
          -111.1619308,
          -111.1620124,
          -111.1620124,
          -111.1620419,
          -111.162289,
          -111.1623132
         ],
         "marker": {
          "size": 10
         },
         "mode": "lines",
         "name": "Paths",
         "type": "scattermapbox"
        },
        {
         "lat": [
          45.7116884,
          45.7115391,
          45.7115391,
          45.7115028,
          45.7115028,
          45.7116407,
          45.7116407,
          45.7122039,
          45.7127549,
          45.7132527,
          45.7146055,
          45.7154705,
          45.7159217,
          45.7162873,
          45.7171336,
          45.7177506,
          45.717987,
          45.7182248,
          45.7184664,
          45.7187064,
          45.7189549,
          45.7192269,
          45.7196277,
          45.7198821,
          45.7201111,
          45.7201697,
          45.7202598,
          45.7203581,
          45.7206041,
          45.7206172,
          45.7206188,
          45.7206188,
          45.7204986,
          45.7204986,
          45.7203016,
          45.7196893,
          45.7195515,
          45.7194137,
          45.719315,
          45.719049,
          45.718751,
          45.718751,
          45.717921,
          45.7164713,
          45.715052,
          45.7126827,
          45.7106846,
          45.709819,
          45.709571,
          45.709348,
          45.709174,
          45.708974,
          45.708514,
          45.708129,
          45.70776,
          45.7074609,
          45.70722,
          45.706799,
          45.7064939,
          45.706331,
          45.70629,
          45.70616,
          45.706066,
          45.705955,
          45.705803,
          45.705506,
          45.7054136,
          45.7053,
          45.704777,
          45.704777,
          45.704343,
          45.704267,
          45.7041392,
          45.7030848,
          45.7022571,
          45.7018182,
          45.7018056,
          45.700837,
          45.7000019,
          45.6994772,
          45.699037,
          45.69891,
          45.698085
         ],
         "line": {
          "color": "blue",
          "width": 4
         },
         "lon": [
          -111.0654085,
          -111.0654327,
          -111.0654327,
          -111.065274,
          -111.065274,
          -111.0652413,
          -111.0652413,
          -111.065085,
          -111.0648862,
          -111.0646956,
          -111.0641123,
          -111.0637516,
          -111.0635842,
          -111.0634616,
          -111.0631771,
          -111.0630542,
          -111.0630481,
          -111.0630713,
          -111.0631299,
          -111.0632198,
          -111.0633509,
          -111.0635429,
          -111.0639366,
          -111.0642822,
          -111.0646981,
          -111.0648315,
          -111.0650728,
          -111.0653593,
          -111.0663767,
          -111.066549,
          -111.066621,
          -111.066621,
          -111.0666063,
          -111.0666063,
          -111.0665927,
          -111.0665135,
          -111.0665221,
          -111.0665393,
          -111.066568,
          -111.066694,
          -111.066884,
          -111.066884,
          -111.065304,
          -111.0624795,
          -111.0598,
          -111.0552492,
          -111.051431,
          -111.049777,
          -111.049308,
          -111.048924,
          -111.048642,
          -111.048361,
          -111.047805,
          -111.047434,
          -111.047132,
          -111.0469159,
          -111.046772,
          -111.046565,
          -111.0464332,
          -111.046387,
          -111.046375,
          -111.046337,
          -111.046316,
          -111.046291,
          -111.046257,
          -111.046216,
          -111.046207,
          -111.046196,
          -111.046179,
          -111.046179,
          -111.046219,
          -111.0462208,
          -111.0462238,
          -111.0462484,
          -111.0462677,
          -111.0462788,
          -111.046278,
          -111.046278,
          -111.0462887,
          -111.0462985,
          -111.0463065,
          -111.046309,
          -111.046309
         ],
         "marker": {
          "size": 10
         },
         "mode": "lines",
         "name": "Paths",
         "type": "scattermapbox"
        }
       ],
       "layout": {
        "mapbox": {
         "center": {
          "lat": 45.70258223108696,
          "lon": -111.11452824913043
         },
         "style": "open-street-map",
         "zoom": 13
        },
        "margin": {
         "b": 0,
         "l": 0,
         "r": 0,
         "t": 0
        },
        "template": {
         "data": {
          "bar": [
           {
            "error_x": {
             "color": "#2a3f5f"
            },
            "error_y": {
             "color": "#2a3f5f"
            },
            "marker": {
             "line": {
              "color": "#E5ECF6",
              "width": 0.5
             },
             "pattern": {
              "fillmode": "overlay",
              "size": 10,
              "solidity": 0.2
             }
            },
            "type": "bar"
           }
          ],
          "barpolar": [
           {
            "marker": {
             "line": {
              "color": "#E5ECF6",
              "width": 0.5
             },
             "pattern": {
              "fillmode": "overlay",
              "size": 10,
              "solidity": 0.2
             }
            },
            "type": "barpolar"
           }
          ],
          "carpet": [
           {
            "aaxis": {
             "endlinecolor": "#2a3f5f",
             "gridcolor": "white",
             "linecolor": "white",
             "minorgridcolor": "white",
             "startlinecolor": "#2a3f5f"
            },
            "baxis": {
             "endlinecolor": "#2a3f5f",
             "gridcolor": "white",
             "linecolor": "white",
             "minorgridcolor": "white",
             "startlinecolor": "#2a3f5f"
            },
            "type": "carpet"
           }
          ],
          "choropleth": [
           {
            "colorbar": {
             "outlinewidth": 0,
             "ticks": ""
            },
            "type": "choropleth"
           }
          ],
          "contour": [
           {
            "colorbar": {
             "outlinewidth": 0,
             "ticks": ""
            },
            "colorscale": [
             [
              0,
              "#0d0887"
             ],
             [
              0.1111111111111111,
              "#46039f"
             ],
             [
              0.2222222222222222,
              "#7201a8"
             ],
             [
              0.3333333333333333,
              "#9c179e"
             ],
             [
              0.4444444444444444,
              "#bd3786"
             ],
             [
              0.5555555555555556,
              "#d8576b"
             ],
             [
              0.6666666666666666,
              "#ed7953"
             ],
             [
              0.7777777777777778,
              "#fb9f3a"
             ],
             [
              0.8888888888888888,
              "#fdca26"
             ],
             [
              1,
              "#f0f921"
             ]
            ],
            "type": "contour"
           }
          ],
          "contourcarpet": [
           {
            "colorbar": {
             "outlinewidth": 0,
             "ticks": ""
            },
            "type": "contourcarpet"
           }
          ],
          "heatmap": [
           {
            "colorbar": {
             "outlinewidth": 0,
             "ticks": ""
            },
            "colorscale": [
             [
              0,
              "#0d0887"
             ],
             [
              0.1111111111111111,
              "#46039f"
             ],
             [
              0.2222222222222222,
              "#7201a8"
             ],
             [
              0.3333333333333333,
              "#9c179e"
             ],
             [
              0.4444444444444444,
              "#bd3786"
             ],
             [
              0.5555555555555556,
              "#d8576b"
             ],
             [
              0.6666666666666666,
              "#ed7953"
             ],
             [
              0.7777777777777778,
              "#fb9f3a"
             ],
             [
              0.8888888888888888,
              "#fdca26"
             ],
             [
              1,
              "#f0f921"
             ]
            ],
            "type": "heatmap"
           }
          ],
          "heatmapgl": [
           {
            "colorbar": {
             "outlinewidth": 0,
             "ticks": ""
            },
            "colorscale": [
             [
              0,
              "#0d0887"
             ],
             [
              0.1111111111111111,
              "#46039f"
             ],
             [
              0.2222222222222222,
              "#7201a8"
             ],
             [
              0.3333333333333333,
              "#9c179e"
             ],
             [
              0.4444444444444444,
              "#bd3786"
             ],
             [
              0.5555555555555556,
              "#d8576b"
             ],
             [
              0.6666666666666666,
              "#ed7953"
             ],
             [
              0.7777777777777778,
              "#fb9f3a"
             ],
             [
              0.8888888888888888,
              "#fdca26"
             ],
             [
              1,
              "#f0f921"
             ]
            ],
            "type": "heatmapgl"
           }
          ],
          "histogram": [
           {
            "marker": {
             "pattern": {
              "fillmode": "overlay",
              "size": 10,
              "solidity": 0.2
             }
            },
            "type": "histogram"
           }
          ],
          "histogram2d": [
           {
            "colorbar": {
             "outlinewidth": 0,
             "ticks": ""
            },
            "colorscale": [
             [
              0,
              "#0d0887"
             ],
             [
              0.1111111111111111,
              "#46039f"
             ],
             [
              0.2222222222222222,
              "#7201a8"
             ],
             [
              0.3333333333333333,
              "#9c179e"
             ],
             [
              0.4444444444444444,
              "#bd3786"
             ],
             [
              0.5555555555555556,
              "#d8576b"
             ],
             [
              0.6666666666666666,
              "#ed7953"
             ],
             [
              0.7777777777777778,
              "#fb9f3a"
             ],
             [
              0.8888888888888888,
              "#fdca26"
             ],
             [
              1,
              "#f0f921"
             ]
            ],
            "type": "histogram2d"
           }
          ],
          "histogram2dcontour": [
           {
            "colorbar": {
             "outlinewidth": 0,
             "ticks": ""
            },
            "colorscale": [
             [
              0,
              "#0d0887"
             ],
             [
              0.1111111111111111,
              "#46039f"
             ],
             [
              0.2222222222222222,
              "#7201a8"
             ],
             [
              0.3333333333333333,
              "#9c179e"
             ],
             [
              0.4444444444444444,
              "#bd3786"
             ],
             [
              0.5555555555555556,
              "#d8576b"
             ],
             [
              0.6666666666666666,
              "#ed7953"
             ],
             [
              0.7777777777777778,
              "#fb9f3a"
             ],
             [
              0.8888888888888888,
              "#fdca26"
             ],
             [
              1,
              "#f0f921"
             ]
            ],
            "type": "histogram2dcontour"
           }
          ],
          "mesh3d": [
           {
            "colorbar": {
             "outlinewidth": 0,
             "ticks": ""
            },
            "type": "mesh3d"
           }
          ],
          "parcoords": [
           {
            "line": {
             "colorbar": {
              "outlinewidth": 0,
              "ticks": ""
             }
            },
            "type": "parcoords"
           }
          ],
          "pie": [
           {
            "automargin": true,
            "type": "pie"
           }
          ],
          "scatter": [
           {
            "marker": {
             "colorbar": {
              "outlinewidth": 0,
              "ticks": ""
             }
            },
            "type": "scatter"
           }
          ],
          "scatter3d": [
           {
            "line": {
             "colorbar": {
              "outlinewidth": 0,
              "ticks": ""
             }
            },
            "marker": {
             "colorbar": {
              "outlinewidth": 0,
              "ticks": ""
             }
            },
            "type": "scatter3d"
           }
          ],
          "scattercarpet": [
           {
            "marker": {
             "colorbar": {
              "outlinewidth": 0,
              "ticks": ""
             }
            },
            "type": "scattercarpet"
           }
          ],
          "scattergeo": [
           {
            "marker": {
             "colorbar": {
              "outlinewidth": 0,
              "ticks": ""
             }
            },
            "type": "scattergeo"
           }
          ],
          "scattergl": [
           {
            "marker": {
             "colorbar": {
              "outlinewidth": 0,
              "ticks": ""
             }
            },
            "type": "scattergl"
           }
          ],
          "scattermapbox": [
           {
            "marker": {
             "colorbar": {
              "outlinewidth": 0,
              "ticks": ""
             }
            },
            "type": "scattermapbox"
           }
          ],
          "scatterpolar": [
           {
            "marker": {
             "colorbar": {
              "outlinewidth": 0,
              "ticks": ""
             }
            },
            "type": "scatterpolar"
           }
          ],
          "scatterpolargl": [
           {
            "marker": {
             "colorbar": {
              "outlinewidth": 0,
              "ticks": ""
             }
            },
            "type": "scatterpolargl"
           }
          ],
          "scatterternary": [
           {
            "marker": {
             "colorbar": {
              "outlinewidth": 0,
              "ticks": ""
             }
            },
            "type": "scatterternary"
           }
          ],
          "surface": [
           {
            "colorbar": {
             "outlinewidth": 0,
             "ticks": ""
            },
            "colorscale": [
             [
              0,
              "#0d0887"
             ],
             [
              0.1111111111111111,
              "#46039f"
             ],
             [
              0.2222222222222222,
              "#7201a8"
             ],
             [
              0.3333333333333333,
              "#9c179e"
             ],
             [
              0.4444444444444444,
              "#bd3786"
             ],
             [
              0.5555555555555556,
              "#d8576b"
             ],
             [
              0.6666666666666666,
              "#ed7953"
             ],
             [
              0.7777777777777778,
              "#fb9f3a"
             ],
             [
              0.8888888888888888,
              "#fdca26"
             ],
             [
              1,
              "#f0f921"
             ]
            ],
            "type": "surface"
           }
          ],
          "table": [
           {
            "cells": {
             "fill": {
              "color": "#EBF0F8"
             },
             "line": {
              "color": "white"
             }
            },
            "header": {
             "fill": {
              "color": "#C8D4E3"
             },
             "line": {
              "color": "white"
             }
            },
            "type": "table"
           }
          ]
         },
         "layout": {
          "annotationdefaults": {
           "arrowcolor": "#2a3f5f",
           "arrowhead": 0,
           "arrowwidth": 1
          },
          "autotypenumbers": "strict",
          "coloraxis": {
           "colorbar": {
            "outlinewidth": 0,
            "ticks": ""
           }
          },
          "colorscale": {
           "diverging": [
            [
             0,
             "#8e0152"
            ],
            [
             0.1,
             "#c51b7d"
            ],
            [
             0.2,
             "#de77ae"
            ],
            [
             0.3,
             "#f1b6da"
            ],
            [
             0.4,
             "#fde0ef"
            ],
            [
             0.5,
             "#f7f7f7"
            ],
            [
             0.6,
             "#e6f5d0"
            ],
            [
             0.7,
             "#b8e186"
            ],
            [
             0.8,
             "#7fbc41"
            ],
            [
             0.9,
             "#4d9221"
            ],
            [
             1,
             "#276419"
            ]
           ],
           "sequential": [
            [
             0,
             "#0d0887"
            ],
            [
             0.1111111111111111,
             "#46039f"
            ],
            [
             0.2222222222222222,
             "#7201a8"
            ],
            [
             0.3333333333333333,
             "#9c179e"
            ],
            [
             0.4444444444444444,
             "#bd3786"
            ],
            [
             0.5555555555555556,
             "#d8576b"
            ],
            [
             0.6666666666666666,
             "#ed7953"
            ],
            [
             0.7777777777777778,
             "#fb9f3a"
            ],
            [
             0.8888888888888888,
             "#fdca26"
            ],
            [
             1,
             "#f0f921"
            ]
           ],
           "sequentialminus": [
            [
             0,
             "#0d0887"
            ],
            [
             0.1111111111111111,
             "#46039f"
            ],
            [
             0.2222222222222222,
             "#7201a8"
            ],
            [
             0.3333333333333333,
             "#9c179e"
            ],
            [
             0.4444444444444444,
             "#bd3786"
            ],
            [
             0.5555555555555556,
             "#d8576b"
            ],
            [
             0.6666666666666666,
             "#ed7953"
            ],
            [
             0.7777777777777778,
             "#fb9f3a"
            ],
            [
             0.8888888888888888,
             "#fdca26"
            ],
            [
             1,
             "#f0f921"
            ]
           ]
          },
          "colorway": [
           "#636efa",
           "#EF553B",
           "#00cc96",
           "#ab63fa",
           "#FFA15A",
           "#19d3f3",
           "#FF6692",
           "#B6E880",
           "#FF97FF",
           "#FECB52"
          ],
          "font": {
           "color": "#2a3f5f"
          },
          "geo": {
           "bgcolor": "white",
           "lakecolor": "white",
           "landcolor": "#E5ECF6",
           "showlakes": true,
           "showland": true,
           "subunitcolor": "white"
          },
          "hoverlabel": {
           "align": "left"
          },
          "hovermode": "closest",
          "mapbox": {
           "style": "light"
          },
          "paper_bgcolor": "white",
          "plot_bgcolor": "#E5ECF6",
          "polar": {
           "angularaxis": {
            "gridcolor": "white",
            "linecolor": "white",
            "ticks": ""
           },
           "bgcolor": "#E5ECF6",
           "radialaxis": {
            "gridcolor": "white",
            "linecolor": "white",
            "ticks": ""
           }
          },
          "scene": {
           "xaxis": {
            "backgroundcolor": "#E5ECF6",
            "gridcolor": "white",
            "gridwidth": 2,
            "linecolor": "white",
            "showbackground": true,
            "ticks": "",
            "zerolinecolor": "white"
           },
           "yaxis": {
            "backgroundcolor": "#E5ECF6",
            "gridcolor": "white",
            "gridwidth": 2,
            "linecolor": "white",
            "showbackground": true,
            "ticks": "",
            "zerolinecolor": "white"
           },
           "zaxis": {
            "backgroundcolor": "#E5ECF6",
            "gridcolor": "white",
            "gridwidth": 2,
            "linecolor": "white",
            "showbackground": true,
            "ticks": "",
            "zerolinecolor": "white"
           }
          },
          "shapedefaults": {
           "line": {
            "color": "#2a3f5f"
           }
          },
          "ternary": {
           "aaxis": {
            "gridcolor": "white",
            "linecolor": "white",
            "ticks": ""
           },
           "baxis": {
            "gridcolor": "white",
            "linecolor": "white",
            "ticks": ""
           },
           "bgcolor": "#E5ECF6",
           "caxis": {
            "gridcolor": "white",
            "linecolor": "white",
            "ticks": ""
           }
          },
          "title": {
           "x": 0.05
          },
          "xaxis": {
           "automargin": true,
           "gridcolor": "white",
           "linecolor": "white",
           "ticks": "",
           "title": {
            "standoff": 15
           },
           "zerolinecolor": "white",
           "zerolinewidth": 2
          },
          "yaxis": {
           "automargin": true,
           "gridcolor": "white",
           "linecolor": "white",
           "ticks": "",
           "title": {
            "standoff": 15
           },
           "zerolinecolor": "white",
           "zerolinewidth": 2
          }
         }
        }
       }
      },
      "text/html": [
       "<div>                            <div id=\"90bb8113-4dc7-48a0-a57f-af31b8111d4e\" class=\"plotly-graph-div\" style=\"height:525px; width:100%;\"></div>            <script type=\"text/javascript\">                require([\"plotly\"], function(Plotly) {                    window.PLOTLYENV=window.PLOTLYENV || {};                                    if (document.getElementById(\"90bb8113-4dc7-48a0-a57f-af31b8111d4e\")) {                    Plotly.newPlot(                        \"90bb8113-4dc7-48a0-a57f-af31b8111d4e\",                        [{\"lat\":[45.7649023,45.7799023,45.7744283,45.7680336,45.7612954,45.7116884,45.7116407,45.698085,45.7735925,45.7115028],\"lon\":[-111.1631441,-111.1842873,-111.1623132,-111.1612564,-111.1624313,-111.0654085,-111.0652413,-111.046309,-111.1621936,-111.065274],\"marker\":{\"color\":\"green\",\"size\":10},\"mode\":\"markers\",\"name\":\"depots\",\"type\":\"scattermapbox\"},{\"lat\":[45.6980773,45.7201505,45.7206188,45.718751,45.6784485,45.7802117,45.730517,45.7115391,45.7292643,45.704777,45.7290555,45.7794703,45.7733421,45.7737008,45.7749471,45.7751293,45.7657636,45.7204986,45.7743218,45.7734459,45.7736942,45.773838,45.7728972,45.7735098,45.7658475,45.7659579,45.7668031,45.7661619,45.7611923,45.7626318,45.6712499,45.6641318,45.6712491,45.6579457,45.6549153,45.656657,45.6564387,45.6564214,45.6566508],\"lon\":[-111.0460967,-111.0730642,-111.066621,-111.066884,-111.0626269,-111.1848846,-111.089727,-111.0654327,-111.185046,-111.046179,-111.0909946,-111.1848855,-111.1623847,-111.1624162,-111.1614883,-111.1620124,-111.1627588,-111.0666063,-111.161792,-111.1621971,-111.1625028,-111.1628965,-111.1615426,-111.1626906,-111.1631762,-111.1626024,-111.1623748,-111.1629401,-111.1621039,-111.1626018,-111.104121,-111.1042115,-111.104299,-111.1041627,-111.104183,-111.1040535,-111.1040343,-111.1037754,-111.1037149],\"marker\":{\"color\":\"yellowgreen\",\"size\":8},\"mode\":\"markers\",\"name\":\"Normal Nodes\",\"type\":\"scattermapbox\"},{\"lat\":[45.7201505,45.719787,45.7194711,45.7191377,45.7188441,45.7185864,45.7182748,45.7179751,45.7175616,45.717238,45.7171039,45.7170416,45.7168425,45.716399,45.7159496,45.7154462,45.7148928,45.7144813,45.7141577,45.7138401,45.7134805,45.7132623,45.7131449,45.7128441,45.7125338,45.7123837,45.7122159,45.7120541,45.7119163,45.7117724,45.7116645,45.7115806,45.7115391],\"line\":{\"color\":\"red\",\"width\":3},\"lon\":[-111.0730642,-111.0725064,-111.0719029,-111.0713162,-111.0708784,-111.0705437,-111.0702089,-111.0699343,-111.0695995,-111.069385,-111.0692997,-111.0692608,-111.0691618,-111.0690073,-111.0688786,-111.0687927,-111.0686525,-111.0685524,-111.0684666,-111.0683464,-111.0681318,-111.0679811,-111.0679001,-111.0676576,-111.0673575,-111.0671448,-111.0669045,-111.0666899,-111.0664667,-111.0662178,-111.0659432,-111.0656685,-111.0654327],\"marker\":{\"size\":10},\"mode\":\"lines\",\"name\":\"Desired Edge\",\"type\":\"scattermapbox\"},{\"lat\":[45.6784485,45.677942,45.677278,45.6758286,45.675297,45.673303,45.6725827,45.6720816,45.6716733,45.671339,45.671106,45.6709208,45.670436,45.669767,45.669056,45.6675701,45.6655614,45.6642268,45.663923,45.6636196,45.6634781,45.6621922,45.660191,45.6591546,45.6565764,45.654793,45.6529288,45.649364,45.6485202,45.6468854,45.6437967,45.6420261,45.6405503,45.6377238,45.634597,45.628657,45.627914,45.627479,45.627123,45.625836,45.625103,45.624319,45.6232604,45.621293,45.619328,45.618425,45.617482,45.615667,45.614301,45.613836,45.612967,45.612744,45.612199,45.610836,45.610146,45.609439,45.607207,45.606445,45.605631,45.604642,45.6038256,45.5998206,45.598332,45.593744,45.59353,45.593107,45.592826,45.592663,45.592559,45.592388,45.592236,45.592117,45.591965,45.591794,45.591559,45.591265,45.591064,45.590969,45.590941,45.590941,45.590941,45.590934,45.590916,45.590865,45.590854,45.590851,45.590847,45.590847,45.590847,45.590846,45.590842,45.5906496,45.5906408,45.590615,45.590612,45.590601,45.590604,45.590617,45.590653,45.590717,45.590882,45.590928,45.59101,45.591012,45.591007,45.591109,45.596178,45.596834,45.598376,45.602806,45.604934,45.606641,45.607223,45.607343,45.6084737,45.6095032,45.6103839,45.6121914,45.6129115,45.615799,45.6165881,45.619896,45.620072,45.621175,45.623699,45.624618,45.627422,45.627539,45.627651,45.6343828,45.6350078,45.637573,45.639519,45.641979,45.6428254,45.6439063,45.6456366,45.648508,45.649696,45.651048,45.652816,45.6539159,45.6545727,45.6549153],\"line\":{\"color\":\"red\",\"width\":3},\"lon\":[-111.0626269,-111.0626261,-111.0626217,-111.0626498,-111.0626431,-111.0626672,-111.0626702,-111.0626687,-111.0626752,-111.0626918,-111.062711,-111.0627149,-111.062744,-111.062752,-111.062763,-111.0627651,-111.0627862,-111.0627877,-111.062788,-111.0627965,-111.0628004,-111.062837,-111.062859,-111.0628705,-111.062899,-111.0628767,-111.062853,-111.0628091,-111.0627983,-111.0627577,-111.062681,-111.0626435,-111.0626123,-111.0626209,-111.0625952,-111.062662,-111.06267,-111.062668,-111.062661,-111.062664,-111.062674,-111.062672,-111.0626758,-111.062683,-111.062692,-111.062702,-111.062699,-111.062709,-111.06272,-111.062715,-111.062714,-111.062713,-111.062715,-111.062705,-111.062708,-111.062697,-111.06268,-111.062669,-111.062665,-111.062649,-111.0626416,-111.0626054,-111.062592,-111.062533,-111.062529,-111.062551,-111.0626,-111.06264,-111.062678,-111.062764,-111.062861,-111.062947,-111.063073,-111.063281,-111.063566,-111.064128,-111.064786,-111.065553,-111.069649,-111.070417,-111.073253,-111.074027,-111.07593,-111.079852,-111.080688,-111.082087,-111.083684,-111.08388,-111.083915,-111.084268,-111.085734,-111.0880511,-111.0881632,-111.088474,-111.088562,-111.088896,-111.089071,-111.089262,-111.089551,-111.089957,-111.090779,-111.090979,-111.091993,-111.092326,-111.092354,-111.104443,-111.1043589,-111.104348,-111.10434,-111.104291,-111.104292,-111.104404,-111.104405,-111.104391,-111.1043306,-111.1042773,-111.1042513,-111.1042377,-111.1042449,-111.104206,-111.1042085,-111.104219,-111.104219,-111.104221,-111.104226,-111.104228,-111.104231,-111.104232,-111.104232,-111.1042408,-111.1042416,-111.104245,-111.104248,-111.1042214,-111.1042254,-111.1042323,-111.10426,-111.104244,-111.104232,-111.104229,-111.1042054,-111.1042024,-111.1041922,-111.104183],\"marker\":{\"size\":10},\"mode\":\"lines\",\"name\":\"Desired Edge\",\"type\":\"scattermapbox\"},{\"lat\":[45.730517,45.7302925,45.7295173,45.7293746,45.7291931,45.7290555],\"line\":{\"color\":\"red\",\"width\":3},\"lon\":[-111.089727,-111.0899468,-111.0907668,-111.0908814,-111.0909579,-111.0909946],\"marker\":{\"size\":10},\"mode\":\"lines\",\"name\":\"Desired Edge\",\"type\":\"scattermapbox\"},{\"lat\":[45.7115391,45.7108696,45.710168,45.7089335,45.7087797,45.7085613,45.7075594,45.7057248,45.7053559,45.7043099,45.7041573,45.7015764,45.7012533,45.7008954,45.7002763,45.6993335,45.6986317,45.6983554,45.6981514,45.6978154,45.6974784,45.6969964,45.6966716,45.696012,45.6956052,45.6951889,45.6950984,45.6948855,45.6948044,45.694667,45.6933377,45.6933026,45.6931376,45.6923237,45.689961,45.6898091,45.6882984,45.6871898,45.6869205,45.6864061,45.6861073,45.6857989,45.682184,45.6816269,45.6808167,45.6800822,45.6793885,45.6792626,45.6784485],\"line\":{\"color\":\"red\",\"width\":3},\"lon\":[-111.0654327,-111.0655544,-111.0655867,-111.0655957,-111.0655968,-111.0655984,-111.0656058,-111.0656418,-111.0656491,-111.0656444,-111.0656452,-111.0656617,-111.0656293,-111.0655444,-111.065364,-111.0648276,-111.064196,-111.0639362,-111.0637362,-111.0634165,-111.0631522,-111.0628462,-111.0626924,-111.0624999,-111.0624544,-111.0624509,-111.0624542,-111.0624643,-111.0624725,-111.0624795,-111.0625522,-111.0625509,-111.062545,-111.0625146,-111.0624263,-111.0624238,-111.0623492,-111.0622797,-111.0622323,-111.0620835,-111.0620499,-111.0620573,-111.062255,-111.0622931,-111.0623486,-111.0623989,-111.0625728,-111.0625814,-111.0626269],\"marker\":{\"size\":10},\"mode\":\"lines\",\"name\":\"Desired Edge\",\"type\":\"scattermapbox\"},{\"lat\":[45.7115028,45.7116407],\"line\":{\"color\":\"red\",\"width\":3},\"lon\":[-111.065274,-111.0652413],\"marker\":{\"size\":10},\"mode\":\"lines\",\"name\":\"Desired Edge\",\"type\":\"scattermapbox\"},{\"lat\":[45.7116884,45.7115391],\"line\":{\"color\":\"red\",\"width\":3},\"lon\":[-111.0654085,-111.0654327],\"marker\":{\"size\":10},\"mode\":\"lines\",\"name\":\"Desired Edge\",\"type\":\"scattermapbox\"},{\"lat\":[45.7733421,45.7733631,45.7734022,45.7734459],\"line\":{\"color\":\"red\",\"width\":3},\"lon\":[-111.1623847,-111.1623022,-111.1622345,-111.1621971],\"marker\":{\"size\":10},\"mode\":\"lines\",\"name\":\"Desired Edge\",\"type\":\"scattermapbox\"},{\"lat\":[45.7733421,45.7733082,45.7732434,45.7731786,45.7728972],\"line\":{\"color\":\"red\",\"width\":3},\"lon\":[-111.1623847,-111.1622734,-111.1621388,-111.1620281,-111.1615426],\"marker\":{\"size\":10},\"mode\":\"lines\",\"name\":\"Desired Edge\",\"type\":\"scattermapbox\"},{\"lat\":[45.7735925,45.7736348,45.7736686,45.7736911,45.7737008],\"line\":{\"color\":\"red\",\"width\":3},\"lon\":[-111.1621936,-111.1622307,-111.1622829,-111.1623464,-111.1624162],\"marker\":{\"size\":10},\"mode\":\"lines\",\"name\":\"Desired Edge\",\"type\":\"scattermapbox\"},{\"lat\":[45.7744283,45.7742768,45.7742054,45.7741361,45.774023,45.7739314,45.7738399,45.7737615,45.7737008],\"line\":{\"color\":\"red\",\"width\":3},\"lon\":[-111.1623132,-111.162353,-111.1623528,-111.1623434,-111.1622998,-111.1622768,-111.162286,-111.1623292,-111.1624162],\"marker\":{\"size\":10},\"mode\":\"lines\",\"name\":\"Desired Edge\",\"type\":\"scattermapbox\"},{\"lat\":[45.7657636,45.7658505,45.7659026,45.7659579],\"line\":{\"color\":\"red\",\"width\":3},\"lon\":[-111.1627588,-111.1626373,-111.1626098,-111.1626024],\"marker\":{\"size\":10},\"mode\":\"lines\",\"name\":\"Desired Edge\",\"type\":\"scattermapbox\"},{\"lat\":[45.7680336,45.76889,45.769154,45.7694076,45.769516,45.7695437,45.7697064,45.769912,45.770293,45.771248,45.7715848,45.772247,45.7723467,45.772543,45.77269,45.772794,45.7729388,45.7730485,45.7733753,45.7736089,45.7737469,45.773896,45.7739991,45.7741039,45.77413,45.7741892,45.7742957,45.7745288,45.7747605,45.7747916,45.7749298,45.7750073,45.775616,45.7762073,45.776709,45.7768205,45.7770976,45.7773371,45.7774244,45.7774637,45.7776662,45.7778908,45.7781445,45.7785114,45.7787471,45.7788936,45.7791519,45.7792074,45.7794766,45.7794894,45.7796607,45.7797461,45.7799023],\"line\":{\"color\":\"red\",\"width\":3},\"lon\":[-111.1612564,-111.162899,-111.163417,-111.1639085,-111.164124,-111.1641781,-111.1644952,-111.164896,-111.16563,-111.167473,-111.1681329,-111.169409,-111.1696014,-111.16998,-111.170258,-111.170433,-111.1706823,-111.1708485,-111.1713088,-111.1716236,-111.1718146,-111.172087,-111.1722908,-111.1725623,-111.172621,-111.1727853,-111.1730793,-111.1737255,-111.17427,-111.1743438,-111.1746432,-111.1748082,-111.175981,-111.1771302,-111.1780957,-111.1783102,-111.1788586,-111.1793327,-111.1795055,-111.1795832,-111.1799699,-111.1803985,-111.1808829,-111.1815975,-111.1820522,-111.1823342,-111.1828315,-111.1829385,-111.1834405,-111.1834658,-111.1838034,-111.1839718,-111.1842873],\"marker\":{\"size\":10},\"mode\":\"lines\",\"name\":\"Desired Edge\",\"type\":\"scattermapbox\"},{\"lat\":[45.7204986,45.7206188],\"line\":{\"color\":\"red\",\"width\":3},\"lon\":[-111.0666063,-111.066621],\"marker\":{\"size\":10},\"mode\":\"lines\",\"name\":\"Desired Edge\",\"type\":\"scattermapbox\"},{\"lat\":[45.7799023,45.780117,45.7802117],\"line\":{\"color\":\"red\",\"width\":3},\"lon\":[-111.1842873,-111.1847018,-111.1848846],\"marker\":{\"size\":10},\"mode\":\"lines\",\"name\":\"Desired Edge\",\"type\":\"scattermapbox\"},{\"lat\":[45.7799023,45.7797461,45.7796607,45.7794894,45.7794766,45.7792074,45.7791519,45.7788936,45.7787471,45.7785114,45.7781445,45.7778908,45.7776662,45.7774637,45.7774244,45.7773371,45.7770976,45.7768205,45.776709,45.7762073,45.775616,45.7750073,45.7749298,45.7747916,45.7747605,45.7745288,45.7742957,45.7741892,45.77413,45.7741039,45.7739991,45.773896,45.7737469,45.7736089,45.7733753,45.7730485,45.7729388,45.772794,45.77269,45.772543,45.7723467,45.772247,45.7715848,45.771248,45.770293,45.769912,45.7697064,45.7695437,45.769516,45.7694076,45.769154,45.76889,45.7680336],\"line\":{\"color\":\"red\",\"width\":3},\"lon\":[-111.1842873,-111.1839718,-111.1838034,-111.1834658,-111.1834405,-111.1829385,-111.1828315,-111.1823342,-111.1820522,-111.1815975,-111.1808829,-111.1803985,-111.1799699,-111.1795832,-111.1795055,-111.1793327,-111.1788586,-111.1783102,-111.1780957,-111.1771302,-111.175981,-111.1748082,-111.1746432,-111.1743438,-111.17427,-111.1737255,-111.1730793,-111.1727853,-111.172621,-111.1725623,-111.1722908,-111.172087,-111.1718146,-111.1716236,-111.1713088,-111.1708485,-111.1706823,-111.170433,-111.170258,-111.16998,-111.1696014,-111.169409,-111.1681329,-111.167473,-111.16563,-111.164896,-111.1644952,-111.1641781,-111.164124,-111.1639085,-111.163417,-111.162899,-111.1612564],\"marker\":{\"size\":10},\"mode\":\"lines\",\"name\":\"Desired Edge\",\"type\":\"scattermapbox\"},{\"lat\":[45.7743218,45.7747986,45.7749471],\"line\":{\"color\":\"red\",\"width\":3},\"lon\":[-111.161792,-111.1615604,-111.1614883],\"marker\":{\"size\":10},\"mode\":\"lines\",\"name\":\"Desired Edge\",\"type\":\"scattermapbox\"},{\"lat\":[45.7736942,45.7737135,45.7737784,45.773838],\"line\":{\"color\":\"red\",\"width\":3},\"lon\":[-111.1625028,-111.1626149,-111.1627696,-111.1628965],\"marker\":{\"size\":10},\"mode\":\"lines\",\"name\":\"Desired Edge\",\"type\":\"scattermapbox\"},{\"lat\":[45.7728972,45.7720479,45.7717158,45.7713684,45.7713146,45.7710304,45.7706244,45.770136,45.7696673,45.7691215,45.7680336],\"line\":{\"color\":\"red\",\"width\":3},\"lon\":[-111.1615426,-111.1603894,-111.1600697,-111.1598442,-111.1598184,-111.1596833,-111.1596002,-111.1596112,-111.1597747,-111.1601673,-111.1612564],\"marker\":{\"size\":10},\"mode\":\"lines\",\"name\":\"Desired Edge\",\"type\":\"scattermapbox\"},{\"lat\":[45.7649023,45.7644813,45.7640456,45.7635938,45.7630822,45.7627526,45.7626318],\"line\":{\"color\":\"red\",\"width\":3},\"lon\":[-111.1631441,-111.163169,-111.1631351,-111.1630342,-111.1628372,-111.1626643,-111.1626018],\"marker\":{\"size\":10},\"mode\":\"lines\",\"name\":\"Desired Edge\",\"type\":\"scattermapbox\"},{\"lat\":[45.7659579,45.7661415,45.7663089,45.7665568,45.7668031],\"line\":{\"color\":\"red\",\"width\":3},\"lon\":[-111.1626024,-111.1625949,-111.162557,-111.1624758,-111.1623748],\"marker\":{\"size\":10},\"mode\":\"lines\",\"name\":\"Desired Edge\",\"type\":\"scattermapbox\"},{\"lat\":[45.7668031,45.7671223,45.7680336],\"line\":{\"color\":\"red\",\"width\":3},\"lon\":[-111.1623748,-111.1621191,-111.1612564],\"marker\":{\"size\":10},\"mode\":\"lines\",\"name\":\"Desired Edge\",\"type\":\"scattermapbox\"},{\"lat\":[45.7661619,45.7661531,45.7661362,45.7660919,45.7660317,45.7659625,45.7659032,45.7658475],\"line\":{\"color\":\"red\",\"width\":3},\"lon\":[-111.1629401,-111.1630001,-111.1630564,-111.1631359,-111.1631902,-111.1632131,-111.1632062,-111.1631762],\"marker\":{\"size\":10},\"mode\":\"lines\",\"name\":\"Desired Edge\",\"type\":\"scattermapbox\"},{\"lat\":[45.7626318,45.762426,45.7620559,45.7616274,45.7615058,45.7614115,45.7612954],\"line\":{\"color\":\"red\",\"width\":3},\"lon\":[-111.1626018,-111.162569,-111.1624245,-111.1623015,-111.1622969,-111.1623167,-111.1624313],\"marker\":{\"size\":10},\"mode\":\"lines\",\"name\":\"Desired Edge\",\"type\":\"scattermapbox\"},{\"lat\":[45.6641318,45.6645177,45.66511,45.6652343,45.6658844,45.6672195,45.6679791,45.6690109,45.6692069,45.6697089,45.670025,45.6712499],\"line\":{\"color\":\"red\",\"width\":3},\"lon\":[-111.1042115,-111.1041264,-111.1041264,-111.1041264,-111.1041264,-111.1041295,-111.1041312,-111.1041312,-111.1041312,-111.1041312,-111.1041292,-111.104121],\"marker\":{\"size\":10},\"mode\":\"lines\",\"name\":\"Desired Edge\",\"type\":\"scattermapbox\"},{\"lat\":[45.656657,45.6566162,45.6565693,45.656521,45.656476,45.6564387],\"line\":{\"color\":\"red\",\"width\":3},\"lon\":[-111.1040535,-111.1040906,-111.104108,-111.1041037,-111.1040783,-111.1040343],\"marker\":{\"size\":10},\"mode\":\"lines\",\"name\":\"Desired Edge\",\"type\":\"scattermapbox\"},{\"lat\":[45.6564387,45.6564127,45.6564007,45.6564037,45.6564214],\"line\":{\"color\":\"red\",\"width\":3},\"lon\":[-111.1040343,-111.1039759,-111.1039089,-111.1038398,-111.1037754],\"marker\":{\"size\":10},\"mode\":\"lines\",\"name\":\"Desired Edge\",\"type\":\"scattermapbox\"},{\"lat\":[45.6566508,45.6566863,45.656706,45.6567074,45.6566904,45.656657],\"line\":{\"color\":\"red\",\"width\":3},\"lon\":[-111.1037149,-111.1037724,-111.1038438,-111.1039206,-111.1039934,-111.1040535],\"marker\":{\"size\":10},\"mode\":\"lines\",\"name\":\"Desired Edge\",\"type\":\"scattermapbox\"},{\"lat\":[45.6566508,45.6567801,45.6569199,45.6570399,45.6572133,45.6574233,45.6576265,45.6577816,45.6579457],\"line\":{\"color\":\"red\",\"width\":3},\"lon\":[-111.1037149,-111.1037715,-111.1038108,-111.1038644,-111.103943,-111.1040228,-111.1040742,-111.1041037,-111.1041627],\"marker\":{\"size\":10},\"mode\":\"lines\",\"name\":\"Desired Edge\",\"type\":\"scattermapbox\"},{\"lat\":[45.6980773,45.6989106,45.6994135,45.6994758,45.6995502,45.7000025,45.7008521,45.7010228,45.7016747,45.7018202,45.7018647,45.7028106,45.7033533,45.703981,45.704443,45.7046258,45.704777],\"line\":{\"color\":\"black\",\"width\":1},\"lon\":[-111.0460967,-111.0461224,-111.0461327,-111.0461345,-111.0461356,-111.0461457,-111.0461489,-111.0461484,-111.0461497,-111.0461508,-111.0461497,-111.046142,-111.046138,-111.0461334,-111.04613,-111.0461568,-111.046179],\"marker\":{\"size\":10},\"mode\":\"lines\",\"name\":\"Undesired Edge\",\"type\":\"scattermapbox\"},{\"lat\":[45.7201505,45.7222417,45.7249003,45.725024,45.725893,45.726307,45.728144,45.728454,45.728684,45.728866,45.729005,45.7290555],\"line\":{\"color\":\"black\",\"width\":1},\"lon\":[-111.0730642,-111.0769981,-111.0821304,-111.082359,-111.084042,-111.0848019,-111.08836,-111.089006,-111.089605,-111.09019,-111.090747,-111.0909946],\"marker\":{\"size\":10},\"mode\":\"lines\",\"name\":\"Undesired Edge\",\"type\":\"scattermapbox\"},{\"lat\":[45.7206188,45.7204986],\"line\":{\"color\":\"black\",\"width\":1},\"lon\":[-111.066621,-111.0666063],\"marker\":{\"size\":10},\"mode\":\"lines\",\"name\":\"Undesired Edge\",\"type\":\"scattermapbox\"},{\"lat\":[45.718751,45.719049,45.719315,45.7194137,45.7195515,45.7196893,45.7203016,45.7204986],\"line\":{\"color\":\"black\",\"width\":1},\"lon\":[-111.066884,-111.066694,-111.066568,-111.0665393,-111.0665221,-111.0665135,-111.0665927,-111.0666063],\"marker\":{\"size\":10},\"mode\":\"lines\",\"name\":\"Undesired Edge\",\"type\":\"scattermapbox\"},{\"lat\":[45.718751,45.717921,45.7164713,45.715052,45.7126827,45.7106846,45.709819,45.709571,45.709348,45.709174,45.708974,45.708514,45.708129,45.70776,45.7074609,45.70722,45.706799,45.7064939,45.706331,45.70629,45.70616,45.706066,45.705955,45.705803,45.705506,45.7054136,45.7053,45.704777],\"line\":{\"color\":\"black\",\"width\":1},\"lon\":[-111.066884,-111.065304,-111.0624795,-111.0598,-111.0552492,-111.051431,-111.049777,-111.049308,-111.048924,-111.048642,-111.048361,-111.047805,-111.047434,-111.047132,-111.0469159,-111.046772,-111.046565,-111.0464332,-111.046387,-111.046375,-111.046337,-111.046316,-111.046291,-111.046257,-111.046216,-111.046207,-111.046196,-111.046179],\"marker\":{\"size\":10},\"mode\":\"lines\",\"name\":\"Undesired Edge\",\"type\":\"scattermapbox\"},{\"lat\":[45.718751,45.7200417,45.7221102,45.7269615,45.729096,45.730517],\"line\":{\"color\":\"black\",\"width\":1},\"lon\":[-111.066884,-111.0694335,-111.0734487,-111.0827636,-111.086905,-111.089727],\"marker\":{\"size\":10},\"mode\":\"lines\",\"name\":\"Undesired Edge\",\"type\":\"scattermapbox\"},{\"lat\":[45.6784485,45.6792566,45.6793885,45.6798018,45.6800583,45.6808092,45.6810859,45.6816264,45.682179,45.685796,45.6861566,45.6864799,45.6869299,45.6871984,45.6876029,45.6883024,45.688763,45.6899582,45.6930588,45.693145,45.6933107,45.693347,45.6947667,45.6948533,45.6950593,45.6952248,45.6956751,45.696012,45.6966695,45.6970244,45.6975215,45.697878,45.6984103,45.6993763,45.700276,45.7008104,45.7009171,45.7013097,45.7015807,45.7043078,45.7045047,45.7075581,45.7087775,45.7090294,45.7101675,45.7108461,45.7115028],\"line\":{\"color\":\"black\",\"width\":1},\"lon\":[-111.0626269,-111.062384,-111.0623668,-111.0622857,-111.0622353,-111.0622017,-111.0621819,-111.0621434,-111.062104,-111.0618736,-111.061884,-111.0619691,-111.0620875,-111.0621314,-111.0621563,-111.0622003,-111.0622205,-111.062272,-111.0623874,-111.0623906,-111.0624022,-111.0624047,-111.0623411,-111.0623337,-111.0623214,-111.0623148,-111.0623268,-111.0623846,-111.0625417,-111.0627082,-111.0630197,-111.0633103,-111.063813,-111.0647136,-111.0652044,-111.0653849,-111.0654211,-111.0655006,-111.0655351,-111.0655047,-111.0655026,-111.0654706,-111.0654318,-111.0654238,-111.0653876,-111.0653708,-111.065274],\"marker\":{\"size\":10},\"mode\":\"lines\",\"name\":\"Undesired Edge\",\"type\":\"scattermapbox\"},{\"lat\":[45.7802117,45.780117,45.7799023],\"line\":{\"color\":\"black\",\"width\":1},\"lon\":[-111.1848846,-111.1847018,-111.1842873],\"marker\":{\"size\":10},\"mode\":\"lines\",\"name\":\"Undesired Edge\",\"type\":\"scattermapbox\"},{\"lat\":[45.730517,45.7315483,45.7327189,45.7370132,45.7380661,45.7390847,45.7393302,45.7403334,45.7407551,45.7410626,45.7446752,45.7473,45.750096,45.7514629,45.7525884,45.752816,45.7533941,45.7541572,45.754279,45.754798,45.755395,45.7566716,45.757231,45.757971,45.759344,45.7614606,45.7624765,45.763232,45.765279,45.765792,45.766319,45.767382,45.768012,45.7680336],\"line\":{\"color\":\"black\",\"width\":1},\"lon\":[-111.089727,-111.0916773,-111.0939216,-111.1022027,-111.1042041,-111.1062048,-111.1066689,-111.1086096,-111.1094289,-111.1099948,-111.1169837,-111.122046,-111.127428,-111.1300801,-111.1322584,-111.1326966,-111.1337374,-111.1349029,-111.13511,-111.135891,-111.136871,-111.1392998,-111.140364,-111.141801,-111.144468,-111.148562,-111.1505272,-111.152001,-111.155933,-111.156938,-111.157957,-111.159991,-111.161215,-111.1612564],\"marker\":{\"size\":10},\"mode\":\"lines\",\"name\":\"Undesired Edge\",\"type\":\"scattermapbox\"},{\"lat\":[45.730517,45.729096,45.7269615,45.7221102,45.7200417,45.718751],\"line\":{\"color\":\"black\",\"width\":1},\"lon\":[-111.089727,-111.086905,-111.0827636,-111.0734487,-111.0694335,-111.066884],\"marker\":{\"size\":10},\"mode\":\"lines\",\"name\":\"Undesired Edge\",\"type\":\"scattermapbox\"},{\"lat\":[45.7115391,45.7115028],\"line\":{\"color\":\"black\",\"width\":1},\"lon\":[-111.0654327,-111.065274],\"marker\":{\"size\":10},\"mode\":\"lines\",\"name\":\"Undesired Edge\",\"type\":\"scattermapbox\"},{\"lat\":[45.7292643,45.7292556,45.7292505,45.729243,45.729193,45.729193,45.7292,45.729201,45.729209,45.7292153,45.7292156,45.729224,45.729236,45.729255,45.729266,45.729285,45.72929,45.7293,45.729326,45.7293389,45.729344,45.7293448,45.729345,45.729351,45.729351,45.72935,45.729352,45.729353,45.7293592,45.7293558,45.729322,45.729292,45.729286,45.729277,45.729268,45.729233,45.729215,45.729144,45.729127,45.729119,45.729119,45.72912,45.729124,45.729129,45.729143,45.729154,45.729166,45.72917,45.729217,45.729223,45.7292225,45.729222,45.729221,45.729178,45.729098,45.7290555],\"line\":{\"color\":\"black\",\"width\":1},\"lon\":[-111.185046,-111.1815151,-111.1794735,-111.178205,-111.169723,-111.16948,-111.164812,-111.16439,-111.159404,-111.1549155,-111.1547314,-111.150129,-111.148613,-111.146045,-111.144666,-111.141943,-111.141166,-111.139657,-111.136504,-111.135236,-111.134737,-111.1342407,-111.134147,-111.131867,-111.130394,-111.12829,-111.127495,-111.1273118,-111.1251725,-111.1238516,-111.121458,-111.119626,-111.118578,-111.117883,-111.117474,-111.115085,-111.1135017,-111.107259,-111.106013,-111.1039,-111.103649,-111.103091,-111.102756,-111.101971,-111.1007944,-111.098893,-111.098158,-111.097904,-111.094006,-111.093398,-111.093227,-111.093055,-111.092616,-111.091882,-111.09125,-111.0909946],\"marker\":{\"size\":10},\"mode\":\"lines\",\"name\":\"Undesired Edge\",\"type\":\"scattermapbox\"},{\"lat\":[45.704777,45.7053,45.7054136,45.705506,45.705803,45.705955,45.706066,45.70616,45.70629,45.706331,45.7064939,45.706799,45.70722,45.7074609,45.70776,45.708129,45.708514,45.708974,45.709174,45.709348,45.709571,45.709819,45.7106846,45.7126827,45.715052,45.7164713,45.717921,45.718751],\"line\":{\"color\":\"black\",\"width\":1},\"lon\":[-111.046179,-111.046196,-111.046207,-111.046216,-111.046257,-111.046291,-111.046316,-111.046337,-111.046375,-111.046387,-111.0464332,-111.046565,-111.046772,-111.0469159,-111.047132,-111.047434,-111.047805,-111.048361,-111.048642,-111.048924,-111.049308,-111.049777,-111.051431,-111.0552492,-111.0598,-111.0624795,-111.065304,-111.066884],\"marker\":{\"size\":10},\"mode\":\"lines\",\"name\":\"Undesired Edge\",\"type\":\"scattermapbox\"},{\"lat\":[45.704777,45.704343,45.704267,45.7041392,45.7030848,45.7022571,45.7018182,45.7018056,45.700837,45.7000019,45.6994772,45.699037,45.69891,45.698085],\"line\":{\"color\":\"black\",\"width\":1},\"lon\":[-111.046179,-111.046219,-111.0462208,-111.0462238,-111.0462484,-111.0462677,-111.0462788,-111.046278,-111.046278,-111.0462887,-111.0462985,-111.0463065,-111.046309,-111.046309],\"marker\":{\"size\":10},\"mode\":\"lines\",\"name\":\"Undesired Edge\",\"type\":\"scattermapbox\"},{\"lat\":[45.7290555,45.729098,45.729178,45.729221,45.729222,45.7292225,45.729223,45.729217,45.72917,45.729166,45.729154,45.729143,45.729129,45.729124,45.72912,45.729119,45.729119,45.729127,45.729144,45.729215,45.729233,45.729268,45.729277,45.729286,45.729292,45.729322,45.7293558,45.7293592,45.729353,45.729352,45.72935,45.729351,45.729351,45.729345,45.7293448,45.729344,45.7293389,45.729326,45.7293,45.72929,45.729285,45.729266,45.729255,45.729236,45.729224,45.7292156,45.7292153,45.729209,45.729201,45.7292,45.729193,45.729193,45.729243,45.7292505,45.7292556,45.7292643],\"line\":{\"color\":\"black\",\"width\":1},\"lon\":[-111.0909946,-111.09125,-111.091882,-111.092616,-111.093055,-111.093227,-111.093398,-111.094006,-111.097904,-111.098158,-111.098893,-111.1007944,-111.101971,-111.102756,-111.103091,-111.103649,-111.1039,-111.106013,-111.107259,-111.1135017,-111.115085,-111.117474,-111.117883,-111.118578,-111.119626,-111.121458,-111.1238516,-111.1251725,-111.1273118,-111.127495,-111.12829,-111.130394,-111.131867,-111.134147,-111.1342407,-111.134737,-111.135236,-111.136504,-111.139657,-111.141166,-111.141943,-111.144666,-111.146045,-111.148613,-111.150129,-111.1547314,-111.1549155,-111.159404,-111.16439,-111.164812,-111.16948,-111.169723,-111.178205,-111.1794735,-111.1815151,-111.185046],\"marker\":{\"size\":10},\"mode\":\"lines\",\"name\":\"Undesired Edge\",\"type\":\"scattermapbox\"},{\"lat\":[45.7290555,45.7291931,45.7293746,45.7295173,45.7302925,45.730517],\"line\":{\"color\":\"black\",\"width\":1},\"lon\":[-111.0909946,-111.0909579,-111.0908814,-111.0907668,-111.0899468,-111.089727],\"marker\":{\"size\":10},\"mode\":\"lines\",\"name\":\"Undesired Edge\",\"type\":\"scattermapbox\"},{\"lat\":[45.7290555,45.729005,45.728866,45.728684,45.728454,45.728144,45.726307,45.725893,45.725024,45.7249003,45.7222417,45.7201505],\"line\":{\"color\":\"black\",\"width\":1},\"lon\":[-111.0909946,-111.090747,-111.09019,-111.089605,-111.089006,-111.08836,-111.0848019,-111.084042,-111.082359,-111.0821304,-111.0769981,-111.0730642],\"marker\":{\"size\":10},\"mode\":\"lines\",\"name\":\"Undesired Edge\",\"type\":\"scattermapbox\"},{\"lat\":[45.7794703,45.7797613,45.7798548,45.7798874,45.7799023],\"line\":{\"color\":\"black\",\"width\":1},\"lon\":[-111.1848855,-111.1847213,-111.1845966,-111.1844845,-111.1842873],\"marker\":{\"size\":10},\"mode\":\"lines\",\"name\":\"Undesired Edge\",\"type\":\"scattermapbox\"},{\"lat\":[45.7116884,45.7117485,45.7118382,45.7119388,45.712054,45.7121907,45.7123703,45.7124686,45.7126209,45.7129185,45.7131227,45.7133098,45.7135295,45.7136923,45.7138742,45.7141828,45.7145036,45.7148945,45.7154823,45.7159738,45.716422,45.7168783,45.7170865,45.7172873,45.7176101,45.7180298,45.7183352,45.718654,45.718918,45.7192192,45.7195297,45.719806,45.7201505],\"line\":{\"color\":\"black\",\"width\":1},\"lon\":[-111.0654085,-111.0656269,-111.0658702,-111.0661315,-111.0663679,-111.0666125,-111.0668746,-111.067008,-111.0671855,-111.0674728,-111.0676525,-111.0678145,-111.067961,-111.0680504,-111.0681432,-111.0682593,-111.0683412,-111.0684346,-111.0685432,-111.0686587,-111.0687919,-111.0689684,-111.0690729,-111.0692158,-111.0694643,-111.0698041,-111.070084,-111.0704264,-111.0707694,-111.0712184,-111.0718288,-111.0723966,-111.0730642],\"marker\":{\"size\":10},\"mode\":\"lines\",\"name\":\"Undesired Edge\",\"type\":\"scattermapbox\"},{\"lat\":[45.7735925,45.7743218],\"line\":{\"color\":\"black\",\"width\":1},\"lon\":[-111.1621936,-111.161792],\"marker\":{\"size\":10},\"mode\":\"lines\",\"name\":\"Undesired Edge\",\"type\":\"scattermapbox\"},{\"lat\":[45.7737008,45.7736942],\"line\":{\"color\":\"black\",\"width\":1},\"lon\":[-111.1624162,-111.1625028],\"marker\":{\"size\":10},\"mode\":\"lines\",\"name\":\"Undesired Edge\",\"type\":\"scattermapbox\"},{\"lat\":[45.7744283,45.7743506,45.7742851,45.7742424,45.7742292,45.7742393,45.7742714,45.7743218],\"line\":{\"color\":\"black\",\"width\":1},\"lon\":[-111.1623132,-111.1622918,-111.1622283,-111.1621329,-111.1620378,-111.161942,-111.1618567,-111.161792],\"marker\":{\"size\":10},\"mode\":\"lines\",\"name\":\"Undesired Edge\",\"type\":\"scattermapbox\"},{\"lat\":[45.7749471,45.7750937,45.7751599,45.7752071,45.7752284,45.7752223,45.7751895,45.7751293],\"line\":{\"color\":\"black\",\"width\":1},\"lon\":[-111.1614883,-111.161485,-111.1615396,-111.1616256,-111.1617281,-111.1618347,-111.1619308,-111.1620124],\"marker\":{\"size\":10},\"mode\":\"lines\",\"name\":\"Undesired Edge\",\"type\":\"scattermapbox\"},{\"lat\":[45.7749471,45.7750937,45.7751599,45.7752071,45.7752284,45.7752223,45.7751895,45.7751293],\"line\":{\"color\":\"black\",\"width\":1},\"lon\":[-111.1614883,-111.161485,-111.1615396,-111.1616256,-111.1617281,-111.1618347,-111.1619308,-111.1620124],\"marker\":{\"size\":10},\"mode\":\"lines\",\"name\":\"Undesired Edge\",\"type\":\"scattermapbox\"},{\"lat\":[45.7751293,45.775065,45.7745055,45.7744283],\"line\":{\"color\":\"black\",\"width\":1},\"lon\":[-111.1620124,-111.1620419,-111.162289,-111.1623132],\"marker\":{\"size\":10},\"mode\":\"lines\",\"name\":\"Undesired Edge\",\"type\":\"scattermapbox\"},{\"lat\":[45.7612954,45.7612577,45.7612006,45.7611353,45.7609399,45.7607423,45.7601867,45.7600541,45.7599794,45.7599184,45.7598461,45.7597896,45.7597293,45.7596729,45.7596279,45.759599,45.7595937,45.7596128,45.7596534,45.7597097,45.7598131,45.759983,45.7601674,45.7607085,45.760811,45.7608893,45.760964,45.7610557,45.7611232,45.7611923],\"line\":{\"color\":\"black\",\"width\":1},\"lon\":[-111.1624313,-111.1625142,-111.1625696,-111.1625889,-111.1626153,-111.1626671,-111.1630178,-111.1631957,-111.1633546,-111.1634699,-111.1635527,-111.163583,-111.1635826,-111.1635516,-111.163494,-111.163412,-111.1633205,-111.1632328,-111.1631617,-111.1631178,-111.1630765,-111.1630351,-111.162947,-111.1625566,-111.1624478,-111.1623303,-111.1622042,-111.1621153,-111.1620895,-111.1621039],\"marker\":{\"size\":10},\"mode\":\"lines\",\"name\":\"Undesired Edge\",\"type\":\"scattermapbox\"},{\"lat\":[45.7680336,45.768012,45.767382,45.766319,45.765792,45.765279,45.763232,45.7624765,45.7614606,45.759344,45.757971,45.757231,45.7566716,45.755395,45.754798,45.754279,45.7541572,45.7533941,45.752816,45.7525884,45.7514629,45.750096,45.7473,45.7446752,45.7410626,45.7407551,45.7403334,45.7393302,45.7390847,45.7380661,45.7370132,45.7327189,45.7315483,45.730517],\"line\":{\"color\":\"black\",\"width\":1},\"lon\":[-111.1612564,-111.161215,-111.159991,-111.157957,-111.156938,-111.155933,-111.152001,-111.1505272,-111.148562,-111.144468,-111.141801,-111.140364,-111.1392998,-111.136871,-111.135891,-111.13511,-111.1349029,-111.1337374,-111.1326966,-111.1322584,-111.1300801,-111.127428,-111.122046,-111.1169837,-111.1099948,-111.1094289,-111.1086096,-111.1066689,-111.1062048,-111.1042041,-111.1022027,-111.0939216,-111.0916773,-111.089727],\"marker\":{\"size\":10},\"mode\":\"lines\",\"name\":\"Undesired Edge\",\"type\":\"scattermapbox\"},{\"lat\":[45.7680336,45.7691215,45.7696673,45.770136,45.7706244,45.7710304,45.7713146,45.7713684,45.7717158,45.7720479,45.7728972],\"line\":{\"color\":\"black\",\"width\":1},\"lon\":[-111.1612564,-111.1601673,-111.1597747,-111.1596112,-111.1596002,-111.1596833,-111.1598184,-111.1598442,-111.1600697,-111.1603894,-111.1615426],\"marker\":{\"size\":10},\"mode\":\"lines\",\"name\":\"Undesired Edge\",\"type\":\"scattermapbox\"},{\"lat\":[45.7680336,45.7671223,45.7668031],\"line\":{\"color\":\"black\",\"width\":1},\"lon\":[-111.1612564,-111.1621191,-111.1623748],\"marker\":{\"size\":10},\"mode\":\"lines\",\"name\":\"Undesired Edge\",\"type\":\"scattermapbox\"},{\"lat\":[45.7116407,45.7116884],\"line\":{\"color\":\"black\",\"width\":1},\"lon\":[-111.0652413,-111.0654085],\"marker\":{\"size\":10},\"mode\":\"lines\",\"name\":\"Undesired Edge\",\"type\":\"scattermapbox\"},{\"lat\":[45.7116407,45.7122039,45.7127549,45.7132527,45.7146055,45.7154705,45.7159217,45.7162873,45.7171336,45.7177506,45.717987,45.7182248,45.7184664,45.7187064,45.7189549,45.7192269,45.7196277,45.7198821,45.7201111,45.7201697,45.7202598,45.7203581,45.7206041,45.7206172,45.7206188],\"line\":{\"color\":\"black\",\"width\":1},\"lon\":[-111.0652413,-111.065085,-111.0648862,-111.0646956,-111.0641123,-111.0637516,-111.0635842,-111.0634616,-111.0631771,-111.0630542,-111.0630481,-111.0630713,-111.0631299,-111.0632198,-111.0633509,-111.0635429,-111.0639366,-111.0642822,-111.0646981,-111.0648315,-111.0650728,-111.0653593,-111.0663767,-111.066549,-111.066621],\"marker\":{\"size\":10},\"mode\":\"lines\",\"name\":\"Undesired Edge\",\"type\":\"scattermapbox\"},{\"lat\":[45.7204986,45.7203016,45.7196893,45.7195515,45.7194137,45.719315,45.719049,45.718751],\"line\":{\"color\":\"black\",\"width\":1},\"lon\":[-111.0666063,-111.0665927,-111.0665135,-111.0665221,-111.0665393,-111.066568,-111.066694,-111.066884],\"marker\":{\"size\":10},\"mode\":\"lines\",\"name\":\"Undesired Edge\",\"type\":\"scattermapbox\"},{\"lat\":[45.7204986,45.7205043,45.7205014,45.7203896,45.720263,45.7201149,45.7198833,45.7196505,45.7192484,45.7188207,45.7184369,45.7181032,45.7177779,45.7171899,45.7163341,45.7159808,45.7155968,45.7146991,45.714274,45.7132966,45.7128002,45.7122443,45.7116884],\"line\":{\"color\":\"black\",\"width\":1},\"lon\":[-111.0666063,-111.066509,-111.0662914,-111.0657547,-111.0653286,-111.0649189,-111.0644551,-111.0641131,-111.063687,-111.0633848,-111.0632262,-111.0631646,-111.0631539,-111.0632768,-111.0635651,-111.0637002,-111.0638514,-111.0642031,-111.064388,-111.0648174,-111.0650332,-111.0652501,-111.0654085],\"marker\":{\"size\":10},\"mode\":\"lines\",\"name\":\"Undesired Edge\",\"type\":\"scattermapbox\"},{\"lat\":[45.7734459,45.7734548,45.7735149,45.7735545,45.7735925],\"line\":{\"color\":\"black\",\"width\":1},\"lon\":[-111.1621971,-111.1621894,-111.1621721,-111.1621767,-111.1621936],\"marker\":{\"size\":10},\"mode\":\"lines\",\"name\":\"Undesired Edge\",\"type\":\"scattermapbox\"},{\"lat\":[45.7736942,45.7736679,45.773625,45.7735702,45.7735098],\"line\":{\"color\":\"black\",\"width\":1},\"lon\":[-111.1625028,-111.1625814,-111.1626431,-111.1626809,-111.1626906],\"marker\":{\"size\":10},\"mode\":\"lines\",\"name\":\"Undesired Edge\",\"type\":\"scattermapbox\"},{\"lat\":[45.773838,45.7736609,45.7735995,45.7735098],\"line\":{\"color\":\"black\",\"width\":1},\"lon\":[-111.1628965,-111.1627404,-111.1627094,-111.1626906],\"marker\":{\"size\":10},\"mode\":\"lines\",\"name\":\"Undesired Edge\",\"type\":\"scattermapbox\"},{\"lat\":[45.7728972,45.7732688,45.7733373,45.7734055,45.7734965,45.773561,45.7736298,45.7737652,45.7740416,45.7743218],\"line\":{\"color\":\"black\",\"width\":1},\"lon\":[-111.1615426,-111.1619153,-111.161967,-111.1620073,-111.1620337,-111.162039,-111.162029,-111.1619812,-111.1618853,-111.161792],\"marker\":{\"size\":10},\"mode\":\"lines\",\"name\":\"Undesired Edge\",\"type\":\"scattermapbox\"},{\"lat\":[45.7728972,45.7732034,45.7733211,45.7733614,45.7734,45.7734459],\"line\":{\"color\":\"black\",\"width\":1},\"lon\":[-111.1615426,-111.1619633,-111.1621066,-111.1621468,-111.1621771,-111.1621971],\"marker\":{\"size\":10},\"mode\":\"lines\",\"name\":\"Undesired Edge\",\"type\":\"scattermapbox\"},{\"lat\":[45.7735098,45.7734506,45.7733992,45.7733612,45.7733414,45.7733421],\"line\":{\"color\":\"black\",\"width\":1},\"lon\":[-111.1626906,-111.1626711,-111.1626246,-111.1625557,-111.1624726,-111.1623847],\"marker\":{\"size\":10},\"mode\":\"lines\",\"name\":\"Undesired Edge\",\"type\":\"scattermapbox\"},{\"lat\":[45.7658475,45.7657944,45.7657567,45.7657381,45.7657405,45.7657636],\"line\":{\"color\":\"black\",\"width\":1},\"lon\":[-111.1631762,-111.1631173,-111.1630377,-111.1629453,-111.1628491,-111.1627588],\"marker\":{\"size\":10},\"mode\":\"lines\",\"name\":\"Undesired Edge\",\"type\":\"scattermapbox\"},{\"lat\":[45.7658475,45.7656173,45.7653985,45.7649023],\"line\":{\"color\":\"black\",\"width\":1},\"lon\":[-111.1631762,-111.1631229,-111.1631184,-111.1631441],\"marker\":{\"size\":10},\"mode\":\"lines\",\"name\":\"Undesired Edge\",\"type\":\"scattermapbox\"},{\"lat\":[45.7649023,45.765494,45.7656257,45.7657119,45.7657636],\"line\":{\"color\":\"black\",\"width\":1},\"lon\":[-111.1631441,-111.162959,-111.162884,-111.1628003,-111.1627588],\"marker\":{\"size\":10},\"mode\":\"lines\",\"name\":\"Undesired Edge\",\"type\":\"scattermapbox\"},{\"lat\":[45.7659579,45.7660261,45.7660861,45.7661316,45.7661578,45.7661619],\"line\":{\"color\":\"black\",\"width\":1},\"lon\":[-111.1626024,-111.1626224,-111.1626728,-111.1627482,-111.1628406,-111.1629401],\"marker\":{\"size\":10},\"mode\":\"lines\",\"name\":\"Undesired Edge\",\"type\":\"scattermapbox\"},{\"lat\":[45.7668031,45.7663792,45.7662577,45.7661619],\"line\":{\"color\":\"black\",\"width\":1},\"lon\":[-111.1623748,-111.1626844,-111.1627924,-111.1629401],\"marker\":{\"size\":10},\"mode\":\"lines\",\"name\":\"Undesired Edge\",\"type\":\"scattermapbox\"},{\"lat\":[45.7611923,45.7613648,45.7616715,45.7619782,45.7622076,45.762467,45.7626318],\"line\":{\"color\":\"black\",\"width\":1},\"lon\":[-111.1621039,-111.1621365,-111.1621619,-111.1622219,-111.1622987,-111.1624253,-111.1626018],\"marker\":{\"size\":10},\"mode\":\"lines\",\"name\":\"Undesired Edge\",\"type\":\"scattermapbox\"},{\"lat\":[45.7611923,45.761252,45.7612926,45.7612998,45.7613076,45.7612954],\"line\":{\"color\":\"black\",\"width\":1},\"lon\":[-111.1621039,-111.1621559,-111.1622374,-111.1622837,-111.1623339,-111.1624313],\"marker\":{\"size\":10},\"mode\":\"lines\",\"name\":\"Undesired Edge\",\"type\":\"scattermapbox\"},{\"lat\":[45.7626318,45.7627526,45.7630822,45.7635938,45.7640456,45.7644813,45.7649023],\"line\":{\"color\":\"black\",\"width\":1},\"lon\":[-111.1626018,-111.1626643,-111.1628372,-111.1630342,-111.1631351,-111.163169,-111.1631441],\"marker\":{\"size\":10},\"mode\":\"lines\",\"name\":\"Undesired Edge\",\"type\":\"scattermapbox\"},{\"lat\":[45.6641318,45.663806,45.66032,45.6588042,45.6583551,45.6579457],\"line\":{\"color\":\"black\",\"width\":1},\"lon\":[-111.1042115,-111.1042141,-111.1042163,-111.1042167,-111.1042054,-111.1041627],\"marker\":{\"size\":10},\"mode\":\"lines\",\"name\":\"Undesired Edge\",\"type\":\"scattermapbox\"},{\"lat\":[45.6712491,45.6701193,45.6692068,45.6690109,45.668808,45.6681006,45.6672195,45.6652353,45.6651105,45.6647929,45.6645615,45.6641318],\"line\":{\"color\":\"black\",\"width\":1},\"lon\":[-111.104299,-111.1042958,-111.1043023,-111.1043037,-111.1043051,-111.1043069,-111.104306,-111.104304,-111.1043039,-111.1043036,-111.104297,-111.1042115],\"marker\":{\"size\":10},\"mode\":\"lines\",\"name\":\"Undesired Edge\",\"type\":\"scattermapbox\"},{\"lat\":[45.6579457,45.6583551,45.6588042,45.66032,45.663806,45.6641318],\"line\":{\"color\":\"black\",\"width\":1},\"lon\":[-111.1041627,-111.1042054,-111.1042167,-111.1042163,-111.1042141,-111.1042115],\"marker\":{\"size\":10},\"mode\":\"lines\",\"name\":\"Undesired Edge\",\"type\":\"scattermapbox\"},{\"lat\":[45.6579457,45.6577867,45.6576887,45.6575009,45.6573721,45.6572191,45.6571098,45.6570094,45.6569122,45.6568514,45.656781,45.6567276,45.656657],\"line\":{\"color\":\"black\",\"width\":1},\"lon\":[-111.1041627,-111.104198,-111.1041934,-111.1041656,-111.1041285,-111.1040648,-111.1040046,-111.1039455,-111.1039188,-111.1039188,-111.1039432,-111.1039744,-111.1040535],\"marker\":{\"size\":10},\"mode\":\"lines\",\"name\":\"Undesired Edge\",\"type\":\"scattermapbox\"},{\"lat\":[45.6549153,45.6545727,45.6539159,45.652816,45.651048,45.649696,45.648508,45.6456366,45.6439063,45.6428254,45.641979,45.639519,45.637573,45.6350078,45.6343828,45.627651,45.627539,45.627422,45.624618,45.623699,45.621175,45.620072,45.619896,45.6165881,45.615799,45.6129115,45.6121914,45.6103839,45.6095032,45.6084737,45.607343,45.607223,45.606641,45.604934,45.602806,45.598376,45.596834,45.596178,45.591109,45.591007,45.591012,45.59101,45.590928,45.590882,45.590717,45.590653,45.590617,45.590604,45.590601,45.590612,45.590615,45.5906408,45.5906496,45.590842,45.590846,45.590847,45.590847,45.590847,45.590851,45.590854,45.590865,45.590916,45.590934,45.590941,45.590941,45.590941,45.590969,45.591064,45.591265,45.591559,45.591794,45.591965,45.592117,45.592236,45.592388,45.592559,45.592663,45.592826,45.593107,45.59353,45.593744,45.598332,45.5998206,45.6038256,45.604642,45.605631,45.606445,45.607207,45.609439,45.610146,45.610836,45.612199,45.612744,45.612967,45.613836,45.614301,45.615667,45.617482,45.618425,45.619328,45.621293,45.6232604,45.624319,45.625103,45.625836,45.627123,45.627479,45.627914,45.628657,45.634597,45.6377238,45.6405503,45.6420261,45.6437967,45.6468854,45.6485202,45.649364,45.6529288,45.654793,45.6565764,45.6591546,45.660191,45.6621922,45.6634781,45.6636196,45.663923,45.6642268,45.6655614,45.6675701,45.669056,45.669767,45.670436,45.6709208,45.671106,45.671339,45.6716733,45.6720816,45.6725827,45.673303,45.675297,45.6758286,45.677278,45.677942,45.6784485],\"line\":{\"color\":\"black\",\"width\":1},\"lon\":[-111.104183,-111.1041922,-111.1042024,-111.1042054,-111.104229,-111.104232,-111.104244,-111.10426,-111.1042323,-111.1042254,-111.1042214,-111.104248,-111.104245,-111.1042416,-111.1042408,-111.104232,-111.104232,-111.104231,-111.104228,-111.104226,-111.104221,-111.104219,-111.104219,-111.1042085,-111.104206,-111.1042449,-111.1042377,-111.1042513,-111.1042773,-111.1043306,-111.104391,-111.104405,-111.104404,-111.104292,-111.104291,-111.10434,-111.104348,-111.1043589,-111.104443,-111.092354,-111.092326,-111.091993,-111.090979,-111.090779,-111.089957,-111.089551,-111.089262,-111.089071,-111.088896,-111.088562,-111.088474,-111.0881632,-111.0880511,-111.085734,-111.084268,-111.083915,-111.08388,-111.083684,-111.082087,-111.080688,-111.079852,-111.07593,-111.074027,-111.073253,-111.070417,-111.069649,-111.065553,-111.064786,-111.064128,-111.063566,-111.063281,-111.063073,-111.062947,-111.062861,-111.062764,-111.062678,-111.06264,-111.0626,-111.062551,-111.062529,-111.062533,-111.062592,-111.0626054,-111.0626416,-111.062649,-111.062665,-111.062669,-111.06268,-111.062697,-111.062708,-111.062705,-111.062715,-111.062713,-111.062714,-111.062715,-111.06272,-111.062709,-111.062699,-111.062702,-111.062692,-111.062683,-111.0626758,-111.062672,-111.062674,-111.062664,-111.062661,-111.062668,-111.06267,-111.062662,-111.0625952,-111.0626209,-111.0626123,-111.0626435,-111.062681,-111.0627577,-111.0627983,-111.0628091,-111.062853,-111.0628767,-111.062899,-111.0628705,-111.062859,-111.062837,-111.0628004,-111.0627965,-111.062788,-111.0627877,-111.0627862,-111.0627651,-111.062763,-111.062752,-111.062744,-111.0627149,-111.062711,-111.0626918,-111.0626752,-111.0626687,-111.0626702,-111.0626672,-111.0626431,-111.0626498,-111.0626217,-111.0626261,-111.0626269],\"marker\":{\"size\":10},\"mode\":\"lines\",\"name\":\"Undesired Edge\",\"type\":\"scattermapbox\"},{\"lat\":[45.6549153,45.6551966,45.6553832,45.6555017,45.6555397,45.6556638,45.6557801,45.6559042,45.6560581,45.6561369,45.6562417,45.6563257,45.6563683,45.6564214],\"line\":{\"color\":\"black\",\"width\":1},\"lon\":[-111.104183,-111.1041119,-111.1040782,-111.1040435,-111.1040323,-111.1039879,-111.1039343,-111.1038955,-111.1038733,-111.1038714,-111.1038677,-111.1038455,-111.1038178,-111.1037754],\"marker\":{\"size\":10},\"mode\":\"lines\",\"name\":\"Undesired Edge\",\"type\":\"scattermapbox\"},{\"lat\":[45.6564387,45.6563429,45.6562304,45.6561361,45.6560378,45.655946,45.6558142,45.6557004,45.6555272,45.6553953,45.6552518,45.6551161,45.6549153],\"line\":{\"color\":\"black\",\"width\":1},\"lon\":[-111.1040343,-111.1039896,-111.1039692,-111.1039581,-111.1039711,-111.1039859,-111.104021,-111.1040672,-111.1041283,-111.1041653,-111.1041949,-111.1042023,-111.104183],\"marker\":{\"size\":10},\"mode\":\"lines\",\"name\":\"Undesired Edge\",\"type\":\"scattermapbox\"},{\"lat\":[45.6564214,45.6564522,45.656498,45.6565506,45.6566037,45.6566508],\"line\":{\"color\":\"black\",\"width\":1},\"lon\":[-111.1037754,-111.1037221,-111.103682,-111.1036668,-111.1036782,-111.1037149],\"marker\":{\"size\":10},\"mode\":\"lines\",\"name\":\"Undesired Edge\",\"type\":\"scattermapbox\"},{\"lat\":[45.7649023,45.765494,45.7656257,45.7657119,45.7657636,45.7657636,45.7658505,45.7659026,45.7659579,45.7659579,45.7661415,45.7663089,45.7665568,45.7668031,45.7668031,45.7671223,45.7680336,45.7680336,45.7691215,45.7696673,45.770136,45.7706244,45.7710304,45.7713146,45.7713684,45.7717158,45.7720479,45.7728972,45.7728972,45.7732688,45.7733373,45.7734055,45.7734965,45.773561,45.7736298,45.7737652,45.7740416,45.7743218,45.7743218,45.7747986,45.7749471,45.7749471,45.7750937,45.7751599,45.7752071,45.7752284,45.7752223,45.7751895,45.7751293,45.7751293,45.775065,45.7745055,45.7744283],\"line\":{\"color\":\"blue\",\"width\":4},\"lon\":[-111.1631441,-111.162959,-111.162884,-111.1628003,-111.1627588,-111.1627588,-111.1626373,-111.1626098,-111.1626024,-111.1626024,-111.1625949,-111.162557,-111.1624758,-111.1623748,-111.1623748,-111.1621191,-111.1612564,-111.1612564,-111.1601673,-111.1597747,-111.1596112,-111.1596002,-111.1596833,-111.1598184,-111.1598442,-111.1600697,-111.1603894,-111.1615426,-111.1615426,-111.1619153,-111.161967,-111.1620073,-111.1620337,-111.162039,-111.162029,-111.1619812,-111.1618853,-111.161792,-111.161792,-111.1615604,-111.1614883,-111.1614883,-111.161485,-111.1615396,-111.1616256,-111.1617281,-111.1618347,-111.1619308,-111.1620124,-111.1620124,-111.1620419,-111.162289,-111.1623132],\"marker\":{\"size\":10},\"mode\":\"lines\",\"name\":\"Paths\",\"type\":\"scattermapbox\"},{\"lat\":[45.7116884,45.7115391,45.7115391,45.7115028,45.7115028,45.7116407,45.7116407,45.7122039,45.7127549,45.7132527,45.7146055,45.7154705,45.7159217,45.7162873,45.7171336,45.7177506,45.717987,45.7182248,45.7184664,45.7187064,45.7189549,45.7192269,45.7196277,45.7198821,45.7201111,45.7201697,45.7202598,45.7203581,45.7206041,45.7206172,45.7206188,45.7206188,45.7204986,45.7204986,45.7203016,45.7196893,45.7195515,45.7194137,45.719315,45.719049,45.718751,45.718751,45.717921,45.7164713,45.715052,45.7126827,45.7106846,45.709819,45.709571,45.709348,45.709174,45.708974,45.708514,45.708129,45.70776,45.7074609,45.70722,45.706799,45.7064939,45.706331,45.70629,45.70616,45.706066,45.705955,45.705803,45.705506,45.7054136,45.7053,45.704777,45.704777,45.704343,45.704267,45.7041392,45.7030848,45.7022571,45.7018182,45.7018056,45.700837,45.7000019,45.6994772,45.699037,45.69891,45.698085],\"line\":{\"color\":\"blue\",\"width\":4},\"lon\":[-111.0654085,-111.0654327,-111.0654327,-111.065274,-111.065274,-111.0652413,-111.0652413,-111.065085,-111.0648862,-111.0646956,-111.0641123,-111.0637516,-111.0635842,-111.0634616,-111.0631771,-111.0630542,-111.0630481,-111.0630713,-111.0631299,-111.0632198,-111.0633509,-111.0635429,-111.0639366,-111.0642822,-111.0646981,-111.0648315,-111.0650728,-111.0653593,-111.0663767,-111.066549,-111.066621,-111.066621,-111.0666063,-111.0666063,-111.0665927,-111.0665135,-111.0665221,-111.0665393,-111.066568,-111.066694,-111.066884,-111.066884,-111.065304,-111.0624795,-111.0598,-111.0552492,-111.051431,-111.049777,-111.049308,-111.048924,-111.048642,-111.048361,-111.047805,-111.047434,-111.047132,-111.0469159,-111.046772,-111.046565,-111.0464332,-111.046387,-111.046375,-111.046337,-111.046316,-111.046291,-111.046257,-111.046216,-111.046207,-111.046196,-111.046179,-111.046179,-111.046219,-111.0462208,-111.0462238,-111.0462484,-111.0462677,-111.0462788,-111.046278,-111.046278,-111.0462887,-111.0462985,-111.0463065,-111.046309,-111.046309],\"marker\":{\"size\":10},\"mode\":\"lines\",\"name\":\"Paths\",\"type\":\"scattermapbox\"}],                        {\"mapbox\":{\"center\":{\"lat\":45.70258223108696,\"lon\":-111.11452824913043},\"style\":\"open-street-map\",\"zoom\":13},\"margin\":{\"b\":0,\"l\":0,\"r\":0,\"t\":0},\"template\":{\"data\":{\"bar\":[{\"error_x\":{\"color\":\"#2a3f5f\"},\"error_y\":{\"color\":\"#2a3f5f\"},\"marker\":{\"line\":{\"color\":\"#E5ECF6\",\"width\":0.5},\"pattern\":{\"fillmode\":\"overlay\",\"size\":10,\"solidity\":0.2}},\"type\":\"bar\"}],\"barpolar\":[{\"marker\":{\"line\":{\"color\":\"#E5ECF6\",\"width\":0.5},\"pattern\":{\"fillmode\":\"overlay\",\"size\":10,\"solidity\":0.2}},\"type\":\"barpolar\"}],\"carpet\":[{\"aaxis\":{\"endlinecolor\":\"#2a3f5f\",\"gridcolor\":\"white\",\"linecolor\":\"white\",\"minorgridcolor\":\"white\",\"startlinecolor\":\"#2a3f5f\"},\"baxis\":{\"endlinecolor\":\"#2a3f5f\",\"gridcolor\":\"white\",\"linecolor\":\"white\",\"minorgridcolor\":\"white\",\"startlinecolor\":\"#2a3f5f\"},\"type\":\"carpet\"}],\"choropleth\":[{\"colorbar\":{\"outlinewidth\":0,\"ticks\":\"\"},\"type\":\"choropleth\"}],\"contour\":[{\"colorbar\":{\"outlinewidth\":0,\"ticks\":\"\"},\"colorscale\":[[0.0,\"#0d0887\"],[0.1111111111111111,\"#46039f\"],[0.2222222222222222,\"#7201a8\"],[0.3333333333333333,\"#9c179e\"],[0.4444444444444444,\"#bd3786\"],[0.5555555555555556,\"#d8576b\"],[0.6666666666666666,\"#ed7953\"],[0.7777777777777778,\"#fb9f3a\"],[0.8888888888888888,\"#fdca26\"],[1.0,\"#f0f921\"]],\"type\":\"contour\"}],\"contourcarpet\":[{\"colorbar\":{\"outlinewidth\":0,\"ticks\":\"\"},\"type\":\"contourcarpet\"}],\"heatmap\":[{\"colorbar\":{\"outlinewidth\":0,\"ticks\":\"\"},\"colorscale\":[[0.0,\"#0d0887\"],[0.1111111111111111,\"#46039f\"],[0.2222222222222222,\"#7201a8\"],[0.3333333333333333,\"#9c179e\"],[0.4444444444444444,\"#bd3786\"],[0.5555555555555556,\"#d8576b\"],[0.6666666666666666,\"#ed7953\"],[0.7777777777777778,\"#fb9f3a\"],[0.8888888888888888,\"#fdca26\"],[1.0,\"#f0f921\"]],\"type\":\"heatmap\"}],\"heatmapgl\":[{\"colorbar\":{\"outlinewidth\":0,\"ticks\":\"\"},\"colorscale\":[[0.0,\"#0d0887\"],[0.1111111111111111,\"#46039f\"],[0.2222222222222222,\"#7201a8\"],[0.3333333333333333,\"#9c179e\"],[0.4444444444444444,\"#bd3786\"],[0.5555555555555556,\"#d8576b\"],[0.6666666666666666,\"#ed7953\"],[0.7777777777777778,\"#fb9f3a\"],[0.8888888888888888,\"#fdca26\"],[1.0,\"#f0f921\"]],\"type\":\"heatmapgl\"}],\"histogram\":[{\"marker\":{\"pattern\":{\"fillmode\":\"overlay\",\"size\":10,\"solidity\":0.2}},\"type\":\"histogram\"}],\"histogram2d\":[{\"colorbar\":{\"outlinewidth\":0,\"ticks\":\"\"},\"colorscale\":[[0.0,\"#0d0887\"],[0.1111111111111111,\"#46039f\"],[0.2222222222222222,\"#7201a8\"],[0.3333333333333333,\"#9c179e\"],[0.4444444444444444,\"#bd3786\"],[0.5555555555555556,\"#d8576b\"],[0.6666666666666666,\"#ed7953\"],[0.7777777777777778,\"#fb9f3a\"],[0.8888888888888888,\"#fdca26\"],[1.0,\"#f0f921\"]],\"type\":\"histogram2d\"}],\"histogram2dcontour\":[{\"colorbar\":{\"outlinewidth\":0,\"ticks\":\"\"},\"colorscale\":[[0.0,\"#0d0887\"],[0.1111111111111111,\"#46039f\"],[0.2222222222222222,\"#7201a8\"],[0.3333333333333333,\"#9c179e\"],[0.4444444444444444,\"#bd3786\"],[0.5555555555555556,\"#d8576b\"],[0.6666666666666666,\"#ed7953\"],[0.7777777777777778,\"#fb9f3a\"],[0.8888888888888888,\"#fdca26\"],[1.0,\"#f0f921\"]],\"type\":\"histogram2dcontour\"}],\"mesh3d\":[{\"colorbar\":{\"outlinewidth\":0,\"ticks\":\"\"},\"type\":\"mesh3d\"}],\"parcoords\":[{\"line\":{\"colorbar\":{\"outlinewidth\":0,\"ticks\":\"\"}},\"type\":\"parcoords\"}],\"pie\":[{\"automargin\":true,\"type\":\"pie\"}],\"scatter\":[{\"marker\":{\"colorbar\":{\"outlinewidth\":0,\"ticks\":\"\"}},\"type\":\"scatter\"}],\"scatter3d\":[{\"line\":{\"colorbar\":{\"outlinewidth\":0,\"ticks\":\"\"}},\"marker\":{\"colorbar\":{\"outlinewidth\":0,\"ticks\":\"\"}},\"type\":\"scatter3d\"}],\"scattercarpet\":[{\"marker\":{\"colorbar\":{\"outlinewidth\":0,\"ticks\":\"\"}},\"type\":\"scattercarpet\"}],\"scattergeo\":[{\"marker\":{\"colorbar\":{\"outlinewidth\":0,\"ticks\":\"\"}},\"type\":\"scattergeo\"}],\"scattergl\":[{\"marker\":{\"colorbar\":{\"outlinewidth\":0,\"ticks\":\"\"}},\"type\":\"scattergl\"}],\"scattermapbox\":[{\"marker\":{\"colorbar\":{\"outlinewidth\":0,\"ticks\":\"\"}},\"type\":\"scattermapbox\"}],\"scatterpolar\":[{\"marker\":{\"colorbar\":{\"outlinewidth\":0,\"ticks\":\"\"}},\"type\":\"scatterpolar\"}],\"scatterpolargl\":[{\"marker\":{\"colorbar\":{\"outlinewidth\":0,\"ticks\":\"\"}},\"type\":\"scatterpolargl\"}],\"scatterternary\":[{\"marker\":{\"colorbar\":{\"outlinewidth\":0,\"ticks\":\"\"}},\"type\":\"scatterternary\"}],\"surface\":[{\"colorbar\":{\"outlinewidth\":0,\"ticks\":\"\"},\"colorscale\":[[0.0,\"#0d0887\"],[0.1111111111111111,\"#46039f\"],[0.2222222222222222,\"#7201a8\"],[0.3333333333333333,\"#9c179e\"],[0.4444444444444444,\"#bd3786\"],[0.5555555555555556,\"#d8576b\"],[0.6666666666666666,\"#ed7953\"],[0.7777777777777778,\"#fb9f3a\"],[0.8888888888888888,\"#fdca26\"],[1.0,\"#f0f921\"]],\"type\":\"surface\"}],\"table\":[{\"cells\":{\"fill\":{\"color\":\"#EBF0F8\"},\"line\":{\"color\":\"white\"}},\"header\":{\"fill\":{\"color\":\"#C8D4E3\"},\"line\":{\"color\":\"white\"}},\"type\":\"table\"}]},\"layout\":{\"annotationdefaults\":{\"arrowcolor\":\"#2a3f5f\",\"arrowhead\":0,\"arrowwidth\":1},\"autotypenumbers\":\"strict\",\"coloraxis\":{\"colorbar\":{\"outlinewidth\":0,\"ticks\":\"\"}},\"colorscale\":{\"diverging\":[[0,\"#8e0152\"],[0.1,\"#c51b7d\"],[0.2,\"#de77ae\"],[0.3,\"#f1b6da\"],[0.4,\"#fde0ef\"],[0.5,\"#f7f7f7\"],[0.6,\"#e6f5d0\"],[0.7,\"#b8e186\"],[0.8,\"#7fbc41\"],[0.9,\"#4d9221\"],[1,\"#276419\"]],\"sequential\":[[0.0,\"#0d0887\"],[0.1111111111111111,\"#46039f\"],[0.2222222222222222,\"#7201a8\"],[0.3333333333333333,\"#9c179e\"],[0.4444444444444444,\"#bd3786\"],[0.5555555555555556,\"#d8576b\"],[0.6666666666666666,\"#ed7953\"],[0.7777777777777778,\"#fb9f3a\"],[0.8888888888888888,\"#fdca26\"],[1.0,\"#f0f921\"]],\"sequentialminus\":[[0.0,\"#0d0887\"],[0.1111111111111111,\"#46039f\"],[0.2222222222222222,\"#7201a8\"],[0.3333333333333333,\"#9c179e\"],[0.4444444444444444,\"#bd3786\"],[0.5555555555555556,\"#d8576b\"],[0.6666666666666666,\"#ed7953\"],[0.7777777777777778,\"#fb9f3a\"],[0.8888888888888888,\"#fdca26\"],[1.0,\"#f0f921\"]]},\"colorway\":[\"#636efa\",\"#EF553B\",\"#00cc96\",\"#ab63fa\",\"#FFA15A\",\"#19d3f3\",\"#FF6692\",\"#B6E880\",\"#FF97FF\",\"#FECB52\"],\"font\":{\"color\":\"#2a3f5f\"},\"geo\":{\"bgcolor\":\"white\",\"lakecolor\":\"white\",\"landcolor\":\"#E5ECF6\",\"showlakes\":true,\"showland\":true,\"subunitcolor\":\"white\"},\"hoverlabel\":{\"align\":\"left\"},\"hovermode\":\"closest\",\"mapbox\":{\"style\":\"light\"},\"paper_bgcolor\":\"white\",\"plot_bgcolor\":\"#E5ECF6\",\"polar\":{\"angularaxis\":{\"gridcolor\":\"white\",\"linecolor\":\"white\",\"ticks\":\"\"},\"bgcolor\":\"#E5ECF6\",\"radialaxis\":{\"gridcolor\":\"white\",\"linecolor\":\"white\",\"ticks\":\"\"}},\"scene\":{\"xaxis\":{\"backgroundcolor\":\"#E5ECF6\",\"gridcolor\":\"white\",\"gridwidth\":2,\"linecolor\":\"white\",\"showbackground\":true,\"ticks\":\"\",\"zerolinecolor\":\"white\"},\"yaxis\":{\"backgroundcolor\":\"#E5ECF6\",\"gridcolor\":\"white\",\"gridwidth\":2,\"linecolor\":\"white\",\"showbackground\":true,\"ticks\":\"\",\"zerolinecolor\":\"white\"},\"zaxis\":{\"backgroundcolor\":\"#E5ECF6\",\"gridcolor\":\"white\",\"gridwidth\":2,\"linecolor\":\"white\",\"showbackground\":true,\"ticks\":\"\",\"zerolinecolor\":\"white\"}},\"shapedefaults\":{\"line\":{\"color\":\"#2a3f5f\"}},\"ternary\":{\"aaxis\":{\"gridcolor\":\"white\",\"linecolor\":\"white\",\"ticks\":\"\"},\"baxis\":{\"gridcolor\":\"white\",\"linecolor\":\"white\",\"ticks\":\"\"},\"bgcolor\":\"#E5ECF6\",\"caxis\":{\"gridcolor\":\"white\",\"linecolor\":\"white\",\"ticks\":\"\"}},\"title\":{\"x\":0.05},\"xaxis\":{\"automargin\":true,\"gridcolor\":\"white\",\"linecolor\":\"white\",\"ticks\":\"\",\"title\":{\"standoff\":15},\"zerolinecolor\":\"white\",\"zerolinewidth\":2},\"yaxis\":{\"automargin\":true,\"gridcolor\":\"white\",\"linecolor\":\"white\",\"ticks\":\"\",\"title\":{\"standoff\":15},\"zerolinecolor\":\"white\",\"zerolinewidth\":2}}}},                        {\"responsive\": true}                    ).then(function(){\n",
       "                            \n",
       "var gd = document.getElementById('90bb8113-4dc7-48a0-a57f-af31b8111d4e');\n",
       "var x = new MutationObserver(function (mutations, observer) {{\n",
       "        var display = window.getComputedStyle(gd).display;\n",
       "        if (!display || display === 'none') {{\n",
       "            console.log([gd, 'removed!']);\n",
       "            Plotly.purge(gd);\n",
       "            observer.disconnect();\n",
       "        }}\n",
       "}});\n",
       "\n",
       "// Listen for the removal of the full notebook cells\n",
       "var notebookContainer = gd.closest('#notebook-container');\n",
       "if (notebookContainer) {{\n",
       "    x.observe(notebookContainer, {childList: true});\n",
       "}}\n",
       "\n",
       "// Listen for the clearing of the current output cell\n",
       "var outputEl = gd.closest('.output');\n",
       "if (outputEl) {{\n",
       "    x.observe(outputEl, {childList: true});\n",
       "}}\n",
       "\n",
       "                        })                };                });            </script>        </div>"
      ]
     },
     "metadata": {},
     "output_type": "display_data"
    }
   ],
   "source": [
    "plot_graph(reqlati, reqlongi, [nreqlati, nreqlongi], depotNodesLat, depotNodesLong, normalNodesLat, normalNodesLong, routeLatLong)"
   ]
  },
  {
   "cell_type": "code",
   "execution_count": 30,
   "metadata": {
    "colab": {
     "base_uri": "https://localhost:8080/",
     "height": 121
    },
    "id": "2TegxFIf53ER",
    "outputId": "e9b8cf53-9710-4a6b-eed4-65e8b485fa1e"
   },
   "outputs": [],
   "source": [
    "# # Getting the start and end node of this part \n",
    "# start_node=route[-7] \n",
    "# end_node=route[-6]\n",
    "# # Getting the edge connecting these nodes and storing it as a list in z to maintain the data structure of G.edges \n",
    "# z = []  \n",
    "# for i in list(G.edges(data=True)):\n",
    "#      if (i[0]==start_node) & (i[1]==end_node):\n",
    "#          z.append(i)\n",
    " \n",
    "# z[0][2]['geometry']"
   ]
  },
  {
   "cell_type": "code",
   "execution_count": 31,
   "metadata": {
    "colab": {
     "base_uri": "https://localhost:8080/"
    },
    "id": "kNwpolPU6NSJ",
    "outputId": "6367765a-28f7-48da-9288-277196f3fc0f"
   },
   "outputs": [
    {
     "ename": "NameError",
     "evalue": "name 'lat' is not defined",
     "output_type": "error",
     "traceback": [
      "\u001b[1;31m---------------------------------------------------------------------------\u001b[0m",
      "\u001b[1;31mNameError\u001b[0m                                 Traceback (most recent call last)",
      "\u001b[1;32m~\\AppData\\Local\\Temp/ipykernel_48452/3749904060.py\u001b[0m in \u001b[0;36m<module>\u001b[1;34m\u001b[0m\n\u001b[1;32m----> 1\u001b[1;33m \u001b[0mprint\u001b[0m\u001b[1;33m(\u001b[0m\u001b[1;34m\"Length of lat: \"\u001b[0m\u001b[1;33m,\u001b[0m \u001b[0mlen\u001b[0m\u001b[1;33m(\u001b[0m\u001b[0mlat\u001b[0m\u001b[1;33m)\u001b[0m\u001b[1;33m)\u001b[0m\u001b[1;33m\u001b[0m\u001b[1;33m\u001b[0m\u001b[0m\n\u001b[0m\u001b[0;32m      2\u001b[0m \u001b[0mprint\u001b[0m\u001b[1;33m(\u001b[0m\u001b[1;34m\"Length of lat2: \"\u001b[0m\u001b[1;33m,\u001b[0m \u001b[0mlen\u001b[0m\u001b[1;33m(\u001b[0m\u001b[0mlat2\u001b[0m\u001b[1;33m)\u001b[0m\u001b[1;33m)\u001b[0m\u001b[1;33m\u001b[0m\u001b[1;33m\u001b[0m\u001b[0m\n",
      "\u001b[1;31mNameError\u001b[0m: name 'lat' is not defined"
     ]
    }
   ],
   "source": [
    "print(\"Length of lat: \", len(lat))\n",
    "print(\"Length of lat2: \", len(lat2))\n"
   ]
  },
  {
   "cell_type": "code",
   "execution_count": 32,
   "metadata": {
    "colab": {
     "base_uri": "https://localhost:8080/",
     "height": 542
    },
    "id": "dXEUWkCh6Wud",
    "outputId": "5e1fb267-a0b6-4743-d0d6-00e9908f2add"
   },
   "outputs": [
    {
     "ename": "NameError",
     "evalue": "name 'plot_path' is not defined",
     "output_type": "error",
     "traceback": [
      "\u001b[1;31m---------------------------------------------------------------------------\u001b[0m",
      "\u001b[1;31mNameError\u001b[0m                                 Traceback (most recent call last)",
      "\u001b[1;32m~\\AppData\\Local\\Temp/ipykernel_48452/714135530.py\u001b[0m in \u001b[0;36m<module>\u001b[1;34m\u001b[0m\n\u001b[1;32m----> 1\u001b[1;33m \u001b[0mplot_path\u001b[0m\u001b[1;33m(\u001b[0m\u001b[0mlat2\u001b[0m\u001b[1;33m,\u001b[0m \u001b[0mlong2\u001b[0m\u001b[1;33m,\u001b[0m \u001b[0morigin_point\u001b[0m\u001b[1;33m,\u001b[0m \u001b[0mdestination_point\u001b[0m\u001b[1;33m)\u001b[0m\u001b[1;33m\u001b[0m\u001b[1;33m\u001b[0m\u001b[0m\n\u001b[0m",
      "\u001b[1;31mNameError\u001b[0m: name 'plot_path' is not defined"
     ]
    }
   ],
   "source": [
    "plot_path(lat2, long2, origin_point, destination_point)"
   ]
  },
  {
   "cell_type": "code",
   "execution_count": null,
   "metadata": {},
   "outputs": [],
   "source": []
  },
  {
   "cell_type": "code",
   "execution_count": 13,
   "metadata": {
    "id": "L01SVCTn5Uul"
   },
   "outputs": [],
   "source": [
    "# def plot_path(lat, long, origin_point, destination_point):\n",
    "    \n",
    "#     \"\"\"\n",
    "#     Given a list of latitudes and longitudes, origin \n",
    "#     and destination point, plots a path on a map\n",
    "    \n",
    "#     Parameters\n",
    "#     ----------\n",
    "#     lat, long: list of latitudes and longitudes\n",
    "#     origin_point, destination_point: co-ordinates of origin\n",
    "#     and destination\n",
    "#     Returns\n",
    "#     -------\n",
    "#     Nothing. Only shows the map.\n",
    "#     \"\"\"\n",
    "#     # adding the lines joining the nodes\n",
    "#     fig = go.Figure(go.Scattermapbox(\n",
    "#         name = \"Path\",\n",
    "#         mode = \"lines\",\n",
    "#         lon = long,\n",
    "#         lat = lat,\n",
    "#         marker = {'size': 10},\n",
    "#         line = dict(width = 4.5, color = 'blue')))\n",
    "#     # adding source marker\n",
    "#     fig.add_trace(go.Scattermapbox(\n",
    "#         name = \"Source\",\n",
    "#         mode = \"markers\",\n",
    "#         lon = [origin_point[1]],\n",
    "#         lat = [origin_point[0]],\n",
    "#         marker = {'size': 12, 'color':\"red\"}))\n",
    "     \n",
    "#     # adding destination marker\n",
    "#     fig.add_trace(go.Scattermapbox(\n",
    "#         name = \"Destination\",\n",
    "#         mode = \"markers\",\n",
    "#         lon = [destination_point[1]],\n",
    "#         lat = [destination_point[0]],\n",
    "#         marker = {'size': 12, 'color':'green'}))\n",
    "    \n",
    "#     # getting center for plots:\n",
    "#     lat_center = np.mean(lat)\n",
    "#     long_center = np.mean(long)\n",
    "#     # defining the layout using mapbox_style\n",
    "#     fig.update_layout(mapbox_style=\"stamen-terrain\",\n",
    "#         mapbox_center_lat = 30, mapbox_center_lon=-80)\n",
    "#     fig.update_layout(margin={\"r\":0,\"t\":0,\"l\":0,\"b\":0},\n",
    "#                       mapbox = {\n",
    "#                           'center': {'lat': lat_center, \n",
    "#                           'lon': long_center},\n",
    "#                           'zoom': 13})\n",
    "#     fig.show()"
   ]
  }
 ],
 "metadata": {
  "colab": {
   "collapsed_sections": [
    "mnk4eoQaRsXo"
   ],
   "name": "map_to_graph",
   "provenance": []
  },
  "kernelspec": {
   "display_name": "Python (osmnx)",
   "language": "python",
   "name": "icy_road"
  },
  "language_info": {
   "codemirror_mode": {
    "name": "ipython",
    "version": 3
   },
   "file_extension": ".py",
   "mimetype": "text/x-python",
   "name": "python",
   "nbconvert_exporter": "python",
   "pygments_lexer": "ipython3",
   "version": "3.8.10"
  }
 },
 "nbformat": 4,
 "nbformat_minor": 1
}
